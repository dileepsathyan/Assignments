{
 "cells": [
  {
   "cell_type": "code",
   "execution_count": 172,
   "metadata": {},
   "outputs": [],
   "source": [
    "import numpy as np\n",
    "import pandas as pd\n",
    "\n",
    "import seaborn as sns\n",
    "import matplotlib.pyplot as plt\n",
    "%matplotlib inline"
   ]
  },
  {
   "cell_type": "markdown",
   "metadata": {},
   "source": [
    "# Import Dataset"
   ]
  },
  {
   "cell_type": "code",
   "execution_count": 201,
   "metadata": {},
   "outputs": [],
   "source": [
    "xls_path = pd.ExcelFile('/Users/dileepsathyan/Documents/GitHub/Assignments/Vroom Virtusa/Analytics_Dataset.xlsx')\n",
    "df_car_sales   = pd.read_excel(xls_path, 'car_sales')\n",
    "df_car_details = pd.read_excel(xls_path, 'car_details')\n",
    "df_car_claims  = pd.read_excel(xls_path, 'car_claims')"
   ]
  },
  {
   "cell_type": "code",
   "execution_count": 177,
   "metadata": {},
   "outputs": [
    {
     "data": {
      "text/html": [
       "<div>\n",
       "<style scoped>\n",
       "    .dataframe tbody tr th:only-of-type {\n",
       "        vertical-align: middle;\n",
       "    }\n",
       "\n",
       "    .dataframe tbody tr th {\n",
       "        vertical-align: top;\n",
       "    }\n",
       "\n",
       "    .dataframe thead th {\n",
       "        text-align: right;\n",
       "    }\n",
       "</style>\n",
       "<table border=\"1\" class=\"dataframe\">\n",
       "  <thead>\n",
       "    <tr style=\"text-align: right;\">\n",
       "      <th></th>\n",
       "      <th>car_id_sales</th>\n",
       "      <th>country</th>\n",
       "      <th>merchant_id</th>\n",
       "      <th>selling_date</th>\n",
       "      <th>selling_week</th>\n",
       "      <th>payment_date</th>\n",
       "      <th>sell_price</th>\n",
       "      <th>transport_to_merchant</th>\n",
       "      <th>transport_date</th>\n",
       "    </tr>\n",
       "  </thead>\n",
       "  <tbody>\n",
       "    <tr>\n",
       "      <th>0</th>\n",
       "      <td>3421775349</td>\n",
       "      <td>ES</td>\n",
       "      <td>NaN</td>\n",
       "      <td>2021-04-29</td>\n",
       "      <td>2021-17</td>\n",
       "      <td>2021-05-14</td>\n",
       "      <td>1098</td>\n",
       "      <td>1</td>\n",
       "      <td>2021-05-31</td>\n",
       "    </tr>\n",
       "    <tr>\n",
       "      <th>1</th>\n",
       "      <td>5316743932</td>\n",
       "      <td>DE</td>\n",
       "      <td>NaN</td>\n",
       "      <td>2021-08-06</td>\n",
       "      <td>2021-31</td>\n",
       "      <td>2021-08-17</td>\n",
       "      <td>435</td>\n",
       "      <td>1</td>\n",
       "      <td>2021-08-31</td>\n",
       "    </tr>\n",
       "    <tr>\n",
       "      <th>2</th>\n",
       "      <td>5785159431</td>\n",
       "      <td>FR</td>\n",
       "      <td>NaN</td>\n",
       "      <td>2021-06-03</td>\n",
       "      <td>2021-22</td>\n",
       "      <td>2021-06-08</td>\n",
       "      <td>11028</td>\n",
       "      <td>0</td>\n",
       "      <td>NaN</td>\n",
       "    </tr>\n",
       "    <tr>\n",
       "      <th>3</th>\n",
       "      <td>7008763171</td>\n",
       "      <td>DE</td>\n",
       "      <td>NaN</td>\n",
       "      <td>2021-06-07</td>\n",
       "      <td>2021-23</td>\n",
       "      <td>2021-06-08</td>\n",
       "      <td>21100</td>\n",
       "      <td>1</td>\n",
       "      <td>NaN</td>\n",
       "    </tr>\n",
       "    <tr>\n",
       "      <th>4</th>\n",
       "      <td>1417558732</td>\n",
       "      <td>DE</td>\n",
       "      <td>NaN</td>\n",
       "      <td>2021-08-31</td>\n",
       "      <td>2021-35</td>\n",
       "      <td>2021-09-02</td>\n",
       "      <td>1943</td>\n",
       "      <td>1</td>\n",
       "      <td>2021-09-09</td>\n",
       "    </tr>\n",
       "  </tbody>\n",
       "</table>\n",
       "</div>"
      ],
      "text/plain": [
       "   car_id_sales country  merchant_id selling_date selling_week payment_date  \\\n",
       "0    3421775349      ES          NaN   2021-04-29      2021-17   2021-05-14   \n",
       "1    5316743932      DE          NaN   2021-08-06      2021-31   2021-08-17   \n",
       "2    5785159431      FR          NaN   2021-06-03      2021-22   2021-06-08   \n",
       "3    7008763171      DE          NaN   2021-06-07      2021-23   2021-06-08   \n",
       "4    1417558732      DE          NaN   2021-08-31      2021-35   2021-09-02   \n",
       "\n",
       "   sell_price  transport_to_merchant transport_date  \n",
       "0        1098                      1     2021-05-31  \n",
       "1         435                      1     2021-08-31  \n",
       "2       11028                      0            NaN  \n",
       "3       21100                      1            NaN  \n",
       "4        1943                      1     2021-09-09  "
      ]
     },
     "execution_count": 177,
     "metadata": {},
     "output_type": "execute_result"
    }
   ],
   "source": [
    "df_car_sales.head()"
   ]
  },
  {
   "cell_type": "code",
   "execution_count": 178,
   "metadata": {},
   "outputs": [
    {
     "data": {
      "text/html": [
       "<div>\n",
       "<style scoped>\n",
       "    .dataframe tbody tr th:only-of-type {\n",
       "        vertical-align: middle;\n",
       "    }\n",
       "\n",
       "    .dataframe tbody tr th {\n",
       "        vertical-align: top;\n",
       "    }\n",
       "\n",
       "    .dataframe thead th {\n",
       "        text-align: right;\n",
       "    }\n",
       "</style>\n",
       "<table border=\"1\" class=\"dataframe\">\n",
       "  <thead>\n",
       "    <tr style=\"text-align: right;\">\n",
       "      <th></th>\n",
       "      <th>car_id_details</th>\n",
       "      <th>has_tuning</th>\n",
       "      <th>has_airbags</th>\n",
       "      <th>has_alarm_system</th>\n",
       "      <th>fuel_type</th>\n",
       "      <th>gear_type</th>\n",
       "      <th>ac_type</th>\n",
       "      <th>xenon_light</th>\n",
       "      <th>navigation_system</th>\n",
       "      <th>radio_system</th>\n",
       "    </tr>\n",
       "  </thead>\n",
       "  <tbody>\n",
       "    <tr>\n",
       "      <th>0</th>\n",
       "      <td>5096178328</td>\n",
       "      <td>1</td>\n",
       "      <td>1</td>\n",
       "      <td>0</td>\n",
       "      <td>1039</td>\n",
       "      <td>1141</td>\n",
       "      <td>1049</td>\n",
       "      <td>0</td>\n",
       "      <td>1100</td>\n",
       "      <td>3534.0</td>\n",
       "    </tr>\n",
       "    <tr>\n",
       "      <th>1</th>\n",
       "      <td>1879501444</td>\n",
       "      <td>0</td>\n",
       "      <td>1</td>\n",
       "      <td>1</td>\n",
       "      <td>1039</td>\n",
       "      <td>1138</td>\n",
       "      <td>1049</td>\n",
       "      <td>0</td>\n",
       "      <td>0</td>\n",
       "      <td>3534.0</td>\n",
       "    </tr>\n",
       "    <tr>\n",
       "      <th>2</th>\n",
       "      <td>8375508078</td>\n",
       "      <td>1</td>\n",
       "      <td>1</td>\n",
       "      <td>1</td>\n",
       "      <td>1039</td>\n",
       "      <td>1139</td>\n",
       "      <td>0</td>\n",
       "      <td>0</td>\n",
       "      <td>0</td>\n",
       "      <td>1606.0</td>\n",
       "    </tr>\n",
       "    <tr>\n",
       "      <th>3</th>\n",
       "      <td>1266330246</td>\n",
       "      <td>0</td>\n",
       "      <td>1</td>\n",
       "      <td>0</td>\n",
       "      <td>1040</td>\n",
       "      <td>1139</td>\n",
       "      <td>1050</td>\n",
       "      <td>0</td>\n",
       "      <td>0</td>\n",
       "      <td>3534.0</td>\n",
       "    </tr>\n",
       "    <tr>\n",
       "      <th>4</th>\n",
       "      <td>9079520882</td>\n",
       "      <td>0</td>\n",
       "      <td>0</td>\n",
       "      <td>0</td>\n",
       "      <td>1039</td>\n",
       "      <td>1141</td>\n",
       "      <td>0</td>\n",
       "      <td>0</td>\n",
       "      <td>1100</td>\n",
       "      <td>3534.0</td>\n",
       "    </tr>\n",
       "  </tbody>\n",
       "</table>\n",
       "</div>"
      ],
      "text/plain": [
       "   car_id_details  has_tuning  has_airbags  has_alarm_system  fuel_type  \\\n",
       "0      5096178328           1            1                 0       1039   \n",
       "1      1879501444           0            1                 1       1039   \n",
       "2      8375508078           1            1                 1       1039   \n",
       "3      1266330246           0            1                 0       1040   \n",
       "4      9079520882           0            0                 0       1039   \n",
       "\n",
       "   gear_type  ac_type  xenon_light  navigation_system  radio_system  \n",
       "0       1141     1049            0               1100        3534.0  \n",
       "1       1138     1049            0                  0        3534.0  \n",
       "2       1139        0            0                  0        1606.0  \n",
       "3       1139     1050            0                  0        3534.0  \n",
       "4       1141        0            0               1100        3534.0  "
      ]
     },
     "execution_count": 178,
     "metadata": {},
     "output_type": "execute_result"
    }
   ],
   "source": [
    "df_car_details.head()"
   ]
  },
  {
   "cell_type": "code",
   "execution_count": 179,
   "metadata": {},
   "outputs": [
    {
     "data": {
      "text/html": [
       "<div>\n",
       "<style scoped>\n",
       "    .dataframe tbody tr th:only-of-type {\n",
       "        vertical-align: middle;\n",
       "    }\n",
       "\n",
       "    .dataframe tbody tr th {\n",
       "        vertical-align: top;\n",
       "    }\n",
       "\n",
       "    .dataframe thead th {\n",
       "        text-align: right;\n",
       "    }\n",
       "</style>\n",
       "<table border=\"1\" class=\"dataframe\">\n",
       "  <thead>\n",
       "    <tr style=\"text-align: right;\">\n",
       "      <th></th>\n",
       "      <th>car_id_claims</th>\n",
       "      <th>claim_number</th>\n",
       "      <th>full_refunds</th>\n",
       "      <th>partial_refunds</th>\n",
       "      <th>voucher_amount</th>\n",
       "      <th>claim_status</th>\n",
       "    </tr>\n",
       "  </thead>\n",
       "  <tbody>\n",
       "    <tr>\n",
       "      <th>0</th>\n",
       "      <td>7525691980</td>\n",
       "      <td>NaN</td>\n",
       "      <td>0</td>\n",
       "      <td>0</td>\n",
       "      <td>NaN</td>\n",
       "      <td>NaN</td>\n",
       "    </tr>\n",
       "    <tr>\n",
       "      <th>1</th>\n",
       "      <td>8543168465</td>\n",
       "      <td>C1AG79687</td>\n",
       "      <td>0</td>\n",
       "      <td>1</td>\n",
       "      <td>620.140528</td>\n",
       "      <td>CLOSED_FULLY_PROCESSED</td>\n",
       "    </tr>\n",
       "    <tr>\n",
       "      <th>2</th>\n",
       "      <td>7308726237</td>\n",
       "      <td>NaN</td>\n",
       "      <td>0</td>\n",
       "      <td>0</td>\n",
       "      <td>NaN</td>\n",
       "      <td>NaN</td>\n",
       "    </tr>\n",
       "    <tr>\n",
       "      <th>3</th>\n",
       "      <td>9070724843</td>\n",
       "      <td>NaN</td>\n",
       "      <td>0</td>\n",
       "      <td>0</td>\n",
       "      <td>NaN</td>\n",
       "      <td>NaN</td>\n",
       "    </tr>\n",
       "    <tr>\n",
       "      <th>4</th>\n",
       "      <td>6274074693</td>\n",
       "      <td>NaN</td>\n",
       "      <td>0</td>\n",
       "      <td>0</td>\n",
       "      <td>NaN</td>\n",
       "      <td>NaN</td>\n",
       "    </tr>\n",
       "  </tbody>\n",
       "</table>\n",
       "</div>"
      ],
      "text/plain": [
       "   car_id_claims claim_number  full_refunds  partial_refunds  voucher_amount  \\\n",
       "0     7525691980          NaN             0                0             NaN   \n",
       "1     8543168465    C1AG79687             0                1      620.140528   \n",
       "2     7308726237          NaN             0                0             NaN   \n",
       "3     9070724843          NaN             0                0             NaN   \n",
       "4     6274074693          NaN             0                0             NaN   \n",
       "\n",
       "             claim_status  \n",
       "0                     NaN  \n",
       "1  CLOSED_FULLY_PROCESSED  \n",
       "2                     NaN  \n",
       "3                     NaN  \n",
       "4                     NaN  "
      ]
     },
     "execution_count": 179,
     "metadata": {},
     "output_type": "execute_result"
    }
   ],
   "source": [
    "df_car_claims.head()"
   ]
  },
  {
   "cell_type": "markdown",
   "metadata": {},
   "source": [
    "# Data Cleaning"
   ]
  },
  {
   "cell_type": "markdown",
   "metadata": {},
   "source": [
    "## 1. Car_Sales Dataframe Cleaning"
   ]
  },
  {
   "cell_type": "code",
   "execution_count": 203,
   "metadata": {},
   "outputs": [
    {
     "data": {
      "text/plain": [
       "(70512, 9)"
      ]
     },
     "execution_count": 203,
     "metadata": {},
     "output_type": "execute_result"
    }
   ],
   "source": [
    "df_car_sales.shape"
   ]
  },
  {
   "cell_type": "code",
   "execution_count": 204,
   "metadata": {},
   "outputs": [
    {
     "data": {
      "text/plain": [
       "(69618, 9)"
      ]
     },
     "execution_count": 204,
     "metadata": {},
     "output_type": "execute_result"
    }
   ],
   "source": [
    "df_car_sales.drop_duplicates(inplace=True)\n",
    "df_car_sales.shape"
   ]
  },
  {
   "cell_type": "markdown",
   "metadata": {},
   "source": [
    "#### Convert to right datatypes"
   ]
  },
  {
   "cell_type": "code",
   "execution_count": 205,
   "metadata": {},
   "outputs": [
    {
     "name": "stdout",
     "output_type": "stream",
     "text": [
      "<class 'pandas.core.frame.DataFrame'>\n",
      "RangeIndex: 69618 entries, 0 to 69617\n",
      "Data columns (total 9 columns):\n",
      " #   Column                 Non-Null Count  Dtype         \n",
      "---  ------                 --------------  -----         \n",
      " 0   car_id                 69618 non-null  int64         \n",
      " 1   country                69618 non-null  object        \n",
      " 2   merchant_id            19088 non-null  float64       \n",
      " 3   selling_date           69618 non-null  datetime64[ns]\n",
      " 4   selling_week           69618 non-null  object        \n",
      " 5   payment_date           69618 non-null  datetime64[ns]\n",
      " 6   sell_price             69618 non-null  int64         \n",
      " 7   transport_to_merchant  69618 non-null  int64         \n",
      " 8   transport_date         32689 non-null  datetime64[ns]\n",
      "dtypes: datetime64[ns](3), float64(1), int64(3), object(2)\n",
      "memory usage: 4.8+ MB\n"
     ]
    }
   ],
   "source": [
    "# df_car_sales['car_id_sales'] = df_car_sales['car_id_sales'].astype('str')\n",
    "# df_car_sales['merchant_id'] = df_car_sales['merchant_id'].astype('str')\n",
    "\n",
    "df_car_sales['selling_date'] = pd.to_datetime(df_car_sales['selling_date'])\n",
    "df_car_sales['payment_date'] = pd.to_datetime(df_car_sales['payment_date'])\n",
    "df_car_sales['transport_date'] = pd.to_datetime(df_car_sales['transport_date'])\n",
    "\n",
    "# Rename primary column\n",
    "df_car_sales.rename(columns={'car_id_sales': 'car_id'}, inplace=True)\n",
    "\n",
    "# Reset index\n",
    "df_car_sales.reset_index(drop=True, inplace=True)\n",
    "\n",
    "df_car_sales.info()"
   ]
  },
  {
   "cell_type": "code",
   "execution_count": 206,
   "metadata": {},
   "outputs": [
    {
     "data": {
      "text/html": [
       "<div>\n",
       "<style scoped>\n",
       "    .dataframe tbody tr th:only-of-type {\n",
       "        vertical-align: middle;\n",
       "    }\n",
       "\n",
       "    .dataframe tbody tr th {\n",
       "        vertical-align: top;\n",
       "    }\n",
       "\n",
       "    .dataframe thead th {\n",
       "        text-align: right;\n",
       "    }\n",
       "</style>\n",
       "<table border=\"1\" class=\"dataframe\">\n",
       "  <thead>\n",
       "    <tr style=\"text-align: right;\">\n",
       "      <th></th>\n",
       "      <th>car_id</th>\n",
       "      <th>country</th>\n",
       "      <th>merchant_id</th>\n",
       "      <th>selling_date</th>\n",
       "      <th>selling_week</th>\n",
       "      <th>payment_date</th>\n",
       "      <th>sell_price</th>\n",
       "      <th>transport_to_merchant</th>\n",
       "      <th>transport_date</th>\n",
       "    </tr>\n",
       "  </thead>\n",
       "  <tbody>\n",
       "    <tr>\n",
       "      <th>24276</th>\n",
       "      <td>5805619905</td>\n",
       "      <td>BE</td>\n",
       "      <td>16191229.0</td>\n",
       "      <td>2021-07-31</td>\n",
       "      <td>2021-30</td>\n",
       "      <td>2021-08-03</td>\n",
       "      <td>22596</td>\n",
       "      <td>1</td>\n",
       "      <td>2021-08-04</td>\n",
       "    </tr>\n",
       "    <tr>\n",
       "      <th>46323</th>\n",
       "      <td>5805619905</td>\n",
       "      <td>BE</td>\n",
       "      <td>14307587.0</td>\n",
       "      <td>2021-07-31</td>\n",
       "      <td>2021-30</td>\n",
       "      <td>2021-08-03</td>\n",
       "      <td>22596</td>\n",
       "      <td>1</td>\n",
       "      <td>2021-08-04</td>\n",
       "    </tr>\n",
       "  </tbody>\n",
       "</table>\n",
       "</div>"
      ],
      "text/plain": [
       "           car_id country  merchant_id selling_date selling_week payment_date  \\\n",
       "24276  5805619905      BE   16191229.0   2021-07-31      2021-30   2021-08-03   \n",
       "46323  5805619905      BE   14307587.0   2021-07-31      2021-30   2021-08-03   \n",
       "\n",
       "       sell_price  transport_to_merchant transport_date  \n",
       "24276       22596                      1     2021-08-04  \n",
       "46323       22596                      1     2021-08-04  "
      ]
     },
     "execution_count": 206,
     "metadata": {},
     "output_type": "execute_result"
    }
   ],
   "source": [
    "# Notice that the same car_ids are repeated for different merchant_ids\n",
    "\n",
    "df_car_sales[df_car_sales['car_id'] == 5805619905]"
   ]
  },
  {
   "cell_type": "code",
   "execution_count": 207,
   "metadata": {},
   "outputs": [
    {
     "data": {
      "text/plain": [
       "8819318.0     823\n",
       "5482442.0      97\n",
       "2593085.0      92\n",
       "6717821.0      64\n",
       "2491964.0      62\n",
       "             ... \n",
       "3451474.0       1\n",
       "6902952.0       1\n",
       "5854417.0       1\n",
       "6903110.0       1\n",
       "10485917.0      1\n",
       "Name: merchant_id, Length: 9102, dtype: int64"
      ]
     },
     "execution_count": 207,
     "metadata": {},
     "output_type": "execute_result"
    }
   ],
   "source": [
    "# There are merchant_ids who bought so many cars.\n",
    "\n",
    "df_car_sales.merchant_id.value_counts()"
   ]
  },
  {
   "cell_type": "code",
   "execution_count": 208,
   "metadata": {},
   "outputs": [
    {
     "name": "stdout",
     "output_type": "stream",
     "text": [
      "<class 'pandas.core.frame.DataFrame'>\n",
      "Int64Index: 69551 entries, 0 to 69617\n",
      "Data columns (total 9 columns):\n",
      " #   Column                 Non-Null Count  Dtype         \n",
      "---  ------                 --------------  -----         \n",
      " 0   car_id                 69551 non-null  int64         \n",
      " 1   country                69551 non-null  object        \n",
      " 2   merchant_id            19021 non-null  float64       \n",
      " 3   selling_date           69551 non-null  datetime64[ns]\n",
      " 4   selling_week           69551 non-null  object        \n",
      " 5   payment_date           69551 non-null  datetime64[ns]\n",
      " 6   sell_price             69551 non-null  int64         \n",
      " 7   transport_to_merchant  69551 non-null  int64         \n",
      " 8   transport_date         32654 non-null  datetime64[ns]\n",
      "dtypes: datetime64[ns](3), float64(1), int64(3), object(2)\n",
      "memory usage: 5.3+ MB\n"
     ]
    }
   ],
   "source": [
    "#### As long as we have no clarity on the correct Merchant who bought a car, it doesnt matter which record we delete.\n",
    "#### Lets keep car_id only once and delete all following records for the sale.\n",
    "\n",
    "df_car_sales = df_car_sales.drop_duplicates(subset='car_id', keep=\"first\")\n",
    "df_car_sales.info()"
   ]
  },
  {
   "cell_type": "code",
   "execution_count": 219,
   "metadata": {
    "scrolled": true
   },
   "outputs": [
    {
     "data": {
      "text/html": [
       "<div>\n",
       "<style scoped>\n",
       "    .dataframe tbody tr th:only-of-type {\n",
       "        vertical-align: middle;\n",
       "    }\n",
       "\n",
       "    .dataframe tbody tr th {\n",
       "        vertical-align: top;\n",
       "    }\n",
       "\n",
       "    .dataframe thead th {\n",
       "        text-align: right;\n",
       "    }\n",
       "</style>\n",
       "<table border=\"1\" class=\"dataframe\">\n",
       "  <thead>\n",
       "    <tr style=\"text-align: right;\">\n",
       "      <th></th>\n",
       "      <th>car_id</th>\n",
       "      <th>country</th>\n",
       "      <th>merchant_id</th>\n",
       "      <th>selling_date</th>\n",
       "      <th>selling_week</th>\n",
       "      <th>payment_date</th>\n",
       "      <th>sell_price</th>\n",
       "      <th>transport_to_merchant</th>\n",
       "      <th>transport_date</th>\n",
       "    </tr>\n",
       "  </thead>\n",
       "  <tbody>\n",
       "    <tr>\n",
       "      <th>0</th>\n",
       "      <td>3421775349</td>\n",
       "      <td>ES</td>\n",
       "      <td>NaN</td>\n",
       "      <td>2021-04-29</td>\n",
       "      <td>2021-17</td>\n",
       "      <td>2021-05-14</td>\n",
       "      <td>1098</td>\n",
       "      <td>1</td>\n",
       "      <td>2021-05-31</td>\n",
       "    </tr>\n",
       "    <tr>\n",
       "      <th>1</th>\n",
       "      <td>5316743932</td>\n",
       "      <td>DE</td>\n",
       "      <td>NaN</td>\n",
       "      <td>2021-08-06</td>\n",
       "      <td>2021-31</td>\n",
       "      <td>2021-08-17</td>\n",
       "      <td>435</td>\n",
       "      <td>1</td>\n",
       "      <td>2021-08-31</td>\n",
       "    </tr>\n",
       "    <tr>\n",
       "      <th>2</th>\n",
       "      <td>5785159431</td>\n",
       "      <td>FR</td>\n",
       "      <td>NaN</td>\n",
       "      <td>2021-06-03</td>\n",
       "      <td>2021-22</td>\n",
       "      <td>2021-06-08</td>\n",
       "      <td>11028</td>\n",
       "      <td>0</td>\n",
       "      <td>NaT</td>\n",
       "    </tr>\n",
       "    <tr>\n",
       "      <th>3</th>\n",
       "      <td>7008763171</td>\n",
       "      <td>DE</td>\n",
       "      <td>NaN</td>\n",
       "      <td>2021-06-07</td>\n",
       "      <td>2021-23</td>\n",
       "      <td>2021-06-08</td>\n",
       "      <td>21100</td>\n",
       "      <td>1</td>\n",
       "      <td>NaT</td>\n",
       "    </tr>\n",
       "    <tr>\n",
       "      <th>4</th>\n",
       "      <td>1417558732</td>\n",
       "      <td>DE</td>\n",
       "      <td>NaN</td>\n",
       "      <td>2021-08-31</td>\n",
       "      <td>2021-35</td>\n",
       "      <td>2021-09-02</td>\n",
       "      <td>1943</td>\n",
       "      <td>1</td>\n",
       "      <td>2021-09-09</td>\n",
       "    </tr>\n",
       "  </tbody>\n",
       "</table>\n",
       "</div>"
      ],
      "text/plain": [
       "       car_id country  merchant_id selling_date selling_week payment_date  \\\n",
       "0  3421775349      ES          NaN   2021-04-29      2021-17   2021-05-14   \n",
       "1  5316743932      DE          NaN   2021-08-06      2021-31   2021-08-17   \n",
       "2  5785159431      FR          NaN   2021-06-03      2021-22   2021-06-08   \n",
       "3  7008763171      DE          NaN   2021-06-07      2021-23   2021-06-08   \n",
       "4  1417558732      DE          NaN   2021-08-31      2021-35   2021-09-02   \n",
       "\n",
       "   sell_price  transport_to_merchant transport_date  \n",
       "0        1098                      1     2021-05-31  \n",
       "1         435                      1     2021-08-31  \n",
       "2       11028                      0            NaT  \n",
       "3       21100                      1            NaT  \n",
       "4        1943                      1     2021-09-09  "
      ]
     },
     "execution_count": 219,
     "metadata": {},
     "output_type": "execute_result"
    }
   ],
   "source": [
    "df_car_sales.head()"
   ]
  },
  {
   "cell_type": "markdown",
   "metadata": {},
   "source": [
    "## Car_Details Dataframe Cleaning"
   ]
  },
  {
   "cell_type": "code",
   "execution_count": 149,
   "metadata": {},
   "outputs": [
    {
     "data": {
      "text/plain": [
       "(70512, 10)"
      ]
     },
     "execution_count": 149,
     "metadata": {},
     "output_type": "execute_result"
    }
   ],
   "source": [
    "df_car_details.shape"
   ]
  },
  {
   "cell_type": "code",
   "execution_count": 150,
   "metadata": {},
   "outputs": [
    {
     "data": {
      "text/plain": [
       "(70034, 10)"
      ]
     },
     "execution_count": 150,
     "metadata": {},
     "output_type": "execute_result"
    }
   ],
   "source": [
    "df_car_details.drop_duplicates(inplace=True)\n",
    "df_car_details.shape"
   ]
  },
  {
   "cell_type": "code",
   "execution_count": 151,
   "metadata": {},
   "outputs": [
    {
     "name": "stdout",
     "output_type": "stream",
     "text": [
      "<class 'pandas.core.frame.DataFrame'>\n",
      "Int64Index: 70034 entries, 0 to 70511\n",
      "Data columns (total 10 columns):\n",
      " #   Column             Non-Null Count  Dtype  \n",
      "---  ------             --------------  -----  \n",
      " 0   car_id_details     70034 non-null  int64  \n",
      " 1   has_tuning         70034 non-null  int64  \n",
      " 2   has_airbags        70034 non-null  int64  \n",
      " 3   has_alarm_system   70034 non-null  int64  \n",
      " 4   fuel_type          70034 non-null  int64  \n",
      " 5   gear_type          70034 non-null  int64  \n",
      " 6   ac_type            70034 non-null  int64  \n",
      " 7   xenon_light        70034 non-null  int64  \n",
      " 8   navigation_system  70034 non-null  int64  \n",
      " 9   radio_system       43494 non-null  float64\n",
      "dtypes: float64(1), int64(9)\n",
      "memory usage: 5.9 MB\n"
     ]
    }
   ],
   "source": [
    "df_car_details.info()"
   ]
  },
  {
   "cell_type": "markdown",
   "metadata": {},
   "source": [
    "#### Convert to right datatypes"
   ]
  },
  {
   "cell_type": "code",
   "execution_count": 152,
   "metadata": {},
   "outputs": [
    {
     "name": "stdout",
     "output_type": "stream",
     "text": [
      "<class 'pandas.core.frame.DataFrame'>\n",
      "RangeIndex: 70034 entries, 0 to 70033\n",
      "Data columns (total 10 columns):\n",
      " #   Column             Non-Null Count  Dtype  \n",
      "---  ------             --------------  -----  \n",
      " 0   car_id             70034 non-null  object \n",
      " 1   has_tuning         70034 non-null  int64  \n",
      " 2   has_airbags        70034 non-null  int64  \n",
      " 3   has_alarm_system   70034 non-null  int64  \n",
      " 4   fuel_type          70034 non-null  int64  \n",
      " 5   gear_type          70034 non-null  int64  \n",
      " 6   ac_type            70034 non-null  int64  \n",
      " 7   xenon_light        70034 non-null  int64  \n",
      " 8   navigation_system  70034 non-null  int64  \n",
      " 9   radio_system       43494 non-null  float64\n",
      "dtypes: float64(1), int64(8), object(1)\n",
      "memory usage: 5.3+ MB\n"
     ]
    }
   ],
   "source": [
    "df_car_details['car_id_details'] = df_car_details['car_id_details'].astype('str')\n",
    "\n",
    "# Rename primary column\n",
    "df_car_details.rename(columns={'car_id_details': 'car_id'}, inplace=True)\n",
    "\n",
    "# Reset index\n",
    "df_car_details.reset_index(drop=True, inplace=True)\n",
    "\n",
    "df_car_details.info()"
   ]
  },
  {
   "cell_type": "code",
   "execution_count": 153,
   "metadata": {},
   "outputs": [
    {
     "data": {
      "text/html": [
       "<div>\n",
       "<style scoped>\n",
       "    .dataframe tbody tr th:only-of-type {\n",
       "        vertical-align: middle;\n",
       "    }\n",
       "\n",
       "    .dataframe tbody tr th {\n",
       "        vertical-align: top;\n",
       "    }\n",
       "\n",
       "    .dataframe thead th {\n",
       "        text-align: right;\n",
       "    }\n",
       "</style>\n",
       "<table border=\"1\" class=\"dataframe\">\n",
       "  <thead>\n",
       "    <tr style=\"text-align: right;\">\n",
       "      <th></th>\n",
       "      <th>car_id</th>\n",
       "      <th>has_tuning</th>\n",
       "      <th>has_airbags</th>\n",
       "      <th>has_alarm_system</th>\n",
       "      <th>fuel_type</th>\n",
       "      <th>gear_type</th>\n",
       "      <th>ac_type</th>\n",
       "      <th>xenon_light</th>\n",
       "      <th>navigation_system</th>\n",
       "      <th>radio_system</th>\n",
       "    </tr>\n",
       "  </thead>\n",
       "  <tbody>\n",
       "    <tr>\n",
       "      <th>0</th>\n",
       "      <td>5096178328</td>\n",
       "      <td>1</td>\n",
       "      <td>1</td>\n",
       "      <td>0</td>\n",
       "      <td>1039</td>\n",
       "      <td>1141</td>\n",
       "      <td>1049</td>\n",
       "      <td>0</td>\n",
       "      <td>1100</td>\n",
       "      <td>3534.0</td>\n",
       "    </tr>\n",
       "    <tr>\n",
       "      <th>1</th>\n",
       "      <td>1879501444</td>\n",
       "      <td>0</td>\n",
       "      <td>1</td>\n",
       "      <td>1</td>\n",
       "      <td>1039</td>\n",
       "      <td>1138</td>\n",
       "      <td>1049</td>\n",
       "      <td>0</td>\n",
       "      <td>0</td>\n",
       "      <td>3534.0</td>\n",
       "    </tr>\n",
       "    <tr>\n",
       "      <th>2</th>\n",
       "      <td>8375508078</td>\n",
       "      <td>1</td>\n",
       "      <td>1</td>\n",
       "      <td>1</td>\n",
       "      <td>1039</td>\n",
       "      <td>1139</td>\n",
       "      <td>0</td>\n",
       "      <td>0</td>\n",
       "      <td>0</td>\n",
       "      <td>1606.0</td>\n",
       "    </tr>\n",
       "    <tr>\n",
       "      <th>3</th>\n",
       "      <td>1266330246</td>\n",
       "      <td>0</td>\n",
       "      <td>1</td>\n",
       "      <td>0</td>\n",
       "      <td>1040</td>\n",
       "      <td>1139</td>\n",
       "      <td>1050</td>\n",
       "      <td>0</td>\n",
       "      <td>0</td>\n",
       "      <td>3534.0</td>\n",
       "    </tr>\n",
       "    <tr>\n",
       "      <th>4</th>\n",
       "      <td>9079520882</td>\n",
       "      <td>0</td>\n",
       "      <td>0</td>\n",
       "      <td>0</td>\n",
       "      <td>1039</td>\n",
       "      <td>1141</td>\n",
       "      <td>0</td>\n",
       "      <td>0</td>\n",
       "      <td>1100</td>\n",
       "      <td>3534.0</td>\n",
       "    </tr>\n",
       "  </tbody>\n",
       "</table>\n",
       "</div>"
      ],
      "text/plain": [
       "       car_id  has_tuning  has_airbags  has_alarm_system  fuel_type  \\\n",
       "0  5096178328           1            1                 0       1039   \n",
       "1  1879501444           0            1                 1       1039   \n",
       "2  8375508078           1            1                 1       1039   \n",
       "3  1266330246           0            1                 0       1040   \n",
       "4  9079520882           0            0                 0       1039   \n",
       "\n",
       "   gear_type  ac_type  xenon_light  navigation_system  radio_system  \n",
       "0       1141     1049            0               1100        3534.0  \n",
       "1       1138     1049            0                  0        3534.0  \n",
       "2       1139        0            0                  0        1606.0  \n",
       "3       1139     1050            0                  0        3534.0  \n",
       "4       1141        0            0               1100        3534.0  "
      ]
     },
     "execution_count": 153,
     "metadata": {},
     "output_type": "execute_result"
    }
   ],
   "source": [
    "df_car_details.head()"
   ]
  },
  {
   "cell_type": "markdown",
   "metadata": {},
   "source": [
    "## Car_Claims Dataframe Cleaning"
   ]
  },
  {
   "cell_type": "code",
   "execution_count": 154,
   "metadata": {},
   "outputs": [
    {
     "data": {
      "text/plain": [
       "(70512, 6)"
      ]
     },
     "execution_count": 154,
     "metadata": {},
     "output_type": "execute_result"
    }
   ],
   "source": [
    "df_car_claims.shape"
   ]
  },
  {
   "cell_type": "code",
   "execution_count": 155,
   "metadata": {},
   "outputs": [
    {
     "data": {
      "text/plain": [
       "(70504, 6)"
      ]
     },
     "execution_count": 155,
     "metadata": {},
     "output_type": "execute_result"
    }
   ],
   "source": [
    "df_car_claims.drop_duplicates(inplace=True)\n",
    "df_car_claims.shape"
   ]
  },
  {
   "cell_type": "code",
   "execution_count": 156,
   "metadata": {},
   "outputs": [
    {
     "name": "stdout",
     "output_type": "stream",
     "text": [
      "<class 'pandas.core.frame.DataFrame'>\n",
      "Int64Index: 70504 entries, 0 to 70511\n",
      "Data columns (total 6 columns):\n",
      " #   Column           Non-Null Count  Dtype  \n",
      "---  ------           --------------  -----  \n",
      " 0   car_id_claims    70504 non-null  int64  \n",
      " 1   claim_number     19974 non-null  object \n",
      " 2   full_refunds     70504 non-null  int64  \n",
      " 3   partial_refunds  70504 non-null  int64  \n",
      " 4   voucher_amount   15173 non-null  float64\n",
      " 5   claim_status     19974 non-null  object \n",
      "dtypes: float64(1), int64(3), object(2)\n",
      "memory usage: 3.8+ MB\n"
     ]
    }
   ],
   "source": [
    "df_car_claims.info()"
   ]
  },
  {
   "cell_type": "markdown",
   "metadata": {},
   "source": [
    "#### Convert to right datatypes"
   ]
  },
  {
   "cell_type": "code",
   "execution_count": 157,
   "metadata": {},
   "outputs": [
    {
     "name": "stdout",
     "output_type": "stream",
     "text": [
      "<class 'pandas.core.frame.DataFrame'>\n",
      "RangeIndex: 70504 entries, 0 to 70503\n",
      "Data columns (total 6 columns):\n",
      " #   Column           Non-Null Count  Dtype  \n",
      "---  ------           --------------  -----  \n",
      " 0   car_id           70504 non-null  object \n",
      " 1   claim_number     70504 non-null  object \n",
      " 2   full_refunds     70504 non-null  int64  \n",
      " 3   partial_refunds  70504 non-null  int64  \n",
      " 4   voucher_amount   15173 non-null  float64\n",
      " 5   claim_status     19974 non-null  object \n",
      "dtypes: float64(1), int64(2), object(3)\n",
      "memory usage: 3.2+ MB\n"
     ]
    }
   ],
   "source": [
    "df_car_claims['car_id_claims'] = df_car_claims['car_id_claims'].astype('str')\n",
    "df_car_claims['claim_number'] = df_car_claims['claim_number'].astype('str')\n",
    "\n",
    "# Rename primary column\n",
    "df_car_claims.rename(columns={'car_id_claims': 'car_id'}, inplace=True)\n",
    "\n",
    "# Reset index\n",
    "df_car_claims.reset_index(drop=True, inplace=True)\n",
    "\n",
    "df_car_claims.info()"
   ]
  },
  {
   "cell_type": "code",
   "execution_count": 158,
   "metadata": {},
   "outputs": [
    {
     "data": {
      "text/html": [
       "<div>\n",
       "<style scoped>\n",
       "    .dataframe tbody tr th:only-of-type {\n",
       "        vertical-align: middle;\n",
       "    }\n",
       "\n",
       "    .dataframe tbody tr th {\n",
       "        vertical-align: top;\n",
       "    }\n",
       "\n",
       "    .dataframe thead th {\n",
       "        text-align: right;\n",
       "    }\n",
       "</style>\n",
       "<table border=\"1\" class=\"dataframe\">\n",
       "  <thead>\n",
       "    <tr style=\"text-align: right;\">\n",
       "      <th></th>\n",
       "      <th>car_id</th>\n",
       "      <th>claim_number</th>\n",
       "      <th>full_refunds</th>\n",
       "      <th>partial_refunds</th>\n",
       "      <th>voucher_amount</th>\n",
       "      <th>claim_status</th>\n",
       "    </tr>\n",
       "  </thead>\n",
       "  <tbody>\n",
       "    <tr>\n",
       "      <th>0</th>\n",
       "      <td>7525691980</td>\n",
       "      <td>nan</td>\n",
       "      <td>0</td>\n",
       "      <td>0</td>\n",
       "      <td>NaN</td>\n",
       "      <td>NaN</td>\n",
       "    </tr>\n",
       "    <tr>\n",
       "      <th>1</th>\n",
       "      <td>8543168465</td>\n",
       "      <td>C1AG79687</td>\n",
       "      <td>0</td>\n",
       "      <td>1</td>\n",
       "      <td>620.140528</td>\n",
       "      <td>CLOSED_FULLY_PROCESSED</td>\n",
       "    </tr>\n",
       "    <tr>\n",
       "      <th>2</th>\n",
       "      <td>7308726237</td>\n",
       "      <td>nan</td>\n",
       "      <td>0</td>\n",
       "      <td>0</td>\n",
       "      <td>NaN</td>\n",
       "      <td>NaN</td>\n",
       "    </tr>\n",
       "    <tr>\n",
       "      <th>3</th>\n",
       "      <td>9070724843</td>\n",
       "      <td>nan</td>\n",
       "      <td>0</td>\n",
       "      <td>0</td>\n",
       "      <td>NaN</td>\n",
       "      <td>NaN</td>\n",
       "    </tr>\n",
       "    <tr>\n",
       "      <th>4</th>\n",
       "      <td>6274074693</td>\n",
       "      <td>nan</td>\n",
       "      <td>0</td>\n",
       "      <td>0</td>\n",
       "      <td>NaN</td>\n",
       "      <td>NaN</td>\n",
       "    </tr>\n",
       "  </tbody>\n",
       "</table>\n",
       "</div>"
      ],
      "text/plain": [
       "       car_id claim_number  full_refunds  partial_refunds  voucher_amount  \\\n",
       "0  7525691980          nan             0                0             NaN   \n",
       "1  8543168465    C1AG79687             0                1      620.140528   \n",
       "2  7308726237          nan             0                0             NaN   \n",
       "3  9070724843          nan             0                0             NaN   \n",
       "4  6274074693          nan             0                0             NaN   \n",
       "\n",
       "             claim_status  \n",
       "0                     NaN  \n",
       "1  CLOSED_FULLY_PROCESSED  \n",
       "2                     NaN  \n",
       "3                     NaN  \n",
       "4                     NaN  "
      ]
     },
     "execution_count": 158,
     "metadata": {},
     "output_type": "execute_result"
    }
   ],
   "source": [
    "df_car_claims.head()"
   ]
  },
  {
   "cell_type": "markdown",
   "metadata": {},
   "source": [
    "# Combine the dataframes to 1"
   ]
  },
  {
   "cell_type": "code",
   "execution_count": 159,
   "metadata": {},
   "outputs": [
    {
     "data": {
      "text/plain": [
       "(69618, 9)"
      ]
     },
     "execution_count": 159,
     "metadata": {},
     "output_type": "execute_result"
    }
   ],
   "source": [
    "df_car_sales.shape"
   ]
  },
  {
   "cell_type": "code",
   "execution_count": 160,
   "metadata": {},
   "outputs": [
    {
     "data": {
      "text/plain": [
       "(70034, 10)"
      ]
     },
     "execution_count": 160,
     "metadata": {},
     "output_type": "execute_result"
    }
   ],
   "source": [
    "df_car_details.shape"
   ]
  },
  {
   "cell_type": "code",
   "execution_count": 161,
   "metadata": {},
   "outputs": [
    {
     "data": {
      "text/plain": [
       "(70504, 6)"
      ]
     },
     "execution_count": 161,
     "metadata": {},
     "output_type": "execute_result"
    }
   ],
   "source": [
    "df_car_claims.shape"
   ]
  },
  {
   "cell_type": "code",
   "execution_count": 167,
   "metadata": {},
   "outputs": [
    {
     "data": {
      "text/html": [
       "<div>\n",
       "<style scoped>\n",
       "    .dataframe tbody tr th:only-of-type {\n",
       "        vertical-align: middle;\n",
       "    }\n",
       "\n",
       "    .dataframe tbody tr th {\n",
       "        vertical-align: top;\n",
       "    }\n",
       "\n",
       "    .dataframe thead th {\n",
       "        text-align: right;\n",
       "    }\n",
       "</style>\n",
       "<table border=\"1\" class=\"dataframe\">\n",
       "  <thead>\n",
       "    <tr style=\"text-align: right;\">\n",
       "      <th></th>\n",
       "      <th>car_id</th>\n",
       "      <th>claim_number</th>\n",
       "      <th>full_refunds</th>\n",
       "      <th>partial_refunds</th>\n",
       "      <th>voucher_amount</th>\n",
       "      <th>claim_status</th>\n",
       "      <th>has_tuning</th>\n",
       "      <th>has_airbags</th>\n",
       "      <th>has_alarm_system</th>\n",
       "      <th>fuel_type</th>\n",
       "      <th>gear_type</th>\n",
       "      <th>ac_type</th>\n",
       "      <th>xenon_light</th>\n",
       "      <th>navigation_system</th>\n",
       "      <th>radio_system</th>\n",
       "    </tr>\n",
       "  </thead>\n",
       "  <tbody>\n",
       "    <tr>\n",
       "      <th>0</th>\n",
       "      <td>7525691980</td>\n",
       "      <td>nan</td>\n",
       "      <td>0</td>\n",
       "      <td>0</td>\n",
       "      <td>NaN</td>\n",
       "      <td>NaN</td>\n",
       "      <td>1</td>\n",
       "      <td>1</td>\n",
       "      <td>0</td>\n",
       "      <td>0</td>\n",
       "      <td>1139</td>\n",
       "      <td>1050</td>\n",
       "      <td>0</td>\n",
       "      <td>0</td>\n",
       "      <td>NaN</td>\n",
       "    </tr>\n",
       "    <tr>\n",
       "      <th>1</th>\n",
       "      <td>8543168465</td>\n",
       "      <td>C1AG79687</td>\n",
       "      <td>0</td>\n",
       "      <td>1</td>\n",
       "      <td>620.140528</td>\n",
       "      <td>CLOSED_FULLY_PROCESSED</td>\n",
       "      <td>0</td>\n",
       "      <td>0</td>\n",
       "      <td>0</td>\n",
       "      <td>0</td>\n",
       "      <td>1141</td>\n",
       "      <td>0</td>\n",
       "      <td>0</td>\n",
       "      <td>1100</td>\n",
       "      <td>3534.0</td>\n",
       "    </tr>\n",
       "    <tr>\n",
       "      <th>2</th>\n",
       "      <td>7308726237</td>\n",
       "      <td>nan</td>\n",
       "      <td>0</td>\n",
       "      <td>0</td>\n",
       "      <td>NaN</td>\n",
       "      <td>NaN</td>\n",
       "      <td>0</td>\n",
       "      <td>1</td>\n",
       "      <td>0</td>\n",
       "      <td>1040</td>\n",
       "      <td>1138</td>\n",
       "      <td>1050</td>\n",
       "      <td>0</td>\n",
       "      <td>0</td>\n",
       "      <td>NaN</td>\n",
       "    </tr>\n",
       "    <tr>\n",
       "      <th>3</th>\n",
       "      <td>9070724843</td>\n",
       "      <td>nan</td>\n",
       "      <td>0</td>\n",
       "      <td>0</td>\n",
       "      <td>NaN</td>\n",
       "      <td>NaN</td>\n",
       "      <td>0</td>\n",
       "      <td>1</td>\n",
       "      <td>0</td>\n",
       "      <td>1040</td>\n",
       "      <td>1138</td>\n",
       "      <td>1050</td>\n",
       "      <td>1089</td>\n",
       "      <td>0</td>\n",
       "      <td>3534.0</td>\n",
       "    </tr>\n",
       "    <tr>\n",
       "      <th>4</th>\n",
       "      <td>6274074693</td>\n",
       "      <td>nan</td>\n",
       "      <td>0</td>\n",
       "      <td>0</td>\n",
       "      <td>NaN</td>\n",
       "      <td>NaN</td>\n",
       "      <td>0</td>\n",
       "      <td>1</td>\n",
       "      <td>0</td>\n",
       "      <td>1040</td>\n",
       "      <td>1141</td>\n",
       "      <td>1050</td>\n",
       "      <td>0</td>\n",
       "      <td>1100</td>\n",
       "      <td>3534.0</td>\n",
       "    </tr>\n",
       "  </tbody>\n",
       "</table>\n",
       "</div>"
      ],
      "text/plain": [
       "       car_id claim_number  full_refunds  partial_refunds  voucher_amount  \\\n",
       "0  7525691980          nan             0                0             NaN   \n",
       "1  8543168465    C1AG79687             0                1      620.140528   \n",
       "2  7308726237          nan             0                0             NaN   \n",
       "3  9070724843          nan             0                0             NaN   \n",
       "4  6274074693          nan             0                0             NaN   \n",
       "\n",
       "             claim_status  has_tuning  has_airbags  has_alarm_system  \\\n",
       "0                     NaN           1            1                 0   \n",
       "1  CLOSED_FULLY_PROCESSED           0            0                 0   \n",
       "2                     NaN           0            1                 0   \n",
       "3                     NaN           0            1                 0   \n",
       "4                     NaN           0            1                 0   \n",
       "\n",
       "   fuel_type  gear_type  ac_type  xenon_light  navigation_system  radio_system  \n",
       "0          0       1139     1050            0                  0           NaN  \n",
       "1          0       1141        0            0               1100        3534.0  \n",
       "2       1040       1138     1050            0                  0           NaN  \n",
       "3       1040       1138     1050         1089                  0        3534.0  \n",
       "4       1040       1141     1050            0               1100        3534.0  "
      ]
     },
     "execution_count": 167,
     "metadata": {},
     "output_type": "execute_result"
    }
   ],
   "source": [
    "df_merged = pd.merge(df_car_claims, df_car_details, how='left', on='car_id')\n",
    "# df_merged = pd.merge(df_merged, df_car_sales, how='inner', on='car_id')\n",
    "df_merged.head()"
   ]
  },
  {
   "cell_type": "code",
   "execution_count": 168,
   "metadata": {},
   "outputs": [
    {
     "data": {
      "text/plain": [
       "(71512, 15)"
      ]
     },
     "execution_count": 168,
     "metadata": {},
     "output_type": "execute_result"
    }
   ],
   "source": [
    "df_merged.shape"
   ]
  },
  {
   "cell_type": "code",
   "execution_count": 169,
   "metadata": {
    "scrolled": true
   },
   "outputs": [
    {
     "data": {
      "text/plain": [
       "7623794326    2\n",
       "5402284800    2\n",
       "7096519625    2\n",
       "4063580476    2\n",
       "7613645214    2\n",
       "             ..\n",
       "2805485321    1\n",
       "9403741772    1\n",
       "3636330388    1\n",
       "9376021039    1\n",
       "5517395488    1\n",
       "Name: car_id, Length: 69551, dtype: int64"
      ]
     },
     "execution_count": 169,
     "metadata": {},
     "output_type": "execute_result"
    }
   ],
   "source": [
    "df_car_sales.car_id.value_counts()\n",
    "\n",
    "# merchant_id is different which causes duplicate entries"
   ]
  },
  {
   "cell_type": "code",
   "execution_count": 170,
   "metadata": {},
   "outputs": [
    {
     "data": {
      "text/plain": [
       "9907511030    3\n",
       "1550589125    3\n",
       "4204449840    3\n",
       "7613645214    3\n",
       "8978100755    3\n",
       "             ..\n",
       "9764384875    1\n",
       "4740781080    1\n",
       "7310242299    1\n",
       "3269394355    1\n",
       "5517395488    1\n",
       "Name: car_id, Length: 69551, dtype: int64"
      ]
     },
     "execution_count": 170,
     "metadata": {},
     "output_type": "execute_result"
    }
   ],
   "source": [
    "df_car_details.car_id.value_counts()\n",
    "\n",
    "# fuel_type and navigation_system are causing duplicate entries"
   ]
  },
  {
   "cell_type": "code",
   "execution_count": 171,
   "metadata": {},
   "outputs": [
    {
     "data": {
      "text/plain": [
       "1469750417    4\n",
       "5149303881    4\n",
       "7453031564    3\n",
       "6267771382    3\n",
       "5741286159    3\n",
       "             ..\n",
       "2168498850    1\n",
       "9157300274    1\n",
       "6694478254    1\n",
       "7565842323    1\n",
       "5517395488    1\n",
       "Name: car_id, Length: 69551, dtype: int64"
      ]
     },
     "execution_count": 171,
     "metadata": {},
     "output_type": "execute_result"
    }
   ],
   "source": [
    "df_car_claims.car_id.value_counts()\n",
    "\n",
    "# fuel_type and navigation_system are causing duplicate entries"
   ]
  },
  {
   "cell_type": "code",
   "execution_count": null,
   "metadata": {},
   "outputs": [],
   "source": []
  }
 ],
 "metadata": {
  "kernelspec": {
   "display_name": "Python 3",
   "language": "python",
   "name": "python3"
  },
  "language_info": {
   "codemirror_mode": {
    "name": "ipython",
    "version": 3
   },
   "file_extension": ".py",
   "mimetype": "text/x-python",
   "name": "python",
   "nbconvert_exporter": "python",
   "pygments_lexer": "ipython3",
   "version": "3.8.3"
  }
 },
 "nbformat": 4,
 "nbformat_minor": 4
}
