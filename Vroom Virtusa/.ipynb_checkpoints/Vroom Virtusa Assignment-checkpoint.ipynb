{
 "cells": [
  {
   "cell_type": "code",
   "execution_count": 1,
   "metadata": {},
   "outputs": [],
   "source": [
    "import numpy as np\n",
    "import pandas as pd\n",
    "\n",
    "import seaborn as sns\n",
    "import matplotlib.pyplot as plt\n",
    "%matplotlib inline"
   ]
  },
  {
   "cell_type": "markdown",
   "metadata": {},
   "source": [
    "# Import Dataset"
   ]
  },
  {
   "cell_type": "code",
   "execution_count": 108,
   "metadata": {},
   "outputs": [],
   "source": [
    "xls_path = pd.ExcelFile('/Users/dileepsathyan/Documents/GitHub/Assignments/Vroom Virtusa/Analytics_Dataset.xlsx')\n",
    "df_car_sales   = pd.read_excel(xls_path, 'car_sales')\n",
    "df_car_details = pd.read_excel(xls_path, 'car_details')\n",
    "df_car_claims  = pd.read_excel(xls_path, 'car_claims')"
   ]
  },
  {
   "cell_type": "code",
   "execution_count": 109,
   "metadata": {},
   "outputs": [
    {
     "data": {
      "text/html": [
       "<div>\n",
       "<style scoped>\n",
       "    .dataframe tbody tr th:only-of-type {\n",
       "        vertical-align: middle;\n",
       "    }\n",
       "\n",
       "    .dataframe tbody tr th {\n",
       "        vertical-align: top;\n",
       "    }\n",
       "\n",
       "    .dataframe thead th {\n",
       "        text-align: right;\n",
       "    }\n",
       "</style>\n",
       "<table border=\"1\" class=\"dataframe\">\n",
       "  <thead>\n",
       "    <tr style=\"text-align: right;\">\n",
       "      <th></th>\n",
       "      <th>car_id_sales</th>\n",
       "      <th>country</th>\n",
       "      <th>merchant_id</th>\n",
       "      <th>selling_date</th>\n",
       "      <th>selling_week</th>\n",
       "      <th>payment_date</th>\n",
       "      <th>sell_price</th>\n",
       "      <th>transport_to_merchant</th>\n",
       "      <th>transport_date</th>\n",
       "    </tr>\n",
       "  </thead>\n",
       "  <tbody>\n",
       "    <tr>\n",
       "      <th>0</th>\n",
       "      <td>3421775349</td>\n",
       "      <td>ES</td>\n",
       "      <td>NaN</td>\n",
       "      <td>2021-04-29</td>\n",
       "      <td>2021-17</td>\n",
       "      <td>2021-05-14</td>\n",
       "      <td>1098</td>\n",
       "      <td>1</td>\n",
       "      <td>2021-05-31</td>\n",
       "    </tr>\n",
       "    <tr>\n",
       "      <th>1</th>\n",
       "      <td>5316743932</td>\n",
       "      <td>DE</td>\n",
       "      <td>NaN</td>\n",
       "      <td>2021-08-06</td>\n",
       "      <td>2021-31</td>\n",
       "      <td>2021-08-17</td>\n",
       "      <td>435</td>\n",
       "      <td>1</td>\n",
       "      <td>2021-08-31</td>\n",
       "    </tr>\n",
       "    <tr>\n",
       "      <th>2</th>\n",
       "      <td>5785159431</td>\n",
       "      <td>FR</td>\n",
       "      <td>NaN</td>\n",
       "      <td>2021-06-03</td>\n",
       "      <td>2021-22</td>\n",
       "      <td>2021-06-08</td>\n",
       "      <td>11028</td>\n",
       "      <td>0</td>\n",
       "      <td>NaN</td>\n",
       "    </tr>\n",
       "    <tr>\n",
       "      <th>3</th>\n",
       "      <td>7008763171</td>\n",
       "      <td>DE</td>\n",
       "      <td>NaN</td>\n",
       "      <td>2021-06-07</td>\n",
       "      <td>2021-23</td>\n",
       "      <td>2021-06-08</td>\n",
       "      <td>21100</td>\n",
       "      <td>1</td>\n",
       "      <td>NaN</td>\n",
       "    </tr>\n",
       "    <tr>\n",
       "      <th>4</th>\n",
       "      <td>1417558732</td>\n",
       "      <td>DE</td>\n",
       "      <td>NaN</td>\n",
       "      <td>2021-08-31</td>\n",
       "      <td>2021-35</td>\n",
       "      <td>2021-09-02</td>\n",
       "      <td>1943</td>\n",
       "      <td>1</td>\n",
       "      <td>2021-09-09</td>\n",
       "    </tr>\n",
       "  </tbody>\n",
       "</table>\n",
       "</div>"
      ],
      "text/plain": [
       "   car_id_sales country  merchant_id selling_date selling_week payment_date  \\\n",
       "0    3421775349      ES          NaN   2021-04-29      2021-17   2021-05-14   \n",
       "1    5316743932      DE          NaN   2021-08-06      2021-31   2021-08-17   \n",
       "2    5785159431      FR          NaN   2021-06-03      2021-22   2021-06-08   \n",
       "3    7008763171      DE          NaN   2021-06-07      2021-23   2021-06-08   \n",
       "4    1417558732      DE          NaN   2021-08-31      2021-35   2021-09-02   \n",
       "\n",
       "   sell_price  transport_to_merchant transport_date  \n",
       "0        1098                      1     2021-05-31  \n",
       "1         435                      1     2021-08-31  \n",
       "2       11028                      0            NaN  \n",
       "3       21100                      1            NaN  \n",
       "4        1943                      1     2021-09-09  "
      ]
     },
     "execution_count": 109,
     "metadata": {},
     "output_type": "execute_result"
    }
   ],
   "source": [
    "df_car_sales.head()"
   ]
  },
  {
   "cell_type": "code",
   "execution_count": 101,
   "metadata": {},
   "outputs": [
    {
     "data": {
      "text/html": [
       "<div>\n",
       "<style scoped>\n",
       "    .dataframe tbody tr th:only-of-type {\n",
       "        vertical-align: middle;\n",
       "    }\n",
       "\n",
       "    .dataframe tbody tr th {\n",
       "        vertical-align: top;\n",
       "    }\n",
       "\n",
       "    .dataframe thead th {\n",
       "        text-align: right;\n",
       "    }\n",
       "</style>\n",
       "<table border=\"1\" class=\"dataframe\">\n",
       "  <thead>\n",
       "    <tr style=\"text-align: right;\">\n",
       "      <th></th>\n",
       "      <th>car_id_details</th>\n",
       "      <th>has_tuning</th>\n",
       "      <th>has_airbags</th>\n",
       "      <th>has_alarm_system</th>\n",
       "      <th>fuel_type</th>\n",
       "      <th>gear_type</th>\n",
       "      <th>ac_type</th>\n",
       "      <th>xenon_light</th>\n",
       "      <th>navigation_system</th>\n",
       "      <th>radio_system</th>\n",
       "    </tr>\n",
       "  </thead>\n",
       "  <tbody>\n",
       "    <tr>\n",
       "      <th>0</th>\n",
       "      <td>5096178328</td>\n",
       "      <td>1</td>\n",
       "      <td>1</td>\n",
       "      <td>0</td>\n",
       "      <td>1039</td>\n",
       "      <td>1141</td>\n",
       "      <td>1049</td>\n",
       "      <td>0</td>\n",
       "      <td>1100</td>\n",
       "      <td>3534.0</td>\n",
       "    </tr>\n",
       "    <tr>\n",
       "      <th>1</th>\n",
       "      <td>1879501444</td>\n",
       "      <td>0</td>\n",
       "      <td>1</td>\n",
       "      <td>1</td>\n",
       "      <td>1039</td>\n",
       "      <td>1138</td>\n",
       "      <td>1049</td>\n",
       "      <td>0</td>\n",
       "      <td>0</td>\n",
       "      <td>3534.0</td>\n",
       "    </tr>\n",
       "    <tr>\n",
       "      <th>2</th>\n",
       "      <td>8375508078</td>\n",
       "      <td>1</td>\n",
       "      <td>1</td>\n",
       "      <td>1</td>\n",
       "      <td>1039</td>\n",
       "      <td>1139</td>\n",
       "      <td>0</td>\n",
       "      <td>0</td>\n",
       "      <td>0</td>\n",
       "      <td>1606.0</td>\n",
       "    </tr>\n",
       "    <tr>\n",
       "      <th>3</th>\n",
       "      <td>1266330246</td>\n",
       "      <td>0</td>\n",
       "      <td>1</td>\n",
       "      <td>0</td>\n",
       "      <td>1040</td>\n",
       "      <td>1139</td>\n",
       "      <td>1050</td>\n",
       "      <td>0</td>\n",
       "      <td>0</td>\n",
       "      <td>3534.0</td>\n",
       "    </tr>\n",
       "    <tr>\n",
       "      <th>4</th>\n",
       "      <td>9079520882</td>\n",
       "      <td>0</td>\n",
       "      <td>0</td>\n",
       "      <td>0</td>\n",
       "      <td>1039</td>\n",
       "      <td>1141</td>\n",
       "      <td>0</td>\n",
       "      <td>0</td>\n",
       "      <td>1100</td>\n",
       "      <td>3534.0</td>\n",
       "    </tr>\n",
       "  </tbody>\n",
       "</table>\n",
       "</div>"
      ],
      "text/plain": [
       "   car_id_details  has_tuning  has_airbags  has_alarm_system  fuel_type  \\\n",
       "0      5096178328           1            1                 0       1039   \n",
       "1      1879501444           0            1                 1       1039   \n",
       "2      8375508078           1            1                 1       1039   \n",
       "3      1266330246           0            1                 0       1040   \n",
       "4      9079520882           0            0                 0       1039   \n",
       "\n",
       "   gear_type  ac_type  xenon_light  navigation_system  radio_system  \n",
       "0       1141     1049            0               1100        3534.0  \n",
       "1       1138     1049            0                  0        3534.0  \n",
       "2       1139        0            0                  0        1606.0  \n",
       "3       1139     1050            0                  0        3534.0  \n",
       "4       1141        0            0               1100        3534.0  "
      ]
     },
     "execution_count": 101,
     "metadata": {},
     "output_type": "execute_result"
    }
   ],
   "source": [
    "df_car_details.head()"
   ]
  },
  {
   "cell_type": "code",
   "execution_count": 102,
   "metadata": {},
   "outputs": [
    {
     "data": {
      "text/html": [
       "<div>\n",
       "<style scoped>\n",
       "    .dataframe tbody tr th:only-of-type {\n",
       "        vertical-align: middle;\n",
       "    }\n",
       "\n",
       "    .dataframe tbody tr th {\n",
       "        vertical-align: top;\n",
       "    }\n",
       "\n",
       "    .dataframe thead th {\n",
       "        text-align: right;\n",
       "    }\n",
       "</style>\n",
       "<table border=\"1\" class=\"dataframe\">\n",
       "  <thead>\n",
       "    <tr style=\"text-align: right;\">\n",
       "      <th></th>\n",
       "      <th>car_id_claims</th>\n",
       "      <th>claim_number</th>\n",
       "      <th>full_refunds</th>\n",
       "      <th>partial_refunds</th>\n",
       "      <th>voucher_amount</th>\n",
       "      <th>claim_status</th>\n",
       "    </tr>\n",
       "  </thead>\n",
       "  <tbody>\n",
       "    <tr>\n",
       "      <th>0</th>\n",
       "      <td>7525691980</td>\n",
       "      <td>NaN</td>\n",
       "      <td>0</td>\n",
       "      <td>0</td>\n",
       "      <td>NaN</td>\n",
       "      <td>NaN</td>\n",
       "    </tr>\n",
       "    <tr>\n",
       "      <th>1</th>\n",
       "      <td>8543168465</td>\n",
       "      <td>C1AG79687</td>\n",
       "      <td>0</td>\n",
       "      <td>1</td>\n",
       "      <td>620.140528</td>\n",
       "      <td>CLOSED_FULLY_PROCESSED</td>\n",
       "    </tr>\n",
       "    <tr>\n",
       "      <th>2</th>\n",
       "      <td>7308726237</td>\n",
       "      <td>NaN</td>\n",
       "      <td>0</td>\n",
       "      <td>0</td>\n",
       "      <td>NaN</td>\n",
       "      <td>NaN</td>\n",
       "    </tr>\n",
       "    <tr>\n",
       "      <th>3</th>\n",
       "      <td>9070724843</td>\n",
       "      <td>NaN</td>\n",
       "      <td>0</td>\n",
       "      <td>0</td>\n",
       "      <td>NaN</td>\n",
       "      <td>NaN</td>\n",
       "    </tr>\n",
       "    <tr>\n",
       "      <th>4</th>\n",
       "      <td>6274074693</td>\n",
       "      <td>NaN</td>\n",
       "      <td>0</td>\n",
       "      <td>0</td>\n",
       "      <td>NaN</td>\n",
       "      <td>NaN</td>\n",
       "    </tr>\n",
       "  </tbody>\n",
       "</table>\n",
       "</div>"
      ],
      "text/plain": [
       "   car_id_claims claim_number  full_refunds  partial_refunds  voucher_amount  \\\n",
       "0     7525691980          NaN             0                0             NaN   \n",
       "1     8543168465    C1AG79687             0                1      620.140528   \n",
       "2     7308726237          NaN             0                0             NaN   \n",
       "3     9070724843          NaN             0                0             NaN   \n",
       "4     6274074693          NaN             0                0             NaN   \n",
       "\n",
       "             claim_status  \n",
       "0                     NaN  \n",
       "1  CLOSED_FULLY_PROCESSED  \n",
       "2                     NaN  \n",
       "3                     NaN  \n",
       "4                     NaN  "
      ]
     },
     "execution_count": 102,
     "metadata": {},
     "output_type": "execute_result"
    }
   ],
   "source": [
    "df_car_claims.head()"
   ]
  },
  {
   "cell_type": "markdown",
   "metadata": {},
   "source": [
    "# Data Cleaning"
   ]
  },
  {
   "cell_type": "markdown",
   "metadata": {},
   "source": [
    "## 1. Car_Sales Dataframe Cleaning"
   ]
  },
  {
   "cell_type": "code",
   "execution_count": 110,
   "metadata": {},
   "outputs": [
    {
     "data": {
      "text/plain": [
       "(70512, 9)"
      ]
     },
     "execution_count": 110,
     "metadata": {},
     "output_type": "execute_result"
    }
   ],
   "source": [
    "df_car_sales.shape"
   ]
  },
  {
   "cell_type": "code",
   "execution_count": 111,
   "metadata": {},
   "outputs": [
    {
     "data": {
      "text/plain": [
       "(69618, 9)"
      ]
     },
     "execution_count": 111,
     "metadata": {},
     "output_type": "execute_result"
    }
   ],
   "source": [
    "df_car_sales.drop_duplicates(inplace=True)\n",
    "df_car_sales.shape"
   ]
  },
  {
   "cell_type": "code",
   "execution_count": 112,
   "metadata": {},
   "outputs": [
    {
     "name": "stdout",
     "output_type": "stream",
     "text": [
      "<class 'pandas.core.frame.DataFrame'>\n",
      "Int64Index: 69618 entries, 0 to 70511\n",
      "Data columns (total 9 columns):\n",
      " #   Column                 Non-Null Count  Dtype  \n",
      "---  ------                 --------------  -----  \n",
      " 0   car_id_sales           69618 non-null  int64  \n",
      " 1   country                69618 non-null  object \n",
      " 2   merchant_id            19088 non-null  float64\n",
      " 3   selling_date           69618 non-null  object \n",
      " 4   selling_week           69618 non-null  object \n",
      " 5   payment_date           69618 non-null  object \n",
      " 6   sell_price             69618 non-null  int64  \n",
      " 7   transport_to_merchant  69618 non-null  int64  \n",
      " 8   transport_date         32689 non-null  object \n",
      "dtypes: float64(1), int64(3), object(5)\n",
      "memory usage: 5.3+ MB\n"
     ]
    }
   ],
   "source": [
    "df_car_sales.info()"
   ]
  },
  {
   "cell_type": "markdown",
   "metadata": {},
   "source": [
    "#### Convert to right datatypes"
   ]
  },
  {
   "cell_type": "code",
   "execution_count": 113,
   "metadata": {},
   "outputs": [
    {
     "name": "stdout",
     "output_type": "stream",
     "text": [
      "<class 'pandas.core.frame.DataFrame'>\n",
      "RangeIndex: 69618 entries, 0 to 69617\n",
      "Data columns (total 10 columns):\n",
      " #   Column                 Non-Null Count  Dtype         \n",
      "---  ------                 --------------  -----         \n",
      " 0   index                  69618 non-null  int64         \n",
      " 1   car_id                 69618 non-null  object        \n",
      " 2   country                69618 non-null  object        \n",
      " 3   merchant_id            69618 non-null  object        \n",
      " 4   selling_date           69618 non-null  datetime64[ns]\n",
      " 5   selling_week           69618 non-null  object        \n",
      " 6   payment_date           69618 non-null  datetime64[ns]\n",
      " 7   sell_price             69618 non-null  int64         \n",
      " 8   transport_to_merchant  69618 non-null  int64         \n",
      " 9   transport_date         32689 non-null  datetime64[ns]\n",
      "dtypes: datetime64[ns](3), int64(3), object(4)\n",
      "memory usage: 5.3+ MB\n"
     ]
    }
   ],
   "source": [
    "df_car_sales['car_id_sales'] = df_car_sales['car_id_sales'].astype('str')\n",
    "df_car_sales['merchant_id'] = df_car_sales['merchant_id'].astype('str')\n",
    "\n",
    "df_car_sales['selling_date'] = pd.to_datetime(df_car_sales['selling_date'])\n",
    "df_car_sales['payment_date'] = pd.to_datetime(df_car_sales['payment_date'])\n",
    "df_car_sales['transport_date'] = pd.to_datetime(df_car_sales['transport_date'])\n",
    "\n",
    "# Rename primary column\n",
    "df_car_sales.rename(columns={'car_id_sales': 'car_id'}, inplace=True)\n",
    "\n",
    "# Reset index\n",
    "df_car_sales.reset_index(inplace=True)\n",
    "\n",
    "df_car_sales.info()"
   ]
  },
  {
   "cell_type": "markdown",
   "metadata": {},
   "source": [
    "## Car_Details Dataframe Cleaning"
   ]
  },
  {
   "cell_type": "code",
   "execution_count": 114,
   "metadata": {},
   "outputs": [
    {
     "data": {
      "text/plain": [
       "(70512, 10)"
      ]
     },
     "execution_count": 114,
     "metadata": {},
     "output_type": "execute_result"
    }
   ],
   "source": [
    "df_car_details.shape"
   ]
  },
  {
   "cell_type": "code",
   "execution_count": 115,
   "metadata": {},
   "outputs": [
    {
     "data": {
      "text/plain": [
       "(70034, 10)"
      ]
     },
     "execution_count": 115,
     "metadata": {},
     "output_type": "execute_result"
    }
   ],
   "source": [
    "df_car_details.drop_duplicates(inplace=True)\n",
    "df_car_details.shape"
   ]
  },
  {
   "cell_type": "code",
   "execution_count": 116,
   "metadata": {},
   "outputs": [
    {
     "name": "stdout",
     "output_type": "stream",
     "text": [
      "<class 'pandas.core.frame.DataFrame'>\n",
      "Int64Index: 70034 entries, 0 to 70511\n",
      "Data columns (total 10 columns):\n",
      " #   Column             Non-Null Count  Dtype  \n",
      "---  ------             --------------  -----  \n",
      " 0   car_id_details     70034 non-null  int64  \n",
      " 1   has_tuning         70034 non-null  int64  \n",
      " 2   has_airbags        70034 non-null  int64  \n",
      " 3   has_alarm_system   70034 non-null  int64  \n",
      " 4   fuel_type          70034 non-null  int64  \n",
      " 5   gear_type          70034 non-null  int64  \n",
      " 6   ac_type            70034 non-null  int64  \n",
      " 7   xenon_light        70034 non-null  int64  \n",
      " 8   navigation_system  70034 non-null  int64  \n",
      " 9   radio_system       43494 non-null  float64\n",
      "dtypes: float64(1), int64(9)\n",
      "memory usage: 5.9 MB\n"
     ]
    }
   ],
   "source": [
    "df_car_details.info()"
   ]
  },
  {
   "cell_type": "markdown",
   "metadata": {},
   "source": [
    "#### Convert to right datatypes"
   ]
  },
  {
   "cell_type": "code",
   "execution_count": 117,
   "metadata": {},
   "outputs": [
    {
     "name": "stdout",
     "output_type": "stream",
     "text": [
      "<class 'pandas.core.frame.DataFrame'>\n",
      "RangeIndex: 70034 entries, 0 to 70033\n",
      "Data columns (total 11 columns):\n",
      " #   Column             Non-Null Count  Dtype  \n",
      "---  ------             --------------  -----  \n",
      " 0   index              70034 non-null  int64  \n",
      " 1   car_id             70034 non-null  object \n",
      " 2   has_tuning         70034 non-null  int64  \n",
      " 3   has_airbags        70034 non-null  int64  \n",
      " 4   has_alarm_system   70034 non-null  int64  \n",
      " 5   fuel_type          70034 non-null  int64  \n",
      " 6   gear_type          70034 non-null  int64  \n",
      " 7   ac_type            70034 non-null  int64  \n",
      " 8   xenon_light        70034 non-null  int64  \n",
      " 9   navigation_system  70034 non-null  int64  \n",
      " 10  radio_system       43494 non-null  float64\n",
      "dtypes: float64(1), int64(9), object(1)\n",
      "memory usage: 5.9+ MB\n"
     ]
    }
   ],
   "source": [
    "df_car_details['car_id_details'] = df_car_details['car_id_details'].astype('str')\n",
    "\n",
    "# Rename primary column\n",
    "df_car_details.rename(columns={'car_id_details': 'car_id'}, inplace=True)\n",
    "\n",
    "# Reset index\n",
    "df_car_details.reset_index(inplace=True)\n",
    "\n",
    "df_car_details.info()"
   ]
  },
  {
   "cell_type": "markdown",
   "metadata": {},
   "source": [
    "## Car_Claims Dataframe Cleaning"
   ]
  },
  {
   "cell_type": "code",
   "execution_count": 118,
   "metadata": {},
   "outputs": [
    {
     "data": {
      "text/plain": [
       "(70512, 6)"
      ]
     },
     "execution_count": 118,
     "metadata": {},
     "output_type": "execute_result"
    }
   ],
   "source": [
    "df_car_claims.shape"
   ]
  },
  {
   "cell_type": "code",
   "execution_count": 119,
   "metadata": {},
   "outputs": [
    {
     "data": {
      "text/plain": [
       "(70504, 6)"
      ]
     },
     "execution_count": 119,
     "metadata": {},
     "output_type": "execute_result"
    }
   ],
   "source": [
    "df_car_claims.drop_duplicates(inplace=True)\n",
    "df_car_claims.shape"
   ]
  },
  {
   "cell_type": "code",
   "execution_count": 120,
   "metadata": {},
   "outputs": [
    {
     "name": "stdout",
     "output_type": "stream",
     "text": [
      "<class 'pandas.core.frame.DataFrame'>\n",
      "Int64Index: 70504 entries, 0 to 70511\n",
      "Data columns (total 6 columns):\n",
      " #   Column           Non-Null Count  Dtype  \n",
      "---  ------           --------------  -----  \n",
      " 0   car_id_claims    70504 non-null  int64  \n",
      " 1   claim_number     19974 non-null  object \n",
      " 2   full_refunds     70504 non-null  int64  \n",
      " 3   partial_refunds  70504 non-null  int64  \n",
      " 4   voucher_amount   15173 non-null  float64\n",
      " 5   claim_status     19974 non-null  object \n",
      "dtypes: float64(1), int64(3), object(2)\n",
      "memory usage: 3.8+ MB\n"
     ]
    }
   ],
   "source": [
    "df_car_claims.info()"
   ]
  },
  {
   "cell_type": "markdown",
   "metadata": {},
   "source": [
    "#### Convert to right datatypes"
   ]
  },
  {
   "cell_type": "code",
   "execution_count": 121,
   "metadata": {},
   "outputs": [
    {
     "name": "stdout",
     "output_type": "stream",
     "text": [
      "<class 'pandas.core.frame.DataFrame'>\n",
      "RangeIndex: 70504 entries, 0 to 70503\n",
      "Data columns (total 7 columns):\n",
      " #   Column           Non-Null Count  Dtype  \n",
      "---  ------           --------------  -----  \n",
      " 0   index            70504 non-null  int64  \n",
      " 1   car_id           70504 non-null  object \n",
      " 2   claim_number     70504 non-null  object \n",
      " 3   full_refunds     70504 non-null  int64  \n",
      " 4   partial_refunds  70504 non-null  int64  \n",
      " 5   voucher_amount   15173 non-null  float64\n",
      " 6   claim_status     19974 non-null  object \n",
      "dtypes: float64(1), int64(3), object(3)\n",
      "memory usage: 3.8+ MB\n"
     ]
    }
   ],
   "source": [
    "df_car_claims['car_id_claims'] = df_car_claims['car_id_claims'].astype('str')\n",
    "df_car_claims['claim_number'] = df_car_claims['claim_number'].astype('str')\n",
    "\n",
    "# Rename primary column\n",
    "df_car_claims.rename(columns={'car_id_claims': 'car_id'}, inplace=True)\n",
    "\n",
    "# Reset index\n",
    "df_car_claims.reset_index(inplace=True)\n",
    "\n",
    "df_car_claims.info()"
   ]
  },
  {
   "cell_type": "markdown",
   "metadata": {},
   "source": [
    "# Combine the dataframes to 1"
   ]
  },
  {
   "cell_type": "code",
   "execution_count": 122,
   "metadata": {},
   "outputs": [
    {
     "data": {
      "text/plain": [
       "(69618, 10)"
      ]
     },
     "execution_count": 122,
     "metadata": {},
     "output_type": "execute_result"
    }
   ],
   "source": [
    "df_car_sales.shape"
   ]
  },
  {
   "cell_type": "code",
   "execution_count": 123,
   "metadata": {},
   "outputs": [
    {
     "data": {
      "text/plain": [
       "(70034, 11)"
      ]
     },
     "execution_count": 123,
     "metadata": {},
     "output_type": "execute_result"
    }
   ],
   "source": [
    "df_car_details.shape"
   ]
  },
  {
   "cell_type": "code",
   "execution_count": 124,
   "metadata": {},
   "outputs": [
    {
     "data": {
      "text/plain": [
       "(70504, 7)"
      ]
     },
     "execution_count": 124,
     "metadata": {},
     "output_type": "execute_result"
    }
   ],
   "source": [
    "df_car_claims.shape"
   ]
  },
  {
   "cell_type": "code",
   "execution_count": 125,
   "metadata": {},
   "outputs": [
    {
     "data": {
      "text/html": [
       "<div>\n",
       "<style scoped>\n",
       "    .dataframe tbody tr th:only-of-type {\n",
       "        vertical-align: middle;\n",
       "    }\n",
       "\n",
       "    .dataframe tbody tr th {\n",
       "        vertical-align: top;\n",
       "    }\n",
       "\n",
       "    .dataframe thead th {\n",
       "        text-align: right;\n",
       "    }\n",
       "</style>\n",
       "<table border=\"1\" class=\"dataframe\">\n",
       "  <thead>\n",
       "    <tr style=\"text-align: right;\">\n",
       "      <th></th>\n",
       "      <th>index_x</th>\n",
       "      <th>car_id</th>\n",
       "      <th>claim_number</th>\n",
       "      <th>full_refunds</th>\n",
       "      <th>partial_refunds</th>\n",
       "      <th>voucher_amount</th>\n",
       "      <th>claim_status</th>\n",
       "      <th>index_y</th>\n",
       "      <th>has_tuning</th>\n",
       "      <th>has_airbags</th>\n",
       "      <th>...</th>\n",
       "      <th>radio_system</th>\n",
       "      <th>index</th>\n",
       "      <th>country</th>\n",
       "      <th>merchant_id</th>\n",
       "      <th>selling_date</th>\n",
       "      <th>selling_week</th>\n",
       "      <th>payment_date</th>\n",
       "      <th>sell_price</th>\n",
       "      <th>transport_to_merchant</th>\n",
       "      <th>transport_date</th>\n",
       "    </tr>\n",
       "  </thead>\n",
       "  <tbody>\n",
       "    <tr>\n",
       "      <th>0</th>\n",
       "      <td>0</td>\n",
       "      <td>7525691980</td>\n",
       "      <td>nan</td>\n",
       "      <td>0</td>\n",
       "      <td>0</td>\n",
       "      <td>NaN</td>\n",
       "      <td>NaN</td>\n",
       "      <td>23408</td>\n",
       "      <td>1</td>\n",
       "      <td>1</td>\n",
       "      <td>...</td>\n",
       "      <td>NaN</td>\n",
       "      <td>49261</td>\n",
       "      <td>DE</td>\n",
       "      <td>nan</td>\n",
       "      <td>2021-06-15</td>\n",
       "      <td>2021-24</td>\n",
       "      <td>2021-06-21</td>\n",
       "      <td>2721</td>\n",
       "      <td>1</td>\n",
       "      <td>2021-06-28</td>\n",
       "    </tr>\n",
       "    <tr>\n",
       "      <th>1</th>\n",
       "      <td>1</td>\n",
       "      <td>8543168465</td>\n",
       "      <td>C1AG79687</td>\n",
       "      <td>0</td>\n",
       "      <td>1</td>\n",
       "      <td>620.140528</td>\n",
       "      <td>CLOSED_FULLY_PROCESSED</td>\n",
       "      <td>40876</td>\n",
       "      <td>0</td>\n",
       "      <td>0</td>\n",
       "      <td>...</td>\n",
       "      <td>3534.0</td>\n",
       "      <td>55375</td>\n",
       "      <td>NL</td>\n",
       "      <td>11655609.0</td>\n",
       "      <td>2021-06-30</td>\n",
       "      <td>2021-26</td>\n",
       "      <td>2021-07-01</td>\n",
       "      <td>3150</td>\n",
       "      <td>0</td>\n",
       "      <td>NaT</td>\n",
       "    </tr>\n",
       "    <tr>\n",
       "      <th>2</th>\n",
       "      <td>2</td>\n",
       "      <td>7308726237</td>\n",
       "      <td>nan</td>\n",
       "      <td>0</td>\n",
       "      <td>0</td>\n",
       "      <td>NaN</td>\n",
       "      <td>NaN</td>\n",
       "      <td>66353</td>\n",
       "      <td>0</td>\n",
       "      <td>1</td>\n",
       "      <td>...</td>\n",
       "      <td>NaN</td>\n",
       "      <td>34964</td>\n",
       "      <td>ES</td>\n",
       "      <td>nan</td>\n",
       "      <td>2021-04-18</td>\n",
       "      <td>2021-15</td>\n",
       "      <td>2021-04-21</td>\n",
       "      <td>1764</td>\n",
       "      <td>1</td>\n",
       "      <td>2021-04-23</td>\n",
       "    </tr>\n",
       "    <tr>\n",
       "      <th>3</th>\n",
       "      <td>3</td>\n",
       "      <td>9070724843</td>\n",
       "      <td>nan</td>\n",
       "      <td>0</td>\n",
       "      <td>0</td>\n",
       "      <td>NaN</td>\n",
       "      <td>NaN</td>\n",
       "      <td>39946</td>\n",
       "      <td>0</td>\n",
       "      <td>1</td>\n",
       "      <td>...</td>\n",
       "      <td>3534.0</td>\n",
       "      <td>14933</td>\n",
       "      <td>ES</td>\n",
       "      <td>nan</td>\n",
       "      <td>2021-04-24</td>\n",
       "      <td>2021-16</td>\n",
       "      <td>2021-04-26</td>\n",
       "      <td>292</td>\n",
       "      <td>1</td>\n",
       "      <td>2021-04-29</td>\n",
       "    </tr>\n",
       "    <tr>\n",
       "      <th>4</th>\n",
       "      <td>4</td>\n",
       "      <td>6274074693</td>\n",
       "      <td>nan</td>\n",
       "      <td>0</td>\n",
       "      <td>0</td>\n",
       "      <td>NaN</td>\n",
       "      <td>NaN</td>\n",
       "      <td>32611</td>\n",
       "      <td>0</td>\n",
       "      <td>1</td>\n",
       "      <td>...</td>\n",
       "      <td>3534.0</td>\n",
       "      <td>27464</td>\n",
       "      <td>DE</td>\n",
       "      <td>nan</td>\n",
       "      <td>2021-05-17</td>\n",
       "      <td>2021-20</td>\n",
       "      <td>2021-05-18</td>\n",
       "      <td>11033</td>\n",
       "      <td>0</td>\n",
       "      <td>NaT</td>\n",
       "    </tr>\n",
       "  </tbody>\n",
       "</table>\n",
       "<p>5 rows × 26 columns</p>\n",
       "</div>"
      ],
      "text/plain": [
       "   index_x      car_id claim_number  full_refunds  partial_refunds  \\\n",
       "0        0  7525691980          nan             0                0   \n",
       "1        1  8543168465    C1AG79687             0                1   \n",
       "2        2  7308726237          nan             0                0   \n",
       "3        3  9070724843          nan             0                0   \n",
       "4        4  6274074693          nan             0                0   \n",
       "\n",
       "   voucher_amount            claim_status  index_y  has_tuning  has_airbags  \\\n",
       "0             NaN                     NaN    23408           1            1   \n",
       "1      620.140528  CLOSED_FULLY_PROCESSED    40876           0            0   \n",
       "2             NaN                     NaN    66353           0            1   \n",
       "3             NaN                     NaN    39946           0            1   \n",
       "4             NaN                     NaN    32611           0            1   \n",
       "\n",
       "   ...  radio_system  index  country  merchant_id  selling_date  selling_week  \\\n",
       "0  ...           NaN  49261       DE          nan    2021-06-15       2021-24   \n",
       "1  ...        3534.0  55375       NL   11655609.0    2021-06-30       2021-26   \n",
       "2  ...           NaN  34964       ES          nan    2021-04-18       2021-15   \n",
       "3  ...        3534.0  14933       ES          nan    2021-04-24       2021-16   \n",
       "4  ...        3534.0  27464       DE          nan    2021-05-17       2021-20   \n",
       "\n",
       "   payment_date  sell_price transport_to_merchant transport_date  \n",
       "0    2021-06-21        2721                     1     2021-06-28  \n",
       "1    2021-07-01        3150                     0            NaT  \n",
       "2    2021-04-21        1764                     1     2021-04-23  \n",
       "3    2021-04-26         292                     1     2021-04-29  \n",
       "4    2021-05-18       11033                     0            NaT  \n",
       "\n",
       "[5 rows x 26 columns]"
      ]
     },
     "execution_count": 125,
     "metadata": {},
     "output_type": "execute_result"
    }
   ],
   "source": [
    "df_merged = pd.merge(df_car_claims, df_car_details, how='inner', on='car_id')\n",
    "df_merged = pd.merge(df_merged, df_car_sales, how='inner', on='car_id')\n",
    "df_merged.head()"
   ]
  },
  {
   "cell_type": "code",
   "execution_count": 126,
   "metadata": {},
   "outputs": [
    {
     "data": {
      "text/plain": [
       "(71732, 26)"
      ]
     },
     "execution_count": 126,
     "metadata": {},
     "output_type": "execute_result"
    }
   ],
   "source": [
    "df_merged.shape"
   ]
  },
  {
   "cell_type": "code",
   "execution_count": null,
   "metadata": {},
   "outputs": [],
   "source": []
  }
 ],
 "metadata": {
  "kernelspec": {
   "display_name": "Python 3",
   "language": "python",
   "name": "python3"
  },
  "language_info": {
   "codemirror_mode": {
    "name": "ipython",
    "version": 3
   },
   "file_extension": ".py",
   "mimetype": "text/x-python",
   "name": "python",
   "nbconvert_exporter": "python",
   "pygments_lexer": "ipython3",
   "version": "3.8.3"
  }
 },
 "nbformat": 4,
 "nbformat_minor": 4
}
