{
 "cells": [
  {
   "cell_type": "code",
   "execution_count": 172,
   "metadata": {},
   "outputs": [],
   "source": [
    "import numpy as np\n",
    "import pandas as pd\n",
    "\n",
    "import seaborn as sns\n",
    "import matplotlib.pyplot as plt\n",
    "%matplotlib inline"
   ]
  },
  {
   "cell_type": "markdown",
   "metadata": {},
   "source": [
    "# Import Dataset"
   ]
  },
  {
   "cell_type": "code",
   "execution_count": 373,
   "metadata": {},
   "outputs": [],
   "source": [
    "xls_path = pd.ExcelFile('/Users/dileepsathyan/Documents/GitHub/Assignments/Vroom Virtusa/Analytics_Dataset.xlsx')\n",
    "df_car_sales   = pd.read_excel(xls_path, 'car_sales')\n",
    "df_car_details = pd.read_excel(xls_path, 'car_details')\n",
    "df_car_claims  = pd.read_excel(xls_path, 'car_claims')"
   ]
  },
  {
   "cell_type": "code",
   "execution_count": 177,
   "metadata": {},
   "outputs": [
    {
     "data": {
      "text/html": [
       "<div>\n",
       "<style scoped>\n",
       "    .dataframe tbody tr th:only-of-type {\n",
       "        vertical-align: middle;\n",
       "    }\n",
       "\n",
       "    .dataframe tbody tr th {\n",
       "        vertical-align: top;\n",
       "    }\n",
       "\n",
       "    .dataframe thead th {\n",
       "        text-align: right;\n",
       "    }\n",
       "</style>\n",
       "<table border=\"1\" class=\"dataframe\">\n",
       "  <thead>\n",
       "    <tr style=\"text-align: right;\">\n",
       "      <th></th>\n",
       "      <th>car_id_sales</th>\n",
       "      <th>country</th>\n",
       "      <th>merchant_id</th>\n",
       "      <th>selling_date</th>\n",
       "      <th>selling_week</th>\n",
       "      <th>payment_date</th>\n",
       "      <th>sell_price</th>\n",
       "      <th>transport_to_merchant</th>\n",
       "      <th>transport_date</th>\n",
       "    </tr>\n",
       "  </thead>\n",
       "  <tbody>\n",
       "    <tr>\n",
       "      <th>0</th>\n",
       "      <td>3421775349</td>\n",
       "      <td>ES</td>\n",
       "      <td>NaN</td>\n",
       "      <td>2021-04-29</td>\n",
       "      <td>2021-17</td>\n",
       "      <td>2021-05-14</td>\n",
       "      <td>1098</td>\n",
       "      <td>1</td>\n",
       "      <td>2021-05-31</td>\n",
       "    </tr>\n",
       "    <tr>\n",
       "      <th>1</th>\n",
       "      <td>5316743932</td>\n",
       "      <td>DE</td>\n",
       "      <td>NaN</td>\n",
       "      <td>2021-08-06</td>\n",
       "      <td>2021-31</td>\n",
       "      <td>2021-08-17</td>\n",
       "      <td>435</td>\n",
       "      <td>1</td>\n",
       "      <td>2021-08-31</td>\n",
       "    </tr>\n",
       "    <tr>\n",
       "      <th>2</th>\n",
       "      <td>5785159431</td>\n",
       "      <td>FR</td>\n",
       "      <td>NaN</td>\n",
       "      <td>2021-06-03</td>\n",
       "      <td>2021-22</td>\n",
       "      <td>2021-06-08</td>\n",
       "      <td>11028</td>\n",
       "      <td>0</td>\n",
       "      <td>NaN</td>\n",
       "    </tr>\n",
       "    <tr>\n",
       "      <th>3</th>\n",
       "      <td>7008763171</td>\n",
       "      <td>DE</td>\n",
       "      <td>NaN</td>\n",
       "      <td>2021-06-07</td>\n",
       "      <td>2021-23</td>\n",
       "      <td>2021-06-08</td>\n",
       "      <td>21100</td>\n",
       "      <td>1</td>\n",
       "      <td>NaN</td>\n",
       "    </tr>\n",
       "    <tr>\n",
       "      <th>4</th>\n",
       "      <td>1417558732</td>\n",
       "      <td>DE</td>\n",
       "      <td>NaN</td>\n",
       "      <td>2021-08-31</td>\n",
       "      <td>2021-35</td>\n",
       "      <td>2021-09-02</td>\n",
       "      <td>1943</td>\n",
       "      <td>1</td>\n",
       "      <td>2021-09-09</td>\n",
       "    </tr>\n",
       "  </tbody>\n",
       "</table>\n",
       "</div>"
      ],
      "text/plain": [
       "   car_id_sales country  merchant_id selling_date selling_week payment_date  \\\n",
       "0    3421775349      ES          NaN   2021-04-29      2021-17   2021-05-14   \n",
       "1    5316743932      DE          NaN   2021-08-06      2021-31   2021-08-17   \n",
       "2    5785159431      FR          NaN   2021-06-03      2021-22   2021-06-08   \n",
       "3    7008763171      DE          NaN   2021-06-07      2021-23   2021-06-08   \n",
       "4    1417558732      DE          NaN   2021-08-31      2021-35   2021-09-02   \n",
       "\n",
       "   sell_price  transport_to_merchant transport_date  \n",
       "0        1098                      1     2021-05-31  \n",
       "1         435                      1     2021-08-31  \n",
       "2       11028                      0            NaN  \n",
       "3       21100                      1            NaN  \n",
       "4        1943                      1     2021-09-09  "
      ]
     },
     "execution_count": 177,
     "metadata": {},
     "output_type": "execute_result"
    }
   ],
   "source": [
    "df_car_sales.head()"
   ]
  },
  {
   "cell_type": "code",
   "execution_count": 479,
   "metadata": {},
   "outputs": [
    {
     "data": {
      "text/html": [
       "<div>\n",
       "<style scoped>\n",
       "    .dataframe tbody tr th:only-of-type {\n",
       "        vertical-align: middle;\n",
       "    }\n",
       "\n",
       "    .dataframe tbody tr th {\n",
       "        vertical-align: top;\n",
       "    }\n",
       "\n",
       "    .dataframe thead th {\n",
       "        text-align: right;\n",
       "    }\n",
       "</style>\n",
       "<table border=\"1\" class=\"dataframe\">\n",
       "  <thead>\n",
       "    <tr style=\"text-align: right;\">\n",
       "      <th></th>\n",
       "      <th>car_id_details</th>\n",
       "      <th>has_tuning</th>\n",
       "      <th>has_airbags</th>\n",
       "      <th>has_alarm_system</th>\n",
       "      <th>fuel_type</th>\n",
       "      <th>gear_type</th>\n",
       "      <th>ac_type</th>\n",
       "      <th>xenon_light</th>\n",
       "      <th>navigation_system</th>\n",
       "      <th>radio_system</th>\n",
       "    </tr>\n",
       "  </thead>\n",
       "  <tbody>\n",
       "    <tr>\n",
       "      <th>0</th>\n",
       "      <td>5096178328</td>\n",
       "      <td>1</td>\n",
       "      <td>1</td>\n",
       "      <td>0</td>\n",
       "      <td>1039</td>\n",
       "      <td>1141</td>\n",
       "      <td>1049</td>\n",
       "      <td>0</td>\n",
       "      <td>1100</td>\n",
       "      <td>3534.0</td>\n",
       "    </tr>\n",
       "    <tr>\n",
       "      <th>1</th>\n",
       "      <td>1879501444</td>\n",
       "      <td>0</td>\n",
       "      <td>1</td>\n",
       "      <td>1</td>\n",
       "      <td>1039</td>\n",
       "      <td>1138</td>\n",
       "      <td>1049</td>\n",
       "      <td>0</td>\n",
       "      <td>0</td>\n",
       "      <td>3534.0</td>\n",
       "    </tr>\n",
       "    <tr>\n",
       "      <th>2</th>\n",
       "      <td>8375508078</td>\n",
       "      <td>1</td>\n",
       "      <td>1</td>\n",
       "      <td>1</td>\n",
       "      <td>1039</td>\n",
       "      <td>1139</td>\n",
       "      <td>0</td>\n",
       "      <td>0</td>\n",
       "      <td>0</td>\n",
       "      <td>1606.0</td>\n",
       "    </tr>\n",
       "    <tr>\n",
       "      <th>3</th>\n",
       "      <td>1266330246</td>\n",
       "      <td>0</td>\n",
       "      <td>1</td>\n",
       "      <td>0</td>\n",
       "      <td>1040</td>\n",
       "      <td>1139</td>\n",
       "      <td>1050</td>\n",
       "      <td>0</td>\n",
       "      <td>0</td>\n",
       "      <td>3534.0</td>\n",
       "    </tr>\n",
       "    <tr>\n",
       "      <th>4</th>\n",
       "      <td>9079520882</td>\n",
       "      <td>0</td>\n",
       "      <td>0</td>\n",
       "      <td>0</td>\n",
       "      <td>1039</td>\n",
       "      <td>1141</td>\n",
       "      <td>0</td>\n",
       "      <td>0</td>\n",
       "      <td>1100</td>\n",
       "      <td>3534.0</td>\n",
       "    </tr>\n",
       "  </tbody>\n",
       "</table>\n",
       "</div>"
      ],
      "text/plain": [
       "   car_id_details  has_tuning  has_airbags  has_alarm_system  fuel_type  \\\n",
       "0      5096178328           1            1                 0       1039   \n",
       "1      1879501444           0            1                 1       1039   \n",
       "2      8375508078           1            1                 1       1039   \n",
       "3      1266330246           0            1                 0       1040   \n",
       "4      9079520882           0            0                 0       1039   \n",
       "\n",
       "   gear_type  ac_type  xenon_light  navigation_system  radio_system  \n",
       "0       1141     1049            0               1100        3534.0  \n",
       "1       1138     1049            0                  0        3534.0  \n",
       "2       1139        0            0                  0        1606.0  \n",
       "3       1139     1050            0                  0        3534.0  \n",
       "4       1141        0            0               1100        3534.0  "
      ]
     },
     "execution_count": 479,
     "metadata": {},
     "output_type": "execute_result"
    }
   ],
   "source": [
    "df_car_details.head()"
   ]
  },
  {
   "cell_type": "code",
   "execution_count": 480,
   "metadata": {},
   "outputs": [
    {
     "data": {
      "text/html": [
       "<div>\n",
       "<style scoped>\n",
       "    .dataframe tbody tr th:only-of-type {\n",
       "        vertical-align: middle;\n",
       "    }\n",
       "\n",
       "    .dataframe tbody tr th {\n",
       "        vertical-align: top;\n",
       "    }\n",
       "\n",
       "    .dataframe thead th {\n",
       "        text-align: right;\n",
       "    }\n",
       "</style>\n",
       "<table border=\"1\" class=\"dataframe\">\n",
       "  <thead>\n",
       "    <tr style=\"text-align: right;\">\n",
       "      <th></th>\n",
       "      <th>car_id</th>\n",
       "      <th>claim_number</th>\n",
       "      <th>full_refunds</th>\n",
       "      <th>partial_refunds</th>\n",
       "      <th>voucher_amount</th>\n",
       "      <th>claim_status</th>\n",
       "      <th>status_code</th>\n",
       "    </tr>\n",
       "  </thead>\n",
       "  <tbody>\n",
       "    <tr>\n",
       "      <th>0</th>\n",
       "      <td>7525691980</td>\n",
       "      <td>NaN</td>\n",
       "      <td>0</td>\n",
       "      <td>0</td>\n",
       "      <td>NaN</td>\n",
       "      <td>NaN</td>\n",
       "      <td>0</td>\n",
       "    </tr>\n",
       "    <tr>\n",
       "      <th>1</th>\n",
       "      <td>8543168465</td>\n",
       "      <td>C1AG79687</td>\n",
       "      <td>0</td>\n",
       "      <td>1</td>\n",
       "      <td>620.140528</td>\n",
       "      <td>CLOSED_FULLY_PROCESSED</td>\n",
       "      <td>26</td>\n",
       "    </tr>\n",
       "    <tr>\n",
       "      <th>2</th>\n",
       "      <td>7308726237</td>\n",
       "      <td>NaN</td>\n",
       "      <td>0</td>\n",
       "      <td>0</td>\n",
       "      <td>NaN</td>\n",
       "      <td>NaN</td>\n",
       "      <td>0</td>\n",
       "    </tr>\n",
       "    <tr>\n",
       "      <th>3</th>\n",
       "      <td>9070724843</td>\n",
       "      <td>NaN</td>\n",
       "      <td>0</td>\n",
       "      <td>0</td>\n",
       "      <td>NaN</td>\n",
       "      <td>NaN</td>\n",
       "      <td>0</td>\n",
       "    </tr>\n",
       "    <tr>\n",
       "      <th>4</th>\n",
       "      <td>6274074693</td>\n",
       "      <td>NaN</td>\n",
       "      <td>0</td>\n",
       "      <td>0</td>\n",
       "      <td>NaN</td>\n",
       "      <td>NaN</td>\n",
       "      <td>0</td>\n",
       "    </tr>\n",
       "  </tbody>\n",
       "</table>\n",
       "</div>"
      ],
      "text/plain": [
       "       car_id claim_number  full_refunds  partial_refunds  voucher_amount  \\\n",
       "0  7525691980          NaN             0                0             NaN   \n",
       "1  8543168465    C1AG79687             0                1      620.140528   \n",
       "2  7308726237          NaN             0                0             NaN   \n",
       "3  9070724843          NaN             0                0             NaN   \n",
       "4  6274074693          NaN             0                0             NaN   \n",
       "\n",
       "             claim_status  status_code  \n",
       "0                     NaN            0  \n",
       "1  CLOSED_FULLY_PROCESSED           26  \n",
       "2                     NaN            0  \n",
       "3                     NaN            0  \n",
       "4                     NaN            0  "
      ]
     },
     "execution_count": 480,
     "metadata": {},
     "output_type": "execute_result"
    }
   ],
   "source": [
    "df_car_claims.head()"
   ]
  },
  {
   "cell_type": "markdown",
   "metadata": {},
   "source": [
    "# Data Cleaning"
   ]
  },
  {
   "cell_type": "markdown",
   "metadata": {},
   "source": [
    "## 1. Car_Sales Dataframe Cleaning"
   ]
  },
  {
   "cell_type": "code",
   "execution_count": 481,
   "metadata": {},
   "outputs": [
    {
     "data": {
      "text/plain": [
       "(70512, 9)"
      ]
     },
     "execution_count": 481,
     "metadata": {},
     "output_type": "execute_result"
    }
   ],
   "source": [
    "df_car_sales.shape"
   ]
  },
  {
   "cell_type": "code",
   "execution_count": 482,
   "metadata": {},
   "outputs": [
    {
     "data": {
      "text/plain": [
       "(69618, 9)"
      ]
     },
     "execution_count": 482,
     "metadata": {},
     "output_type": "execute_result"
    }
   ],
   "source": [
    "df_car_sales.drop_duplicates(inplace=True)\n",
    "df_car_sales.shape"
   ]
  },
  {
   "cell_type": "markdown",
   "metadata": {},
   "source": [
    "#### Convert to right datatypes"
   ]
  },
  {
   "cell_type": "code",
   "execution_count": 483,
   "metadata": {},
   "outputs": [
    {
     "name": "stdout",
     "output_type": "stream",
     "text": [
      "<class 'pandas.core.frame.DataFrame'>\n",
      "Int64Index: 69618 entries, 0 to 70511\n",
      "Data columns (total 9 columns):\n",
      " #   Column                 Non-Null Count  Dtype         \n",
      "---  ------                 --------------  -----         \n",
      " 0   car_id                 69618 non-null  int64         \n",
      " 1   country                69618 non-null  object        \n",
      " 2   merchant_id            19088 non-null  float64       \n",
      " 3   selling_date           69618 non-null  datetime64[ns]\n",
      " 4   selling_week           69618 non-null  object        \n",
      " 5   payment_date           69618 non-null  datetime64[ns]\n",
      " 6   sell_price             69618 non-null  int64         \n",
      " 7   transport_to_merchant  69618 non-null  int64         \n",
      " 8   transport_date         32689 non-null  datetime64[ns]\n",
      "dtypes: datetime64[ns](3), float64(1), int64(3), object(2)\n",
      "memory usage: 5.3+ MB\n"
     ]
    }
   ],
   "source": [
    "# df_car_sales['car_id_sales'] = df_car_sales['car_id_sales'].astype('str')\n",
    "# df_car_sales['merchant_id'] = df_car_sales['merchant_id'].astype('str')\n",
    "\n",
    "df_car_sales['selling_date'] = pd.to_datetime(df_car_sales['selling_date'])\n",
    "df_car_sales['payment_date'] = pd.to_datetime(df_car_sales['payment_date'])\n",
    "df_car_sales['transport_date'] = pd.to_datetime(df_car_sales['transport_date'])\n",
    "\n",
    "# Rename primary column\n",
    "df_car_sales.rename(columns={'car_id_sales': 'car_id'}, inplace=True)\n",
    "\n",
    "df_car_sales.info()"
   ]
  },
  {
   "cell_type": "code",
   "execution_count": 484,
   "metadata": {},
   "outputs": [
    {
     "data": {
      "text/html": [
       "<div>\n",
       "<style scoped>\n",
       "    .dataframe tbody tr th:only-of-type {\n",
       "        vertical-align: middle;\n",
       "    }\n",
       "\n",
       "    .dataframe tbody tr th {\n",
       "        vertical-align: top;\n",
       "    }\n",
       "\n",
       "    .dataframe thead th {\n",
       "        text-align: right;\n",
       "    }\n",
       "</style>\n",
       "<table border=\"1\" class=\"dataframe\">\n",
       "  <thead>\n",
       "    <tr style=\"text-align: right;\">\n",
       "      <th></th>\n",
       "      <th>car_id</th>\n",
       "      <th>country</th>\n",
       "      <th>merchant_id</th>\n",
       "      <th>selling_date</th>\n",
       "      <th>selling_week</th>\n",
       "      <th>payment_date</th>\n",
       "      <th>sell_price</th>\n",
       "      <th>transport_to_merchant</th>\n",
       "      <th>transport_date</th>\n",
       "    </tr>\n",
       "  </thead>\n",
       "  <tbody>\n",
       "    <tr>\n",
       "      <th>24388</th>\n",
       "      <td>5805619905</td>\n",
       "      <td>BE</td>\n",
       "      <td>16191229.0</td>\n",
       "      <td>2021-07-31</td>\n",
       "      <td>2021-30</td>\n",
       "      <td>2021-08-03</td>\n",
       "      <td>22596</td>\n",
       "      <td>1</td>\n",
       "      <td>2021-08-04</td>\n",
       "    </tr>\n",
       "    <tr>\n",
       "      <th>46739</th>\n",
       "      <td>5805619905</td>\n",
       "      <td>BE</td>\n",
       "      <td>14307587.0</td>\n",
       "      <td>2021-07-31</td>\n",
       "      <td>2021-30</td>\n",
       "      <td>2021-08-03</td>\n",
       "      <td>22596</td>\n",
       "      <td>1</td>\n",
       "      <td>2021-08-04</td>\n",
       "    </tr>\n",
       "  </tbody>\n",
       "</table>\n",
       "</div>"
      ],
      "text/plain": [
       "           car_id country  merchant_id selling_date selling_week payment_date  \\\n",
       "24388  5805619905      BE   16191229.0   2021-07-31      2021-30   2021-08-03   \n",
       "46739  5805619905      BE   14307587.0   2021-07-31      2021-30   2021-08-03   \n",
       "\n",
       "       sell_price  transport_to_merchant transport_date  \n",
       "24388       22596                      1     2021-08-04  \n",
       "46739       22596                      1     2021-08-04  "
      ]
     },
     "execution_count": 484,
     "metadata": {},
     "output_type": "execute_result"
    }
   ],
   "source": [
    "# Notice that the same car_ids are repeated for different merchant_ids\n",
    "\n",
    "df_car_sales[df_car_sales['car_id'] == 5805619905]"
   ]
  },
  {
   "cell_type": "code",
   "execution_count": 485,
   "metadata": {},
   "outputs": [
    {
     "data": {
      "text/plain": [
       "8819318.0     823\n",
       "5482442.0      97\n",
       "2593085.0      92\n",
       "6717821.0      64\n",
       "2491964.0      62\n",
       "             ... \n",
       "3451474.0       1\n",
       "6902952.0       1\n",
       "5854417.0       1\n",
       "6903110.0       1\n",
       "10485917.0      1\n",
       "Name: merchant_id, Length: 9102, dtype: int64"
      ]
     },
     "execution_count": 485,
     "metadata": {},
     "output_type": "execute_result"
    }
   ],
   "source": [
    "# There are merchant_ids who bought so many cars.\n",
    "\n",
    "df_car_sales.merchant_id.value_counts()"
   ]
  },
  {
   "cell_type": "code",
   "execution_count": 486,
   "metadata": {},
   "outputs": [
    {
     "name": "stdout",
     "output_type": "stream",
     "text": [
      "<class 'pandas.core.frame.DataFrame'>\n",
      "RangeIndex: 69551 entries, 0 to 69550\n",
      "Data columns (total 9 columns):\n",
      " #   Column                 Non-Null Count  Dtype         \n",
      "---  ------                 --------------  -----         \n",
      " 0   car_id                 69551 non-null  int64         \n",
      " 1   country                69551 non-null  object        \n",
      " 2   merchant_id            19021 non-null  float64       \n",
      " 3   selling_date           69551 non-null  datetime64[ns]\n",
      " 4   selling_week           69551 non-null  object        \n",
      " 5   payment_date           69551 non-null  datetime64[ns]\n",
      " 6   sell_price             69551 non-null  int64         \n",
      " 7   transport_to_merchant  69551 non-null  int64         \n",
      " 8   transport_date         32654 non-null  datetime64[ns]\n",
      "dtypes: datetime64[ns](3), float64(1), int64(3), object(2)\n",
      "memory usage: 4.8+ MB\n"
     ]
    }
   ],
   "source": [
    "#### As long as we have no clarity on the correct Merchant who bought a car, it doesnt matter which record we delete.\n",
    "#### Lets keep car_id only once and delete all following records for the sale.\n",
    "\n",
    "df_car_sales = df_car_sales.drop_duplicates(subset='car_id', keep=\"first\")\n",
    "\n",
    "# Reset index\n",
    "df_car_sales.reset_index(drop=True, inplace=True)\n",
    "\n",
    "df_car_sales.info()"
   ]
  },
  {
   "cell_type": "code",
   "execution_count": 487,
   "metadata": {
    "scrolled": true
   },
   "outputs": [
    {
     "data": {
      "text/html": [
       "<div>\n",
       "<style scoped>\n",
       "    .dataframe tbody tr th:only-of-type {\n",
       "        vertical-align: middle;\n",
       "    }\n",
       "\n",
       "    .dataframe tbody tr th {\n",
       "        vertical-align: top;\n",
       "    }\n",
       "\n",
       "    .dataframe thead th {\n",
       "        text-align: right;\n",
       "    }\n",
       "</style>\n",
       "<table border=\"1\" class=\"dataframe\">\n",
       "  <thead>\n",
       "    <tr style=\"text-align: right;\">\n",
       "      <th></th>\n",
       "      <th>car_id</th>\n",
       "      <th>country</th>\n",
       "      <th>merchant_id</th>\n",
       "      <th>selling_date</th>\n",
       "      <th>selling_week</th>\n",
       "      <th>payment_date</th>\n",
       "      <th>sell_price</th>\n",
       "      <th>transport_to_merchant</th>\n",
       "      <th>transport_date</th>\n",
       "    </tr>\n",
       "  </thead>\n",
       "  <tbody>\n",
       "    <tr>\n",
       "      <th>0</th>\n",
       "      <td>3421775349</td>\n",
       "      <td>ES</td>\n",
       "      <td>NaN</td>\n",
       "      <td>2021-04-29</td>\n",
       "      <td>2021-17</td>\n",
       "      <td>2021-05-14</td>\n",
       "      <td>1098</td>\n",
       "      <td>1</td>\n",
       "      <td>2021-05-31</td>\n",
       "    </tr>\n",
       "    <tr>\n",
       "      <th>1</th>\n",
       "      <td>5316743932</td>\n",
       "      <td>DE</td>\n",
       "      <td>NaN</td>\n",
       "      <td>2021-08-06</td>\n",
       "      <td>2021-31</td>\n",
       "      <td>2021-08-17</td>\n",
       "      <td>435</td>\n",
       "      <td>1</td>\n",
       "      <td>2021-08-31</td>\n",
       "    </tr>\n",
       "    <tr>\n",
       "      <th>2</th>\n",
       "      <td>5785159431</td>\n",
       "      <td>FR</td>\n",
       "      <td>NaN</td>\n",
       "      <td>2021-06-03</td>\n",
       "      <td>2021-22</td>\n",
       "      <td>2021-06-08</td>\n",
       "      <td>11028</td>\n",
       "      <td>0</td>\n",
       "      <td>NaT</td>\n",
       "    </tr>\n",
       "    <tr>\n",
       "      <th>3</th>\n",
       "      <td>7008763171</td>\n",
       "      <td>DE</td>\n",
       "      <td>NaN</td>\n",
       "      <td>2021-06-07</td>\n",
       "      <td>2021-23</td>\n",
       "      <td>2021-06-08</td>\n",
       "      <td>21100</td>\n",
       "      <td>1</td>\n",
       "      <td>NaT</td>\n",
       "    </tr>\n",
       "    <tr>\n",
       "      <th>4</th>\n",
       "      <td>1417558732</td>\n",
       "      <td>DE</td>\n",
       "      <td>NaN</td>\n",
       "      <td>2021-08-31</td>\n",
       "      <td>2021-35</td>\n",
       "      <td>2021-09-02</td>\n",
       "      <td>1943</td>\n",
       "      <td>1</td>\n",
       "      <td>2021-09-09</td>\n",
       "    </tr>\n",
       "  </tbody>\n",
       "</table>\n",
       "</div>"
      ],
      "text/plain": [
       "       car_id country  merchant_id selling_date selling_week payment_date  \\\n",
       "0  3421775349      ES          NaN   2021-04-29      2021-17   2021-05-14   \n",
       "1  5316743932      DE          NaN   2021-08-06      2021-31   2021-08-17   \n",
       "2  5785159431      FR          NaN   2021-06-03      2021-22   2021-06-08   \n",
       "3  7008763171      DE          NaN   2021-06-07      2021-23   2021-06-08   \n",
       "4  1417558732      DE          NaN   2021-08-31      2021-35   2021-09-02   \n",
       "\n",
       "   sell_price  transport_to_merchant transport_date  \n",
       "0        1098                      1     2021-05-31  \n",
       "1         435                      1     2021-08-31  \n",
       "2       11028                      0            NaT  \n",
       "3       21100                      1            NaT  \n",
       "4        1943                      1     2021-09-09  "
      ]
     },
     "execution_count": 487,
     "metadata": {},
     "output_type": "execute_result"
    }
   ],
   "source": [
    "df_car_sales.head()"
   ]
  },
  {
   "cell_type": "markdown",
   "metadata": {},
   "source": [
    "## Car_Details Dataframe Cleaning"
   ]
  },
  {
   "cell_type": "code",
   "execution_count": 488,
   "metadata": {},
   "outputs": [
    {
     "data": {
      "text/plain": [
       "(70512, 10)"
      ]
     },
     "execution_count": 488,
     "metadata": {},
     "output_type": "execute_result"
    }
   ],
   "source": [
    "df_car_details.shape"
   ]
  },
  {
   "cell_type": "code",
   "execution_count": 489,
   "metadata": {},
   "outputs": [
    {
     "data": {
      "text/plain": [
       "(70034, 10)"
      ]
     },
     "execution_count": 489,
     "metadata": {},
     "output_type": "execute_result"
    }
   ],
   "source": [
    "df_car_details.drop_duplicates(inplace=True)\n",
    "df_car_details.shape"
   ]
  },
  {
   "cell_type": "code",
   "execution_count": 490,
   "metadata": {},
   "outputs": [
    {
     "name": "stdout",
     "output_type": "stream",
     "text": [
      "<class 'pandas.core.frame.DataFrame'>\n",
      "Int64Index: 70034 entries, 0 to 70511\n",
      "Data columns (total 10 columns):\n",
      " #   Column             Non-Null Count  Dtype  \n",
      "---  ------             --------------  -----  \n",
      " 0   car_id_details     70034 non-null  int64  \n",
      " 1   has_tuning         70034 non-null  int64  \n",
      " 2   has_airbags        70034 non-null  int64  \n",
      " 3   has_alarm_system   70034 non-null  int64  \n",
      " 4   fuel_type          70034 non-null  int64  \n",
      " 5   gear_type          70034 non-null  int64  \n",
      " 6   ac_type            70034 non-null  int64  \n",
      " 7   xenon_light        70034 non-null  int64  \n",
      " 8   navigation_system  70034 non-null  int64  \n",
      " 9   radio_system       43494 non-null  float64\n",
      "dtypes: float64(1), int64(9)\n",
      "memory usage: 5.9 MB\n"
     ]
    }
   ],
   "source": [
    "df_car_details.info()"
   ]
  },
  {
   "cell_type": "markdown",
   "metadata": {},
   "source": [
    "#### Convert to right datatypes"
   ]
  },
  {
   "cell_type": "code",
   "execution_count": 491,
   "metadata": {},
   "outputs": [
    {
     "name": "stdout",
     "output_type": "stream",
     "text": [
      "<class 'pandas.core.frame.DataFrame'>\n",
      "Int64Index: 70034 entries, 0 to 70511\n",
      "Data columns (total 10 columns):\n",
      " #   Column             Non-Null Count  Dtype  \n",
      "---  ------             --------------  -----  \n",
      " 0   car_id             70034 non-null  int64  \n",
      " 1   has_tuning         70034 non-null  int64  \n",
      " 2   has_airbags        70034 non-null  int64  \n",
      " 3   has_alarm_system   70034 non-null  int64  \n",
      " 4   fuel_type          70034 non-null  int64  \n",
      " 5   gear_type          70034 non-null  int64  \n",
      " 6   ac_type            70034 non-null  int64  \n",
      " 7   xenon_light        70034 non-null  int64  \n",
      " 8   navigation_system  70034 non-null  int64  \n",
      " 9   radio_system       43494 non-null  float64\n",
      "dtypes: float64(1), int64(9)\n",
      "memory usage: 5.9 MB\n"
     ]
    }
   ],
   "source": [
    "# df_car_details['car_id_details'] = df_car_details['car_id_details'].astype('str')\n",
    "\n",
    "# Rename primary column\n",
    "df_car_details.rename(columns={'car_id_details': 'car_id'}, inplace=True)\n",
    "df_car_details.info()"
   ]
  },
  {
   "cell_type": "code",
   "execution_count": 492,
   "metadata": {},
   "outputs": [
    {
     "data": {
      "text/html": [
       "<div>\n",
       "<style scoped>\n",
       "    .dataframe tbody tr th:only-of-type {\n",
       "        vertical-align: middle;\n",
       "    }\n",
       "\n",
       "    .dataframe tbody tr th {\n",
       "        vertical-align: top;\n",
       "    }\n",
       "\n",
       "    .dataframe thead th {\n",
       "        text-align: right;\n",
       "    }\n",
       "</style>\n",
       "<table border=\"1\" class=\"dataframe\">\n",
       "  <thead>\n",
       "    <tr style=\"text-align: right;\">\n",
       "      <th></th>\n",
       "      <th>car_id</th>\n",
       "      <th>has_tuning</th>\n",
       "      <th>has_airbags</th>\n",
       "      <th>has_alarm_system</th>\n",
       "      <th>fuel_type</th>\n",
       "      <th>gear_type</th>\n",
       "      <th>ac_type</th>\n",
       "      <th>xenon_light</th>\n",
       "      <th>navigation_system</th>\n",
       "      <th>radio_system</th>\n",
       "    </tr>\n",
       "  </thead>\n",
       "  <tbody>\n",
       "    <tr>\n",
       "      <th>49297</th>\n",
       "      <td>1021854212</td>\n",
       "      <td>0</td>\n",
       "      <td>0</td>\n",
       "      <td>0</td>\n",
       "      <td>1039</td>\n",
       "      <td>1141</td>\n",
       "      <td>0</td>\n",
       "      <td>0</td>\n",
       "      <td>1100</td>\n",
       "      <td>3534.0</td>\n",
       "    </tr>\n",
       "    <tr>\n",
       "      <th>25281</th>\n",
       "      <td>1021854212</td>\n",
       "      <td>0</td>\n",
       "      <td>0</td>\n",
       "      <td>0</td>\n",
       "      <td>1040</td>\n",
       "      <td>1141</td>\n",
       "      <td>0</td>\n",
       "      <td>0</td>\n",
       "      <td>1100</td>\n",
       "      <td>3534.0</td>\n",
       "    </tr>\n",
       "    <tr>\n",
       "      <th>19591</th>\n",
       "      <td>1071192762</td>\n",
       "      <td>1</td>\n",
       "      <td>1</td>\n",
       "      <td>1</td>\n",
       "      <td>1040</td>\n",
       "      <td>1139</td>\n",
       "      <td>1050</td>\n",
       "      <td>1089</td>\n",
       "      <td>1100</td>\n",
       "      <td>3534.0</td>\n",
       "    </tr>\n",
       "    <tr>\n",
       "      <th>37616</th>\n",
       "      <td>1071192762</td>\n",
       "      <td>1</td>\n",
       "      <td>1</td>\n",
       "      <td>1</td>\n",
       "      <td>1039</td>\n",
       "      <td>1139</td>\n",
       "      <td>1050</td>\n",
       "      <td>1089</td>\n",
       "      <td>1100</td>\n",
       "      <td>3534.0</td>\n",
       "    </tr>\n",
       "    <tr>\n",
       "      <th>20260</th>\n",
       "      <td>1092285954</td>\n",
       "      <td>1</td>\n",
       "      <td>1</td>\n",
       "      <td>0</td>\n",
       "      <td>1039</td>\n",
       "      <td>1138</td>\n",
       "      <td>1050</td>\n",
       "      <td>0</td>\n",
       "      <td>1100</td>\n",
       "      <td>NaN</td>\n",
       "    </tr>\n",
       "    <tr>\n",
       "      <th>62249</th>\n",
       "      <td>1092285954</td>\n",
       "      <td>1</td>\n",
       "      <td>1</td>\n",
       "      <td>0</td>\n",
       "      <td>1039</td>\n",
       "      <td>1138</td>\n",
       "      <td>1050</td>\n",
       "      <td>0</td>\n",
       "      <td>0</td>\n",
       "      <td>NaN</td>\n",
       "    </tr>\n",
       "    <tr>\n",
       "      <th>23369</th>\n",
       "      <td>1116277714</td>\n",
       "      <td>1</td>\n",
       "      <td>1</td>\n",
       "      <td>0</td>\n",
       "      <td>1039</td>\n",
       "      <td>1138</td>\n",
       "      <td>0</td>\n",
       "      <td>0</td>\n",
       "      <td>0</td>\n",
       "      <td>3534.0</td>\n",
       "    </tr>\n",
       "    <tr>\n",
       "      <th>62436</th>\n",
       "      <td>1116277714</td>\n",
       "      <td>1</td>\n",
       "      <td>1</td>\n",
       "      <td>0</td>\n",
       "      <td>1040</td>\n",
       "      <td>1138</td>\n",
       "      <td>0</td>\n",
       "      <td>0</td>\n",
       "      <td>1100</td>\n",
       "      <td>3534.0</td>\n",
       "    </tr>\n",
       "    <tr>\n",
       "      <th>50603</th>\n",
       "      <td>1130791238</td>\n",
       "      <td>1</td>\n",
       "      <td>1</td>\n",
       "      <td>0</td>\n",
       "      <td>1039</td>\n",
       "      <td>1141</td>\n",
       "      <td>1050</td>\n",
       "      <td>0</td>\n",
       "      <td>1100</td>\n",
       "      <td>1100.0</td>\n",
       "    </tr>\n",
       "    <tr>\n",
       "      <th>12934</th>\n",
       "      <td>1130791238</td>\n",
       "      <td>1</td>\n",
       "      <td>1</td>\n",
       "      <td>0</td>\n",
       "      <td>1040</td>\n",
       "      <td>1141</td>\n",
       "      <td>1050</td>\n",
       "      <td>0</td>\n",
       "      <td>1100</td>\n",
       "      <td>1100.0</td>\n",
       "    </tr>\n",
       "    <tr>\n",
       "      <th>11699</th>\n",
       "      <td>1131021388</td>\n",
       "      <td>1</td>\n",
       "      <td>1</td>\n",
       "      <td>0</td>\n",
       "      <td>1039</td>\n",
       "      <td>1138</td>\n",
       "      <td>1050</td>\n",
       "      <td>0</td>\n",
       "      <td>0</td>\n",
       "      <td>3534.0</td>\n",
       "    </tr>\n",
       "    <tr>\n",
       "      <th>18733</th>\n",
       "      <td>1131021388</td>\n",
       "      <td>1</td>\n",
       "      <td>1</td>\n",
       "      <td>0</td>\n",
       "      <td>1040</td>\n",
       "      <td>1138</td>\n",
       "      <td>1050</td>\n",
       "      <td>0</td>\n",
       "      <td>0</td>\n",
       "      <td>3534.0</td>\n",
       "    </tr>\n",
       "    <tr>\n",
       "      <th>24110</th>\n",
       "      <td>1134904596</td>\n",
       "      <td>0</td>\n",
       "      <td>0</td>\n",
       "      <td>0</td>\n",
       "      <td>1040</td>\n",
       "      <td>1141</td>\n",
       "      <td>0</td>\n",
       "      <td>0</td>\n",
       "      <td>0</td>\n",
       "      <td>3534.0</td>\n",
       "    </tr>\n",
       "    <tr>\n",
       "      <th>17581</th>\n",
       "      <td>1134904596</td>\n",
       "      <td>0</td>\n",
       "      <td>0</td>\n",
       "      <td>0</td>\n",
       "      <td>1039</td>\n",
       "      <td>1141</td>\n",
       "      <td>0</td>\n",
       "      <td>0</td>\n",
       "      <td>0</td>\n",
       "      <td>3534.0</td>\n",
       "    </tr>\n",
       "    <tr>\n",
       "      <th>48854</th>\n",
       "      <td>1175003748</td>\n",
       "      <td>1</td>\n",
       "      <td>1</td>\n",
       "      <td>0</td>\n",
       "      <td>1040</td>\n",
       "      <td>1138</td>\n",
       "      <td>1050</td>\n",
       "      <td>0</td>\n",
       "      <td>1100</td>\n",
       "      <td>1100.0</td>\n",
       "    </tr>\n",
       "    <tr>\n",
       "      <th>42760</th>\n",
       "      <td>1175003748</td>\n",
       "      <td>1</td>\n",
       "      <td>1</td>\n",
       "      <td>0</td>\n",
       "      <td>1039</td>\n",
       "      <td>1138</td>\n",
       "      <td>1050</td>\n",
       "      <td>0</td>\n",
       "      <td>1100</td>\n",
       "      <td>1100.0</td>\n",
       "    </tr>\n",
       "    <tr>\n",
       "      <th>11135</th>\n",
       "      <td>1189899240</td>\n",
       "      <td>0</td>\n",
       "      <td>0</td>\n",
       "      <td>0</td>\n",
       "      <td>1040</td>\n",
       "      <td>1141</td>\n",
       "      <td>0</td>\n",
       "      <td>0</td>\n",
       "      <td>1100</td>\n",
       "      <td>3534.0</td>\n",
       "    </tr>\n",
       "    <tr>\n",
       "      <th>54450</th>\n",
       "      <td>1189899240</td>\n",
       "      <td>0</td>\n",
       "      <td>0</td>\n",
       "      <td>0</td>\n",
       "      <td>1039</td>\n",
       "      <td>1141</td>\n",
       "      <td>0</td>\n",
       "      <td>0</td>\n",
       "      <td>0</td>\n",
       "      <td>3534.0</td>\n",
       "    </tr>\n",
       "    <tr>\n",
       "      <th>52138</th>\n",
       "      <td>1251496465</td>\n",
       "      <td>1</td>\n",
       "      <td>1</td>\n",
       "      <td>1</td>\n",
       "      <td>1039</td>\n",
       "      <td>1139</td>\n",
       "      <td>1050</td>\n",
       "      <td>1089</td>\n",
       "      <td>0</td>\n",
       "      <td>3534.0</td>\n",
       "    </tr>\n",
       "    <tr>\n",
       "      <th>67790</th>\n",
       "      <td>1251496465</td>\n",
       "      <td>1</td>\n",
       "      <td>1</td>\n",
       "      <td>1</td>\n",
       "      <td>1039</td>\n",
       "      <td>1139</td>\n",
       "      <td>1050</td>\n",
       "      <td>1089</td>\n",
       "      <td>1100</td>\n",
       "      <td>3534.0</td>\n",
       "    </tr>\n",
       "  </tbody>\n",
       "</table>\n",
       "</div>"
      ],
      "text/plain": [
       "           car_id  has_tuning  has_airbags  has_alarm_system  fuel_type  \\\n",
       "49297  1021854212           0            0                 0       1039   \n",
       "25281  1021854212           0            0                 0       1040   \n",
       "19591  1071192762           1            1                 1       1040   \n",
       "37616  1071192762           1            1                 1       1039   \n",
       "20260  1092285954           1            1                 0       1039   \n",
       "62249  1092285954           1            1                 0       1039   \n",
       "23369  1116277714           1            1                 0       1039   \n",
       "62436  1116277714           1            1                 0       1040   \n",
       "50603  1130791238           1            1                 0       1039   \n",
       "12934  1130791238           1            1                 0       1040   \n",
       "11699  1131021388           1            1                 0       1039   \n",
       "18733  1131021388           1            1                 0       1040   \n",
       "24110  1134904596           0            0                 0       1040   \n",
       "17581  1134904596           0            0                 0       1039   \n",
       "48854  1175003748           1            1                 0       1040   \n",
       "42760  1175003748           1            1                 0       1039   \n",
       "11135  1189899240           0            0                 0       1040   \n",
       "54450  1189899240           0            0                 0       1039   \n",
       "52138  1251496465           1            1                 1       1039   \n",
       "67790  1251496465           1            1                 1       1039   \n",
       "\n",
       "       gear_type  ac_type  xenon_light  navigation_system  radio_system  \n",
       "49297       1141        0            0               1100        3534.0  \n",
       "25281       1141        0            0               1100        3534.0  \n",
       "19591       1139     1050         1089               1100        3534.0  \n",
       "37616       1139     1050         1089               1100        3534.0  \n",
       "20260       1138     1050            0               1100           NaN  \n",
       "62249       1138     1050            0                  0           NaN  \n",
       "23369       1138        0            0                  0        3534.0  \n",
       "62436       1138        0            0               1100        3534.0  \n",
       "50603       1141     1050            0               1100        1100.0  \n",
       "12934       1141     1050            0               1100        1100.0  \n",
       "11699       1138     1050            0                  0        3534.0  \n",
       "18733       1138     1050            0                  0        3534.0  \n",
       "24110       1141        0            0                  0        3534.0  \n",
       "17581       1141        0            0                  0        3534.0  \n",
       "48854       1138     1050            0               1100        1100.0  \n",
       "42760       1138     1050            0               1100        1100.0  \n",
       "11135       1141        0            0               1100        3534.0  \n",
       "54450       1141        0            0                  0        3534.0  \n",
       "52138       1139     1050         1089                  0        3534.0  \n",
       "67790       1139     1050         1089               1100        3534.0  "
      ]
     },
     "execution_count": 492,
     "metadata": {},
     "output_type": "execute_result"
    }
   ],
   "source": [
    "## Check for duplicate records of same car_id\n",
    "\n",
    "df_car_details[df_car_details.groupby('car_id')['car_id'].transform('size') > 1].sort_values(by='car_id').head(20)"
   ]
  },
  {
   "cell_type": "code",
   "execution_count": 493,
   "metadata": {},
   "outputs": [
    {
     "data": {
      "text/html": [
       "<div>\n",
       "<style scoped>\n",
       "    .dataframe tbody tr th:only-of-type {\n",
       "        vertical-align: middle;\n",
       "    }\n",
       "\n",
       "    .dataframe tbody tr th {\n",
       "        vertical-align: top;\n",
       "    }\n",
       "\n",
       "    .dataframe thead th {\n",
       "        text-align: right;\n",
       "    }\n",
       "</style>\n",
       "<table border=\"1\" class=\"dataframe\">\n",
       "  <thead>\n",
       "    <tr style=\"text-align: right;\">\n",
       "      <th></th>\n",
       "      <th>car_id</th>\n",
       "      <th>has_tuning</th>\n",
       "      <th>has_airbags</th>\n",
       "      <th>has_alarm_system</th>\n",
       "      <th>fuel_type</th>\n",
       "      <th>gear_type</th>\n",
       "      <th>ac_type</th>\n",
       "      <th>xenon_light</th>\n",
       "      <th>navigation_system</th>\n",
       "      <th>radio_system</th>\n",
       "    </tr>\n",
       "  </thead>\n",
       "  <tbody>\n",
       "    <tr>\n",
       "      <th>49297</th>\n",
       "      <td>1021854212</td>\n",
       "      <td>0</td>\n",
       "      <td>0</td>\n",
       "      <td>0</td>\n",
       "      <td>1039</td>\n",
       "      <td>1141</td>\n",
       "      <td>0</td>\n",
       "      <td>0</td>\n",
       "      <td>1100</td>\n",
       "      <td>3534.0</td>\n",
       "    </tr>\n",
       "    <tr>\n",
       "      <th>25281</th>\n",
       "      <td>1021854212</td>\n",
       "      <td>0</td>\n",
       "      <td>0</td>\n",
       "      <td>0</td>\n",
       "      <td>1040</td>\n",
       "      <td>1141</td>\n",
       "      <td>0</td>\n",
       "      <td>0</td>\n",
       "      <td>1100</td>\n",
       "      <td>3534.0</td>\n",
       "    </tr>\n",
       "    <tr>\n",
       "      <th>19591</th>\n",
       "      <td>1071192762</td>\n",
       "      <td>1</td>\n",
       "      <td>1</td>\n",
       "      <td>1</td>\n",
       "      <td>1040</td>\n",
       "      <td>1139</td>\n",
       "      <td>1050</td>\n",
       "      <td>1089</td>\n",
       "      <td>1100</td>\n",
       "      <td>3534.0</td>\n",
       "    </tr>\n",
       "    <tr>\n",
       "      <th>37616</th>\n",
       "      <td>1071192762</td>\n",
       "      <td>1</td>\n",
       "      <td>1</td>\n",
       "      <td>1</td>\n",
       "      <td>1039</td>\n",
       "      <td>1139</td>\n",
       "      <td>1050</td>\n",
       "      <td>1089</td>\n",
       "      <td>1100</td>\n",
       "      <td>3534.0</td>\n",
       "    </tr>\n",
       "    <tr>\n",
       "      <th>20260</th>\n",
       "      <td>1092285954</td>\n",
       "      <td>1</td>\n",
       "      <td>1</td>\n",
       "      <td>0</td>\n",
       "      <td>1039</td>\n",
       "      <td>1138</td>\n",
       "      <td>1050</td>\n",
       "      <td>0</td>\n",
       "      <td>1100</td>\n",
       "      <td>NaN</td>\n",
       "    </tr>\n",
       "    <tr>\n",
       "      <th>62249</th>\n",
       "      <td>1092285954</td>\n",
       "      <td>1</td>\n",
       "      <td>1</td>\n",
       "      <td>0</td>\n",
       "      <td>1039</td>\n",
       "      <td>1138</td>\n",
       "      <td>1050</td>\n",
       "      <td>0</td>\n",
       "      <td>0</td>\n",
       "      <td>NaN</td>\n",
       "    </tr>\n",
       "    <tr>\n",
       "      <th>23369</th>\n",
       "      <td>1116277714</td>\n",
       "      <td>1</td>\n",
       "      <td>1</td>\n",
       "      <td>0</td>\n",
       "      <td>1039</td>\n",
       "      <td>1138</td>\n",
       "      <td>0</td>\n",
       "      <td>0</td>\n",
       "      <td>0</td>\n",
       "      <td>3534.0</td>\n",
       "    </tr>\n",
       "    <tr>\n",
       "      <th>62436</th>\n",
       "      <td>1116277714</td>\n",
       "      <td>1</td>\n",
       "      <td>1</td>\n",
       "      <td>0</td>\n",
       "      <td>1040</td>\n",
       "      <td>1138</td>\n",
       "      <td>0</td>\n",
       "      <td>0</td>\n",
       "      <td>1100</td>\n",
       "      <td>3534.0</td>\n",
       "    </tr>\n",
       "    <tr>\n",
       "      <th>50603</th>\n",
       "      <td>1130791238</td>\n",
       "      <td>1</td>\n",
       "      <td>1</td>\n",
       "      <td>0</td>\n",
       "      <td>1039</td>\n",
       "      <td>1141</td>\n",
       "      <td>1050</td>\n",
       "      <td>0</td>\n",
       "      <td>1100</td>\n",
       "      <td>1100.0</td>\n",
       "    </tr>\n",
       "    <tr>\n",
       "      <th>12934</th>\n",
       "      <td>1130791238</td>\n",
       "      <td>1</td>\n",
       "      <td>1</td>\n",
       "      <td>0</td>\n",
       "      <td>1040</td>\n",
       "      <td>1141</td>\n",
       "      <td>1050</td>\n",
       "      <td>0</td>\n",
       "      <td>1100</td>\n",
       "      <td>1100.0</td>\n",
       "    </tr>\n",
       "  </tbody>\n",
       "</table>\n",
       "</div>"
      ],
      "text/plain": [
       "           car_id  has_tuning  has_airbags  has_alarm_system  fuel_type  \\\n",
       "49297  1021854212           0            0                 0       1039   \n",
       "25281  1021854212           0            0                 0       1040   \n",
       "19591  1071192762           1            1                 1       1040   \n",
       "37616  1071192762           1            1                 1       1039   \n",
       "20260  1092285954           1            1                 0       1039   \n",
       "62249  1092285954           1            1                 0       1039   \n",
       "23369  1116277714           1            1                 0       1039   \n",
       "62436  1116277714           1            1                 0       1040   \n",
       "50603  1130791238           1            1                 0       1039   \n",
       "12934  1130791238           1            1                 0       1040   \n",
       "\n",
       "       gear_type  ac_type  xenon_light  navigation_system  radio_system  \n",
       "49297       1141        0            0               1100        3534.0  \n",
       "25281       1141        0            0               1100        3534.0  \n",
       "19591       1139     1050         1089               1100        3534.0  \n",
       "37616       1139     1050         1089               1100        3534.0  \n",
       "20260       1138     1050            0               1100           NaN  \n",
       "62249       1138     1050            0                  0           NaN  \n",
       "23369       1138        0            0                  0        3534.0  \n",
       "62436       1138        0            0               1100        3534.0  \n",
       "50603       1141     1050            0               1100        1100.0  \n",
       "12934       1141     1050            0               1100        1100.0  "
      ]
     },
     "execution_count": 493,
     "metadata": {},
     "output_type": "execute_result"
    }
   ],
   "source": [
    "# Subset the records with duplicate car_ids\n",
    "\n",
    "df_cd_dup = df_car_details[df_car_details.groupby('car_id')['car_id'].transform('size') > 1].sort_values(by='car_id')\n",
    "df_cd_dup.sort_values(by='car_id').head(10)"
   ]
  },
  {
   "cell_type": "code",
   "execution_count": 494,
   "metadata": {},
   "outputs": [
    {
     "data": {
      "text/plain": [
       "(961, 10)"
      ]
     },
     "execution_count": 494,
     "metadata": {},
     "output_type": "execute_result"
    }
   ],
   "source": [
    "df_cd_dup.shape"
   ]
  },
  {
   "cell_type": "code",
   "execution_count": 495,
   "metadata": {},
   "outputs": [
    {
     "data": {
      "text/plain": [
       "(69073, 10)"
      ]
     },
     "execution_count": 495,
     "metadata": {},
     "output_type": "execute_result"
    }
   ],
   "source": [
    "# Remove the duplicated car_ids from original dataframe to make it a deduplicated df.\n",
    "\n",
    "df_cd_deduped = df_car_details.drop(df_cd_dup.index)\n",
    "df_cd_deduped.shape"
   ]
  },
  {
   "cell_type": "markdown",
   "metadata": {},
   "source": [
    "##### Notice from the above subset that fule_type and navigation_system are the 2 fields which cause duplication.\n",
    "\n",
    "###### 1. Those who differ only by fuel_type, lets keep the first record of each car_id and delete the rest."
   ]
  },
  {
   "cell_type": "code",
   "execution_count": 496,
   "metadata": {
    "scrolled": true
   },
   "outputs": [
    {
     "data": {
      "text/html": [
       "<div>\n",
       "<style scoped>\n",
       "    .dataframe tbody tr th:only-of-type {\n",
       "        vertical-align: middle;\n",
       "    }\n",
       "\n",
       "    .dataframe tbody tr th {\n",
       "        vertical-align: top;\n",
       "    }\n",
       "\n",
       "    .dataframe thead th {\n",
       "        text-align: right;\n",
       "    }\n",
       "</style>\n",
       "<table border=\"1\" class=\"dataframe\">\n",
       "  <thead>\n",
       "    <tr style=\"text-align: right;\">\n",
       "      <th></th>\n",
       "      <th>car_id</th>\n",
       "      <th>has_tuning</th>\n",
       "      <th>has_airbags</th>\n",
       "      <th>has_alarm_system</th>\n",
       "      <th>fuel_type</th>\n",
       "      <th>gear_type</th>\n",
       "      <th>ac_type</th>\n",
       "      <th>xenon_light</th>\n",
       "      <th>navigation_system</th>\n",
       "      <th>radio_system</th>\n",
       "    </tr>\n",
       "  </thead>\n",
       "  <tbody>\n",
       "    <tr>\n",
       "      <th>49297</th>\n",
       "      <td>1021854212</td>\n",
       "      <td>0</td>\n",
       "      <td>0</td>\n",
       "      <td>0</td>\n",
       "      <td>1039</td>\n",
       "      <td>1141</td>\n",
       "      <td>0</td>\n",
       "      <td>0</td>\n",
       "      <td>1100</td>\n",
       "      <td>3534.0</td>\n",
       "    </tr>\n",
       "    <tr>\n",
       "      <th>19591</th>\n",
       "      <td>1071192762</td>\n",
       "      <td>1</td>\n",
       "      <td>1</td>\n",
       "      <td>1</td>\n",
       "      <td>1040</td>\n",
       "      <td>1139</td>\n",
       "      <td>1050</td>\n",
       "      <td>1089</td>\n",
       "      <td>1100</td>\n",
       "      <td>3534.0</td>\n",
       "    </tr>\n",
       "    <tr>\n",
       "      <th>20260</th>\n",
       "      <td>1092285954</td>\n",
       "      <td>1</td>\n",
       "      <td>1</td>\n",
       "      <td>0</td>\n",
       "      <td>1039</td>\n",
       "      <td>1138</td>\n",
       "      <td>1050</td>\n",
       "      <td>0</td>\n",
       "      <td>1100</td>\n",
       "      <td>NaN</td>\n",
       "    </tr>\n",
       "    <tr>\n",
       "      <th>62249</th>\n",
       "      <td>1092285954</td>\n",
       "      <td>1</td>\n",
       "      <td>1</td>\n",
       "      <td>0</td>\n",
       "      <td>1039</td>\n",
       "      <td>1138</td>\n",
       "      <td>1050</td>\n",
       "      <td>0</td>\n",
       "      <td>0</td>\n",
       "      <td>NaN</td>\n",
       "    </tr>\n",
       "    <tr>\n",
       "      <th>23369</th>\n",
       "      <td>1116277714</td>\n",
       "      <td>1</td>\n",
       "      <td>1</td>\n",
       "      <td>0</td>\n",
       "      <td>1039</td>\n",
       "      <td>1138</td>\n",
       "      <td>0</td>\n",
       "      <td>0</td>\n",
       "      <td>0</td>\n",
       "      <td>3534.0</td>\n",
       "    </tr>\n",
       "    <tr>\n",
       "      <th>62436</th>\n",
       "      <td>1116277714</td>\n",
       "      <td>1</td>\n",
       "      <td>1</td>\n",
       "      <td>0</td>\n",
       "      <td>1040</td>\n",
       "      <td>1138</td>\n",
       "      <td>0</td>\n",
       "      <td>0</td>\n",
       "      <td>1100</td>\n",
       "      <td>3534.0</td>\n",
       "    </tr>\n",
       "    <tr>\n",
       "      <th>50603</th>\n",
       "      <td>1130791238</td>\n",
       "      <td>1</td>\n",
       "      <td>1</td>\n",
       "      <td>0</td>\n",
       "      <td>1039</td>\n",
       "      <td>1141</td>\n",
       "      <td>1050</td>\n",
       "      <td>0</td>\n",
       "      <td>1100</td>\n",
       "      <td>1100.0</td>\n",
       "    </tr>\n",
       "    <tr>\n",
       "      <th>11699</th>\n",
       "      <td>1131021388</td>\n",
       "      <td>1</td>\n",
       "      <td>1</td>\n",
       "      <td>0</td>\n",
       "      <td>1039</td>\n",
       "      <td>1138</td>\n",
       "      <td>1050</td>\n",
       "      <td>0</td>\n",
       "      <td>0</td>\n",
       "      <td>3534.0</td>\n",
       "    </tr>\n",
       "    <tr>\n",
       "      <th>24110</th>\n",
       "      <td>1134904596</td>\n",
       "      <td>0</td>\n",
       "      <td>0</td>\n",
       "      <td>0</td>\n",
       "      <td>1040</td>\n",
       "      <td>1141</td>\n",
       "      <td>0</td>\n",
       "      <td>0</td>\n",
       "      <td>0</td>\n",
       "      <td>3534.0</td>\n",
       "    </tr>\n",
       "    <tr>\n",
       "      <th>48854</th>\n",
       "      <td>1175003748</td>\n",
       "      <td>1</td>\n",
       "      <td>1</td>\n",
       "      <td>0</td>\n",
       "      <td>1040</td>\n",
       "      <td>1138</td>\n",
       "      <td>1050</td>\n",
       "      <td>0</td>\n",
       "      <td>1100</td>\n",
       "      <td>1100.0</td>\n",
       "    </tr>\n",
       "  </tbody>\n",
       "</table>\n",
       "</div>"
      ],
      "text/plain": [
       "           car_id  has_tuning  has_airbags  has_alarm_system  fuel_type  \\\n",
       "49297  1021854212           0            0                 0       1039   \n",
       "19591  1071192762           1            1                 1       1040   \n",
       "20260  1092285954           1            1                 0       1039   \n",
       "62249  1092285954           1            1                 0       1039   \n",
       "23369  1116277714           1            1                 0       1039   \n",
       "62436  1116277714           1            1                 0       1040   \n",
       "50603  1130791238           1            1                 0       1039   \n",
       "11699  1131021388           1            1                 0       1039   \n",
       "24110  1134904596           0            0                 0       1040   \n",
       "48854  1175003748           1            1                 0       1040   \n",
       "\n",
       "       gear_type  ac_type  xenon_light  navigation_system  radio_system  \n",
       "49297       1141        0            0               1100        3534.0  \n",
       "19591       1139     1050         1089               1100        3534.0  \n",
       "20260       1138     1050            0               1100           NaN  \n",
       "62249       1138     1050            0                  0           NaN  \n",
       "23369       1138        0            0                  0        3534.0  \n",
       "62436       1138        0            0               1100        3534.0  \n",
       "50603       1141     1050            0               1100        1100.0  \n",
       "11699       1138     1050            0                  0        3534.0  \n",
       "24110       1141        0            0                  0        3534.0  \n",
       "48854       1138     1050            0               1100        1100.0  "
      ]
     },
     "execution_count": 496,
     "metadata": {},
     "output_type": "execute_result"
    }
   ],
   "source": [
    "df_cd_dup = df_cd_dup.drop_duplicates(['car_id', 'navigation_system']).sort_values(by='car_id')\n",
    "\n",
    "df_cd_dup.head(10)"
   ]
  },
  {
   "cell_type": "code",
   "execution_count": 497,
   "metadata": {},
   "outputs": [
    {
     "data": {
      "text/plain": [
       "(792, 10)"
      ]
     },
     "execution_count": 497,
     "metadata": {},
     "output_type": "execute_result"
    }
   ],
   "source": [
    "df_cd_dup.shape"
   ]
  },
  {
   "cell_type": "code",
   "execution_count": 498,
   "metadata": {},
   "outputs": [
    {
     "data": {
      "text/html": [
       "<div>\n",
       "<style scoped>\n",
       "    .dataframe tbody tr th:only-of-type {\n",
       "        vertical-align: middle;\n",
       "    }\n",
       "\n",
       "    .dataframe tbody tr th {\n",
       "        vertical-align: top;\n",
       "    }\n",
       "\n",
       "    .dataframe thead th {\n",
       "        text-align: right;\n",
       "    }\n",
       "</style>\n",
       "<table border=\"1\" class=\"dataframe\">\n",
       "  <thead>\n",
       "    <tr style=\"text-align: right;\">\n",
       "      <th></th>\n",
       "      <th>car_id</th>\n",
       "      <th>has_tuning</th>\n",
       "      <th>has_airbags</th>\n",
       "      <th>has_alarm_system</th>\n",
       "      <th>fuel_type</th>\n",
       "      <th>gear_type</th>\n",
       "      <th>ac_type</th>\n",
       "      <th>xenon_light</th>\n",
       "      <th>navigation_system</th>\n",
       "      <th>radio_system</th>\n",
       "    </tr>\n",
       "  </thead>\n",
       "  <tbody>\n",
       "    <tr>\n",
       "      <th>20260</th>\n",
       "      <td>1092285954</td>\n",
       "      <td>1</td>\n",
       "      <td>1</td>\n",
       "      <td>0</td>\n",
       "      <td>1039</td>\n",
       "      <td>1138</td>\n",
       "      <td>1050</td>\n",
       "      <td>0</td>\n",
       "      <td>1100</td>\n",
       "      <td>NaN</td>\n",
       "    </tr>\n",
       "    <tr>\n",
       "      <th>62249</th>\n",
       "      <td>1092285954</td>\n",
       "      <td>1</td>\n",
       "      <td>1</td>\n",
       "      <td>0</td>\n",
       "      <td>1039</td>\n",
       "      <td>1138</td>\n",
       "      <td>1050</td>\n",
       "      <td>0</td>\n",
       "      <td>0</td>\n",
       "      <td>NaN</td>\n",
       "    </tr>\n",
       "    <tr>\n",
       "      <th>23369</th>\n",
       "      <td>1116277714</td>\n",
       "      <td>1</td>\n",
       "      <td>1</td>\n",
       "      <td>0</td>\n",
       "      <td>1039</td>\n",
       "      <td>1138</td>\n",
       "      <td>0</td>\n",
       "      <td>0</td>\n",
       "      <td>0</td>\n",
       "      <td>3534.0</td>\n",
       "    </tr>\n",
       "    <tr>\n",
       "      <th>62436</th>\n",
       "      <td>1116277714</td>\n",
       "      <td>1</td>\n",
       "      <td>1</td>\n",
       "      <td>0</td>\n",
       "      <td>1040</td>\n",
       "      <td>1138</td>\n",
       "      <td>0</td>\n",
       "      <td>0</td>\n",
       "      <td>1100</td>\n",
       "      <td>3534.0</td>\n",
       "    </tr>\n",
       "    <tr>\n",
       "      <th>54450</th>\n",
       "      <td>1189899240</td>\n",
       "      <td>0</td>\n",
       "      <td>0</td>\n",
       "      <td>0</td>\n",
       "      <td>1039</td>\n",
       "      <td>1141</td>\n",
       "      <td>0</td>\n",
       "      <td>0</td>\n",
       "      <td>0</td>\n",
       "      <td>3534.0</td>\n",
       "    </tr>\n",
       "    <tr>\n",
       "      <th>11135</th>\n",
       "      <td>1189899240</td>\n",
       "      <td>0</td>\n",
       "      <td>0</td>\n",
       "      <td>0</td>\n",
       "      <td>1040</td>\n",
       "      <td>1141</td>\n",
       "      <td>0</td>\n",
       "      <td>0</td>\n",
       "      <td>1100</td>\n",
       "      <td>3534.0</td>\n",
       "    </tr>\n",
       "    <tr>\n",
       "      <th>52138</th>\n",
       "      <td>1251496465</td>\n",
       "      <td>1</td>\n",
       "      <td>1</td>\n",
       "      <td>1</td>\n",
       "      <td>1039</td>\n",
       "      <td>1139</td>\n",
       "      <td>1050</td>\n",
       "      <td>1089</td>\n",
       "      <td>0</td>\n",
       "      <td>3534.0</td>\n",
       "    </tr>\n",
       "    <tr>\n",
       "      <th>67790</th>\n",
       "      <td>1251496465</td>\n",
       "      <td>1</td>\n",
       "      <td>1</td>\n",
       "      <td>1</td>\n",
       "      <td>1039</td>\n",
       "      <td>1139</td>\n",
       "      <td>1050</td>\n",
       "      <td>1089</td>\n",
       "      <td>1100</td>\n",
       "      <td>3534.0</td>\n",
       "    </tr>\n",
       "    <tr>\n",
       "      <th>8106</th>\n",
       "      <td>1257596002</td>\n",
       "      <td>0</td>\n",
       "      <td>0</td>\n",
       "      <td>0</td>\n",
       "      <td>1039</td>\n",
       "      <td>1141</td>\n",
       "      <td>0</td>\n",
       "      <td>0</td>\n",
       "      <td>0</td>\n",
       "      <td>3534.0</td>\n",
       "    </tr>\n",
       "    <tr>\n",
       "      <th>67243</th>\n",
       "      <td>1257596002</td>\n",
       "      <td>0</td>\n",
       "      <td>0</td>\n",
       "      <td>0</td>\n",
       "      <td>1039</td>\n",
       "      <td>1141</td>\n",
       "      <td>0</td>\n",
       "      <td>0</td>\n",
       "      <td>1100</td>\n",
       "      <td>3534.0</td>\n",
       "    </tr>\n",
       "  </tbody>\n",
       "</table>\n",
       "</div>"
      ],
      "text/plain": [
       "           car_id  has_tuning  has_airbags  has_alarm_system  fuel_type  \\\n",
       "20260  1092285954           1            1                 0       1039   \n",
       "62249  1092285954           1            1                 0       1039   \n",
       "23369  1116277714           1            1                 0       1039   \n",
       "62436  1116277714           1            1                 0       1040   \n",
       "54450  1189899240           0            0                 0       1039   \n",
       "11135  1189899240           0            0                 0       1040   \n",
       "52138  1251496465           1            1                 1       1039   \n",
       "67790  1251496465           1            1                 1       1039   \n",
       "8106   1257596002           0            0                 0       1039   \n",
       "67243  1257596002           0            0                 0       1039   \n",
       "\n",
       "       gear_type  ac_type  xenon_light  navigation_system  radio_system  \n",
       "20260       1138     1050            0               1100           NaN  \n",
       "62249       1138     1050            0                  0           NaN  \n",
       "23369       1138        0            0                  0        3534.0  \n",
       "62436       1138        0            0               1100        3534.0  \n",
       "54450       1141        0            0                  0        3534.0  \n",
       "11135       1141        0            0               1100        3534.0  \n",
       "52138       1139     1050         1089                  0        3534.0  \n",
       "67790       1139     1050         1089               1100        3534.0  \n",
       "8106        1141        0            0                  0        3534.0  \n",
       "67243       1141        0            0               1100        3534.0  "
      ]
     },
     "execution_count": 498,
     "metadata": {},
     "output_type": "execute_result"
    }
   ],
   "source": [
    "# Filter the uniques and append to the deduped dataframe & drop the uniques from the df_cd_dup\n",
    "\n",
    "df_temp = df_cd_dup[df_cd_dup.groupby('car_id')['car_id'].transform('size') == 1]\n",
    "\n",
    "df_cd_deduped = df_cd_deduped.append(df_temp)\n",
    "df_cd_dup = df_cd_dup.drop(df_temp.index)\n",
    "df_cd_dup.head(10)"
   ]
  },
  {
   "cell_type": "code",
   "execution_count": 499,
   "metadata": {},
   "outputs": [
    {
     "data": {
      "text/plain": [
       "(628, 10)"
      ]
     },
     "execution_count": 499,
     "metadata": {},
     "output_type": "execute_result"
    }
   ],
   "source": [
    "df_cd_dup.shape"
   ]
  },
  {
   "cell_type": "markdown",
   "metadata": {},
   "source": [
    "##### 2. Those who differ only by navigation_system, lets keep the first record of each car_id and delete the rest."
   ]
  },
  {
   "cell_type": "code",
   "execution_count": 500,
   "metadata": {},
   "outputs": [
    {
     "data": {
      "text/html": [
       "<div>\n",
       "<style scoped>\n",
       "    .dataframe tbody tr th:only-of-type {\n",
       "        vertical-align: middle;\n",
       "    }\n",
       "\n",
       "    .dataframe tbody tr th {\n",
       "        vertical-align: top;\n",
       "    }\n",
       "\n",
       "    .dataframe thead th {\n",
       "        text-align: right;\n",
       "    }\n",
       "</style>\n",
       "<table border=\"1\" class=\"dataframe\">\n",
       "  <thead>\n",
       "    <tr style=\"text-align: right;\">\n",
       "      <th></th>\n",
       "      <th>car_id</th>\n",
       "      <th>has_tuning</th>\n",
       "      <th>has_airbags</th>\n",
       "      <th>has_alarm_system</th>\n",
       "      <th>fuel_type</th>\n",
       "      <th>gear_type</th>\n",
       "      <th>ac_type</th>\n",
       "      <th>xenon_light</th>\n",
       "      <th>navigation_system</th>\n",
       "      <th>radio_system</th>\n",
       "    </tr>\n",
       "  </thead>\n",
       "  <tbody>\n",
       "    <tr>\n",
       "      <th>20260</th>\n",
       "      <td>1092285954</td>\n",
       "      <td>1</td>\n",
       "      <td>1</td>\n",
       "      <td>0</td>\n",
       "      <td>1039</td>\n",
       "      <td>1138</td>\n",
       "      <td>1050</td>\n",
       "      <td>0</td>\n",
       "      <td>1100</td>\n",
       "      <td>NaN</td>\n",
       "    </tr>\n",
       "    <tr>\n",
       "      <th>23369</th>\n",
       "      <td>1116277714</td>\n",
       "      <td>1</td>\n",
       "      <td>1</td>\n",
       "      <td>0</td>\n",
       "      <td>1039</td>\n",
       "      <td>1138</td>\n",
       "      <td>0</td>\n",
       "      <td>0</td>\n",
       "      <td>0</td>\n",
       "      <td>3534.0</td>\n",
       "    </tr>\n",
       "    <tr>\n",
       "      <th>62436</th>\n",
       "      <td>1116277714</td>\n",
       "      <td>1</td>\n",
       "      <td>1</td>\n",
       "      <td>0</td>\n",
       "      <td>1040</td>\n",
       "      <td>1138</td>\n",
       "      <td>0</td>\n",
       "      <td>0</td>\n",
       "      <td>1100</td>\n",
       "      <td>3534.0</td>\n",
       "    </tr>\n",
       "    <tr>\n",
       "      <th>54450</th>\n",
       "      <td>1189899240</td>\n",
       "      <td>0</td>\n",
       "      <td>0</td>\n",
       "      <td>0</td>\n",
       "      <td>1039</td>\n",
       "      <td>1141</td>\n",
       "      <td>0</td>\n",
       "      <td>0</td>\n",
       "      <td>0</td>\n",
       "      <td>3534.0</td>\n",
       "    </tr>\n",
       "    <tr>\n",
       "      <th>11135</th>\n",
       "      <td>1189899240</td>\n",
       "      <td>0</td>\n",
       "      <td>0</td>\n",
       "      <td>0</td>\n",
       "      <td>1040</td>\n",
       "      <td>1141</td>\n",
       "      <td>0</td>\n",
       "      <td>0</td>\n",
       "      <td>1100</td>\n",
       "      <td>3534.0</td>\n",
       "    </tr>\n",
       "    <tr>\n",
       "      <th>52138</th>\n",
       "      <td>1251496465</td>\n",
       "      <td>1</td>\n",
       "      <td>1</td>\n",
       "      <td>1</td>\n",
       "      <td>1039</td>\n",
       "      <td>1139</td>\n",
       "      <td>1050</td>\n",
       "      <td>1089</td>\n",
       "      <td>0</td>\n",
       "      <td>3534.0</td>\n",
       "    </tr>\n",
       "    <tr>\n",
       "      <th>8106</th>\n",
       "      <td>1257596002</td>\n",
       "      <td>0</td>\n",
       "      <td>0</td>\n",
       "      <td>0</td>\n",
       "      <td>1039</td>\n",
       "      <td>1141</td>\n",
       "      <td>0</td>\n",
       "      <td>0</td>\n",
       "      <td>0</td>\n",
       "      <td>3534.0</td>\n",
       "    </tr>\n",
       "    <tr>\n",
       "      <th>69446</th>\n",
       "      <td>1257782013</td>\n",
       "      <td>1</td>\n",
       "      <td>1</td>\n",
       "      <td>0</td>\n",
       "      <td>1039</td>\n",
       "      <td>1138</td>\n",
       "      <td>0</td>\n",
       "      <td>0</td>\n",
       "      <td>0</td>\n",
       "      <td>NaN</td>\n",
       "    </tr>\n",
       "    <tr>\n",
       "      <th>29230</th>\n",
       "      <td>1257782013</td>\n",
       "      <td>1</td>\n",
       "      <td>1</td>\n",
       "      <td>0</td>\n",
       "      <td>1040</td>\n",
       "      <td>1138</td>\n",
       "      <td>0</td>\n",
       "      <td>0</td>\n",
       "      <td>1100</td>\n",
       "      <td>NaN</td>\n",
       "    </tr>\n",
       "    <tr>\n",
       "      <th>54861</th>\n",
       "      <td>1266182032</td>\n",
       "      <td>0</td>\n",
       "      <td>0</td>\n",
       "      <td>0</td>\n",
       "      <td>1039</td>\n",
       "      <td>1141</td>\n",
       "      <td>0</td>\n",
       "      <td>0</td>\n",
       "      <td>1100</td>\n",
       "      <td>3534.0</td>\n",
       "    </tr>\n",
       "  </tbody>\n",
       "</table>\n",
       "</div>"
      ],
      "text/plain": [
       "           car_id  has_tuning  has_airbags  has_alarm_system  fuel_type  \\\n",
       "20260  1092285954           1            1                 0       1039   \n",
       "23369  1116277714           1            1                 0       1039   \n",
       "62436  1116277714           1            1                 0       1040   \n",
       "54450  1189899240           0            0                 0       1039   \n",
       "11135  1189899240           0            0                 0       1040   \n",
       "52138  1251496465           1            1                 1       1039   \n",
       "8106   1257596002           0            0                 0       1039   \n",
       "69446  1257782013           1            1                 0       1039   \n",
       "29230  1257782013           1            1                 0       1040   \n",
       "54861  1266182032           0            0                 0       1039   \n",
       "\n",
       "       gear_type  ac_type  xenon_light  navigation_system  radio_system  \n",
       "20260       1138     1050            0               1100           NaN  \n",
       "23369       1138        0            0                  0        3534.0  \n",
       "62436       1138        0            0               1100        3534.0  \n",
       "54450       1141        0            0                  0        3534.0  \n",
       "11135       1141        0            0               1100        3534.0  \n",
       "52138       1139     1050         1089                  0        3534.0  \n",
       "8106        1141        0            0                  0        3534.0  \n",
       "69446       1138        0            0                  0           NaN  \n",
       "29230       1138        0            0               1100           NaN  \n",
       "54861       1141        0            0               1100        3534.0  "
      ]
     },
     "execution_count": 500,
     "metadata": {},
     "output_type": "execute_result"
    }
   ],
   "source": [
    "df_cd_dup = df_cd_dup.drop_duplicates(['car_id', 'fuel_type']).sort_values(by='car_id')\n",
    "\n",
    "df_cd_dup.head(10)"
   ]
  },
  {
   "cell_type": "code",
   "execution_count": 501,
   "metadata": {},
   "outputs": [
    {
     "data": {
      "text/html": [
       "<div>\n",
       "<style scoped>\n",
       "    .dataframe tbody tr th:only-of-type {\n",
       "        vertical-align: middle;\n",
       "    }\n",
       "\n",
       "    .dataframe tbody tr th {\n",
       "        vertical-align: top;\n",
       "    }\n",
       "\n",
       "    .dataframe thead th {\n",
       "        text-align: right;\n",
       "    }\n",
       "</style>\n",
       "<table border=\"1\" class=\"dataframe\">\n",
       "  <thead>\n",
       "    <tr style=\"text-align: right;\">\n",
       "      <th></th>\n",
       "      <th>car_id</th>\n",
       "      <th>has_tuning</th>\n",
       "      <th>has_airbags</th>\n",
       "      <th>has_alarm_system</th>\n",
       "      <th>fuel_type</th>\n",
       "      <th>gear_type</th>\n",
       "      <th>ac_type</th>\n",
       "      <th>xenon_light</th>\n",
       "      <th>navigation_system</th>\n",
       "      <th>radio_system</th>\n",
       "    </tr>\n",
       "  </thead>\n",
       "  <tbody>\n",
       "    <tr>\n",
       "      <th>23369</th>\n",
       "      <td>1116277714</td>\n",
       "      <td>1</td>\n",
       "      <td>1</td>\n",
       "      <td>0</td>\n",
       "      <td>1039</td>\n",
       "      <td>1138</td>\n",
       "      <td>0</td>\n",
       "      <td>0</td>\n",
       "      <td>0</td>\n",
       "      <td>3534.0</td>\n",
       "    </tr>\n",
       "    <tr>\n",
       "      <th>62436</th>\n",
       "      <td>1116277714</td>\n",
       "      <td>1</td>\n",
       "      <td>1</td>\n",
       "      <td>0</td>\n",
       "      <td>1040</td>\n",
       "      <td>1138</td>\n",
       "      <td>0</td>\n",
       "      <td>0</td>\n",
       "      <td>1100</td>\n",
       "      <td>3534.0</td>\n",
       "    </tr>\n",
       "    <tr>\n",
       "      <th>54450</th>\n",
       "      <td>1189899240</td>\n",
       "      <td>0</td>\n",
       "      <td>0</td>\n",
       "      <td>0</td>\n",
       "      <td>1039</td>\n",
       "      <td>1141</td>\n",
       "      <td>0</td>\n",
       "      <td>0</td>\n",
       "      <td>0</td>\n",
       "      <td>3534.0</td>\n",
       "    </tr>\n",
       "    <tr>\n",
       "      <th>11135</th>\n",
       "      <td>1189899240</td>\n",
       "      <td>0</td>\n",
       "      <td>0</td>\n",
       "      <td>0</td>\n",
       "      <td>1040</td>\n",
       "      <td>1141</td>\n",
       "      <td>0</td>\n",
       "      <td>0</td>\n",
       "      <td>1100</td>\n",
       "      <td>3534.0</td>\n",
       "    </tr>\n",
       "    <tr>\n",
       "      <th>69446</th>\n",
       "      <td>1257782013</td>\n",
       "      <td>1</td>\n",
       "      <td>1</td>\n",
       "      <td>0</td>\n",
       "      <td>1039</td>\n",
       "      <td>1138</td>\n",
       "      <td>0</td>\n",
       "      <td>0</td>\n",
       "      <td>0</td>\n",
       "      <td>NaN</td>\n",
       "    </tr>\n",
       "    <tr>\n",
       "      <th>29230</th>\n",
       "      <td>1257782013</td>\n",
       "      <td>1</td>\n",
       "      <td>1</td>\n",
       "      <td>0</td>\n",
       "      <td>1040</td>\n",
       "      <td>1138</td>\n",
       "      <td>0</td>\n",
       "      <td>0</td>\n",
       "      <td>1100</td>\n",
       "      <td>NaN</td>\n",
       "    </tr>\n",
       "    <tr>\n",
       "      <th>64274</th>\n",
       "      <td>1550589125</td>\n",
       "      <td>0</td>\n",
       "      <td>0</td>\n",
       "      <td>0</td>\n",
       "      <td>1039</td>\n",
       "      <td>1141</td>\n",
       "      <td>0</td>\n",
       "      <td>0</td>\n",
       "      <td>0</td>\n",
       "      <td>3534.0</td>\n",
       "    </tr>\n",
       "    <tr>\n",
       "      <th>2198</th>\n",
       "      <td>1550589125</td>\n",
       "      <td>0</td>\n",
       "      <td>0</td>\n",
       "      <td>0</td>\n",
       "      <td>1040</td>\n",
       "      <td>1141</td>\n",
       "      <td>0</td>\n",
       "      <td>0</td>\n",
       "      <td>1100</td>\n",
       "      <td>3534.0</td>\n",
       "    </tr>\n",
       "    <tr>\n",
       "      <th>47017</th>\n",
       "      <td>1675413187</td>\n",
       "      <td>0</td>\n",
       "      <td>0</td>\n",
       "      <td>0</td>\n",
       "      <td>1039</td>\n",
       "      <td>1141</td>\n",
       "      <td>0</td>\n",
       "      <td>0</td>\n",
       "      <td>0</td>\n",
       "      <td>3534.0</td>\n",
       "    </tr>\n",
       "    <tr>\n",
       "      <th>47934</th>\n",
       "      <td>1675413187</td>\n",
       "      <td>0</td>\n",
       "      <td>0</td>\n",
       "      <td>0</td>\n",
       "      <td>1040</td>\n",
       "      <td>1141</td>\n",
       "      <td>0</td>\n",
       "      <td>0</td>\n",
       "      <td>1100</td>\n",
       "      <td>3534.0</td>\n",
       "    </tr>\n",
       "  </tbody>\n",
       "</table>\n",
       "</div>"
      ],
      "text/plain": [
       "           car_id  has_tuning  has_airbags  has_alarm_system  fuel_type  \\\n",
       "23369  1116277714           1            1                 0       1039   \n",
       "62436  1116277714           1            1                 0       1040   \n",
       "54450  1189899240           0            0                 0       1039   \n",
       "11135  1189899240           0            0                 0       1040   \n",
       "69446  1257782013           1            1                 0       1039   \n",
       "29230  1257782013           1            1                 0       1040   \n",
       "64274  1550589125           0            0                 0       1039   \n",
       "2198   1550589125           0            0                 0       1040   \n",
       "47017  1675413187           0            0                 0       1039   \n",
       "47934  1675413187           0            0                 0       1040   \n",
       "\n",
       "       gear_type  ac_type  xenon_light  navigation_system  radio_system  \n",
       "23369       1138        0            0                  0        3534.0  \n",
       "62436       1138        0            0               1100        3534.0  \n",
       "54450       1141        0            0                  0        3534.0  \n",
       "11135       1141        0            0               1100        3534.0  \n",
       "69446       1138        0            0                  0           NaN  \n",
       "29230       1138        0            0               1100           NaN  \n",
       "64274       1141        0            0                  0        3534.0  \n",
       "2198        1141        0            0               1100        3534.0  \n",
       "47017       1141        0            0                  0        3534.0  \n",
       "47934       1141        0            0               1100        3534.0  "
      ]
     },
     "execution_count": 501,
     "metadata": {},
     "output_type": "execute_result"
    }
   ],
   "source": [
    "# Filter the uniques and append to the deduped dataframe & drop the uniques from the df_cd_dup\n",
    "\n",
    "df_temp = df_cd_dup[df_cd_dup.groupby('car_id')['car_id'].transform('size') == 1]\n",
    "\n",
    "df_cd_deduped = df_cd_deduped.append(df_temp)\n",
    "df_cd_dup = df_cd_dup.drop(df_temp.index)\n",
    "df_cd_dup.head(10)"
   ]
  },
  {
   "cell_type": "code",
   "execution_count": 502,
   "metadata": {},
   "outputs": [
    {
     "data": {
      "text/plain": [
       "(134, 10)"
      ]
     },
     "execution_count": 502,
     "metadata": {},
     "output_type": "execute_result"
    }
   ],
   "source": [
    "df_cd_dup.shape"
   ]
  },
  {
   "cell_type": "markdown",
   "metadata": {},
   "source": [
    "###### 3. Those who differ in both navigation_system & fuel_type, lets keep the record with 1100 as nav_system and delete the 0 values."
   ]
  },
  {
   "cell_type": "code",
   "execution_count": 503,
   "metadata": {},
   "outputs": [
    {
     "data": {
      "text/plain": [
       "(69551, 10)"
      ]
     },
     "execution_count": 503,
     "metadata": {},
     "output_type": "execute_result"
    }
   ],
   "source": [
    "df_cd_dup = df_cd_dup[df_cd_dup['navigation_system'] != 0]\n",
    "df_cd_deduped = df_cd_deduped.append(df_cd_dup)\n",
    "df_cd_deduped.shape"
   ]
  },
  {
   "cell_type": "code",
   "execution_count": 504,
   "metadata": {},
   "outputs": [
    {
     "data": {
      "text/plain": [
       "(69551, 10)"
      ]
     },
     "execution_count": 504,
     "metadata": {},
     "output_type": "execute_result"
    }
   ],
   "source": [
    "df_car_details = df_cd_deduped\n",
    "\n",
    "# Reset index\n",
    "df_car_details.reset_index(drop=True, inplace=True)\n",
    "\n",
    "df_car_details.shape"
   ]
  },
  {
   "cell_type": "markdown",
   "metadata": {},
   "source": [
    "## Car_Claims Dataframe Cleaning"
   ]
  },
  {
   "cell_type": "code",
   "execution_count": 374,
   "metadata": {},
   "outputs": [
    {
     "data": {
      "text/plain": [
       "(70512, 6)"
      ]
     },
     "execution_count": 374,
     "metadata": {},
     "output_type": "execute_result"
    }
   ],
   "source": [
    "df_car_claims.shape"
   ]
  },
  {
   "cell_type": "code",
   "execution_count": 375,
   "metadata": {},
   "outputs": [
    {
     "data": {
      "text/plain": [
       "(70504, 6)"
      ]
     },
     "execution_count": 375,
     "metadata": {},
     "output_type": "execute_result"
    }
   ],
   "source": [
    "df_car_claims.drop_duplicates(inplace=True)\n",
    "df_car_claims.shape"
   ]
  },
  {
   "cell_type": "code",
   "execution_count": 376,
   "metadata": {},
   "outputs": [
    {
     "name": "stdout",
     "output_type": "stream",
     "text": [
      "<class 'pandas.core.frame.DataFrame'>\n",
      "Int64Index: 70504 entries, 0 to 70511\n",
      "Data columns (total 6 columns):\n",
      " #   Column           Non-Null Count  Dtype  \n",
      "---  ------           --------------  -----  \n",
      " 0   car_id_claims    70504 non-null  int64  \n",
      " 1   claim_number     19974 non-null  object \n",
      " 2   full_refunds     70504 non-null  int64  \n",
      " 3   partial_refunds  70504 non-null  int64  \n",
      " 4   voucher_amount   15173 non-null  float64\n",
      " 5   claim_status     19974 non-null  object \n",
      "dtypes: float64(1), int64(3), object(2)\n",
      "memory usage: 3.8+ MB\n"
     ]
    }
   ],
   "source": [
    "df_car_claims.info()"
   ]
  },
  {
   "cell_type": "markdown",
   "metadata": {},
   "source": [
    "#### Convert to right datatypes"
   ]
  },
  {
   "cell_type": "code",
   "execution_count": 377,
   "metadata": {},
   "outputs": [
    {
     "name": "stdout",
     "output_type": "stream",
     "text": [
      "<class 'pandas.core.frame.DataFrame'>\n",
      "Int64Index: 70504 entries, 0 to 70511\n",
      "Data columns (total 6 columns):\n",
      " #   Column           Non-Null Count  Dtype  \n",
      "---  ------           --------------  -----  \n",
      " 0   car_id           70504 non-null  int64  \n",
      " 1   claim_number     19974 non-null  object \n",
      " 2   full_refunds     70504 non-null  int64  \n",
      " 3   partial_refunds  70504 non-null  int64  \n",
      " 4   voucher_amount   15173 non-null  float64\n",
      " 5   claim_status     19974 non-null  object \n",
      "dtypes: float64(1), int64(3), object(2)\n",
      "memory usage: 3.8+ MB\n"
     ]
    }
   ],
   "source": [
    "# df_car_claims['car_id_claims'] = df_car_claims['car_id_claims'].astype('str')\n",
    "# df_car_claims['claim_number'] = df_car_claims['claim_number'].astype('str')\n",
    "\n",
    "# Rename primary column\n",
    "df_car_claims.rename(columns={'car_id_claims': 'car_id'}, inplace=True)\n",
    "\n",
    "df_car_claims.info()"
   ]
  },
  {
   "cell_type": "code",
   "execution_count": 378,
   "metadata": {},
   "outputs": [
    {
     "data": {
      "text/plain": [
       "CLOSED_FULLY_PROCESSED                                                    7910\n",
       "REJECTED                                                                  5026\n",
       "CLOSED_NO_COMPENSATION                                                    3410\n",
       "CREATED                                                                   1262\n",
       "CLOSED_ITEMS_FOUND_AND_SENT                                                783\n",
       "CLOSED_WAITING_FOR_MORE_PROOF                                              348\n",
       "PROOF_NOT_RECEIVED                                                         309\n",
       "WAITING_FOR_SALES_TO_NEGOTIATE_WITH_THE_MERCHANT                           234\n",
       "WAITING_FOR_LOCAL_OPS_MD_DECISION                                          159\n",
       "MISSING_ITEMS_IN_PROGRESS                                                  134\n",
       "2ND_DECISION_WAITING_FOR_SALES_TO_NEGOTIATE_WITH_MERCHANT                   77\n",
       "NEW                                                                         72\n",
       "WAITING_FOR_CLAIMS_TEAM_2_EVALUATION                                        45\n",
       "CLOSED_WAITING_FOR_MERCHANT_BANK_DETAILS                                    34\n",
       "2ND_DECISION_WAITING_FOR_LOCAL_OPS_MD_DECISION                              33\n",
       "CLOSED_WAITING_FOR_MONEY_TO_BE_SHIPPED_AND_COMPENSATION_TO_BE_RECORDED      32\n",
       "CLOSED_CARRIER_WILL_COMPENSATE                                              18\n",
       "CLOSED_WAITING_FOR_DOCUMENTS                                                16\n",
       "NEW_MISSING_ITEM_CLAIM                                                      16\n",
       "CLOSED_OVER_TIME_LIMIT                                                      12\n",
       "WAITING_FOR_CLAIMS_TEAM_1_EVALUATION                                        11\n",
       "CLOSED_WAITING_FOR_CAR_DOCUMENTS_AND_BANK_DETAILS                           10\n",
       "WAITING_FOR_CARRIER_FEEDBACK                                                10\n",
       "MORE_PROOF_RECEIVED                                                          4\n",
       "WAITING_FOR_LEGAL_TEAM                                                       3\n",
       "2ND_EVALUATION_CLAIMS_TEAM_2                                                 3\n",
       "WAITING_FOR_BANK_DETAILS_VALIDATION                                          2\n",
       "CLOSED_WAITING_FOR_COMPENSATION_TO_BE_RECORDED                               1\n",
       "Name: claim_status, dtype: int64"
      ]
     },
     "execution_count": 378,
     "metadata": {},
     "output_type": "execute_result"
    }
   ],
   "source": [
    "df_car_claims['claim_status'].value_counts()"
   ]
  },
  {
   "cell_type": "code",
   "execution_count": 379,
   "metadata": {},
   "outputs": [],
   "source": [
    "status_codes = { np.NaN: 0,\n",
    "                'CREATED': 1,\n",
    "                'NEW_MISSING_ITEM_CLAIM': 1,\n",
    "                'NEW': 1,\n",
    "\n",
    "                'PROOF_NOT_RECEIVED': 2,\n",
    "                'CLOSED_WAITING_FOR_MORE_PROOF': 3,\n",
    "                'CLOSED_OVER_TIME_LIMIT': 4,\n",
    "                'MORE_PROOF_RECEIVED': 5,\n",
    "                'WAITING_FOR_CLAIMS_TEAM_1_EVALUATION': 6,\n",
    "                '2ND_EVALUATION_CLAIMS_TEAM_2': 7,\n",
    "                'WAITING_FOR_CLAIMS_TEAM_2_EVALUATION': 8,\n",
    "                'WAITING_FOR_CARRIER_FEEDBACK': 9,\n",
    "                'WAITING_FOR_LEGAL_TEAM': 10,\n",
    "\n",
    "                'CLOSED_NO_COMPENSATION': 11,\n",
    "                'REJECTED': 12,\n",
    "\n",
    "                'MISSING_ITEMS_IN_PROGRESS': 13,\n",
    "                'CLOSED_ITEMS_FOUND_AND_SENT': 14,\n",
    "\n",
    "                'WAITING_FOR_SALES_TO_NEGOTIATE_WITH_THE_MERCHANT': 15,\n",
    "                '2ND_DECISION_WAITING_FOR_SALES_TO_NEGOTIATE_WITH_MERCHANT': 16,\n",
    "                'WAITING_FOR_LOCAL_OPS_MD_DECISION': 17,\n",
    "                '2ND_DECISION_WAITING_FOR_LOCAL_OPS_MD_DECISION': 18,\n",
    "\n",
    "                'CLOSED_CARRIER_WILL_COMPENSATE': 19,\n",
    "\n",
    "                'CLOSED_WAITING_FOR_MERCHANT_BANK_DETAILS': 20, \n",
    "                'CLOSED_WAITING_FOR_CAR_DOCUMENTS_AND_BANK_DETAILS': 21,\n",
    "                'WAITING_FOR_BANK_DETAILS_VALIDATION': 22,\n",
    "\n",
    "                'CLOSED_WAITING_FOR_MONEY_TO_BE_SHIPPED_AND_COMPENSATION_TO_BE_RECORDED': 23,\n",
    "                'CLOSED_WAITING_FOR_COMPENSATION_TO_BE_RECORDED': 24,\n",
    "                'CLOSED_WAITING_FOR_DOCUMENTS': 25,\n",
    "                'CLOSED_FULLY_PROCESSED': 26 }"
   ]
  },
  {
   "cell_type": "code",
   "execution_count": 423,
   "metadata": {},
   "outputs": [
    {
     "data": {
      "text/html": [
       "<div>\n",
       "<style scoped>\n",
       "    .dataframe tbody tr th:only-of-type {\n",
       "        vertical-align: middle;\n",
       "    }\n",
       "\n",
       "    .dataframe tbody tr th {\n",
       "        vertical-align: top;\n",
       "    }\n",
       "\n",
       "    .dataframe thead th {\n",
       "        text-align: right;\n",
       "    }\n",
       "</style>\n",
       "<table border=\"1\" class=\"dataframe\">\n",
       "  <thead>\n",
       "    <tr style=\"text-align: right;\">\n",
       "      <th></th>\n",
       "      <th>car_id</th>\n",
       "      <th>claim_number</th>\n",
       "      <th>full_refunds</th>\n",
       "      <th>partial_refunds</th>\n",
       "      <th>voucher_amount</th>\n",
       "      <th>claim_status</th>\n",
       "      <th>status_code</th>\n",
       "    </tr>\n",
       "  </thead>\n",
       "  <tbody>\n",
       "    <tr>\n",
       "      <th>0</th>\n",
       "      <td>7525691980</td>\n",
       "      <td>NaN</td>\n",
       "      <td>0</td>\n",
       "      <td>0</td>\n",
       "      <td>NaN</td>\n",
       "      <td>NaN</td>\n",
       "      <td>0</td>\n",
       "    </tr>\n",
       "    <tr>\n",
       "      <th>1</th>\n",
       "      <td>8543168465</td>\n",
       "      <td>C1AG79687</td>\n",
       "      <td>0</td>\n",
       "      <td>1</td>\n",
       "      <td>620.140528</td>\n",
       "      <td>CLOSED_FULLY_PROCESSED</td>\n",
       "      <td>26</td>\n",
       "    </tr>\n",
       "    <tr>\n",
       "      <th>2</th>\n",
       "      <td>7308726237</td>\n",
       "      <td>NaN</td>\n",
       "      <td>0</td>\n",
       "      <td>0</td>\n",
       "      <td>NaN</td>\n",
       "      <td>NaN</td>\n",
       "      <td>0</td>\n",
       "    </tr>\n",
       "    <tr>\n",
       "      <th>3</th>\n",
       "      <td>9070724843</td>\n",
       "      <td>NaN</td>\n",
       "      <td>0</td>\n",
       "      <td>0</td>\n",
       "      <td>NaN</td>\n",
       "      <td>NaN</td>\n",
       "      <td>0</td>\n",
       "    </tr>\n",
       "    <tr>\n",
       "      <th>4</th>\n",
       "      <td>6274074693</td>\n",
       "      <td>NaN</td>\n",
       "      <td>0</td>\n",
       "      <td>0</td>\n",
       "      <td>NaN</td>\n",
       "      <td>NaN</td>\n",
       "      <td>0</td>\n",
       "    </tr>\n",
       "  </tbody>\n",
       "</table>\n",
       "</div>"
      ],
      "text/plain": [
       "       car_id claim_number  full_refunds  partial_refunds  voucher_amount  \\\n",
       "0  7525691980          NaN             0                0             NaN   \n",
       "1  8543168465    C1AG79687             0                1      620.140528   \n",
       "2  7308726237          NaN             0                0             NaN   \n",
       "3  9070724843          NaN             0                0             NaN   \n",
       "4  6274074693          NaN             0                0             NaN   \n",
       "\n",
       "             claim_status  status_code  \n",
       "0                     NaN            0  \n",
       "1  CLOSED_FULLY_PROCESSED           26  \n",
       "2                     NaN            0  \n",
       "3                     NaN            0  \n",
       "4                     NaN            0  "
      ]
     },
     "execution_count": 423,
     "metadata": {},
     "output_type": "execute_result"
    }
   ],
   "source": [
    "df_cc = df_car_claims.copy()\n",
    "df_cc['status_code'] = df_cc['claim_status'].map(status_codes)\n",
    "# df_cc = df_cc.sort_values(by=['car_id', 'status_code'])\n",
    "df_cc.head()"
   ]
  },
  {
   "cell_type": "code",
   "execution_count": 424,
   "metadata": {},
   "outputs": [
    {
     "data": {
      "text/plain": [
       "(69640, 7)"
      ]
     },
     "execution_count": 424,
     "metadata": {},
     "output_type": "execute_result"
    }
   ],
   "source": [
    "# df_cc.groupby(['car_id'])['status_code'].max()\n",
    "\n",
    "idx = df_cc.groupby(['car_id'])['status_code'].transform(max) == df_cc['status_code']\n",
    "df_cc = df_cc[idx]\n",
    "df_cc.shape"
   ]
  },
  {
   "cell_type": "code",
   "execution_count": 425,
   "metadata": {},
   "outputs": [
    {
     "data": {
      "text/html": [
       "<div>\n",
       "<style scoped>\n",
       "    .dataframe tbody tr th:only-of-type {\n",
       "        vertical-align: middle;\n",
       "    }\n",
       "\n",
       "    .dataframe tbody tr th {\n",
       "        vertical-align: top;\n",
       "    }\n",
       "\n",
       "    .dataframe thead th {\n",
       "        text-align: right;\n",
       "    }\n",
       "</style>\n",
       "<table border=\"1\" class=\"dataframe\">\n",
       "  <thead>\n",
       "    <tr style=\"text-align: right;\">\n",
       "      <th></th>\n",
       "      <th>car_id</th>\n",
       "      <th>claim_number</th>\n",
       "      <th>full_refunds</th>\n",
       "      <th>partial_refunds</th>\n",
       "      <th>voucher_amount</th>\n",
       "      <th>claim_status</th>\n",
       "      <th>status_code</th>\n",
       "    </tr>\n",
       "  </thead>\n",
       "  <tbody>\n",
       "    <tr>\n",
       "      <th>10787</th>\n",
       "      <td>5149303881</td>\n",
       "      <td>C4TK46454</td>\n",
       "      <td>0</td>\n",
       "      <td>1</td>\n",
       "      <td>3112.880206</td>\n",
       "      <td>CLOSED_FULLY_PROCESSED</td>\n",
       "      <td>26</td>\n",
       "    </tr>\n",
       "    <tr>\n",
       "      <th>19814</th>\n",
       "      <td>5149303881</td>\n",
       "      <td>C4TK46454</td>\n",
       "      <td>1</td>\n",
       "      <td>0</td>\n",
       "      <td>NaN</td>\n",
       "      <td>CLOSED_FULLY_PROCESSED</td>\n",
       "      <td>26</td>\n",
       "    </tr>\n",
       "  </tbody>\n",
       "</table>\n",
       "</div>"
      ],
      "text/plain": [
       "           car_id claim_number  full_refunds  partial_refunds  voucher_amount  \\\n",
       "10787  5149303881    C4TK46454             0                1     3112.880206   \n",
       "19814  5149303881    C4TK46454             1                0             NaN   \n",
       "\n",
       "                 claim_status  status_code  \n",
       "10787  CLOSED_FULLY_PROCESSED           26  \n",
       "19814  CLOSED_FULLY_PROCESSED           26  "
      ]
     },
     "execution_count": 425,
     "metadata": {},
     "output_type": "execute_result"
    }
   ],
   "source": [
    "# Identifying Pending Duplicates in the df\n",
    "\n",
    "df_cc[df_cc['car_id']== 5149303881]"
   ]
  },
  {
   "cell_type": "code",
   "execution_count": 426,
   "metadata": {},
   "outputs": [
    {
     "data": {
      "text/plain": [
       "69551"
      ]
     },
     "execution_count": 426,
     "metadata": {},
     "output_type": "execute_result"
    }
   ],
   "source": [
    "df_cc['car_id'].nunique()"
   ]
  },
  {
   "cell_type": "code",
   "execution_count": 429,
   "metadata": {
    "scrolled": true
   },
   "outputs": [
    {
     "data": {
      "text/html": [
       "<div>\n",
       "<style scoped>\n",
       "    .dataframe tbody tr th:only-of-type {\n",
       "        vertical-align: middle;\n",
       "    }\n",
       "\n",
       "    .dataframe tbody tr th {\n",
       "        vertical-align: top;\n",
       "    }\n",
       "\n",
       "    .dataframe thead th {\n",
       "        text-align: right;\n",
       "    }\n",
       "</style>\n",
       "<table border=\"1\" class=\"dataframe\">\n",
       "  <thead>\n",
       "    <tr style=\"text-align: right;\">\n",
       "      <th></th>\n",
       "      <th>car_id</th>\n",
       "      <th>claim_number</th>\n",
       "      <th>full_refunds</th>\n",
       "      <th>partial_refunds</th>\n",
       "      <th>voucher_amount</th>\n",
       "      <th>claim_status</th>\n",
       "      <th>status_code</th>\n",
       "    </tr>\n",
       "  </thead>\n",
       "  <tbody>\n",
       "    <tr>\n",
       "      <th>65138</th>\n",
       "      <td>1091480557</td>\n",
       "      <td>C1ZJ20861</td>\n",
       "      <td>0</td>\n",
       "      <td>1</td>\n",
       "      <td>3826.101648</td>\n",
       "      <td>CLOSED_FULLY_PROCESSED</td>\n",
       "      <td>26</td>\n",
       "    </tr>\n",
       "    <tr>\n",
       "      <th>4190</th>\n",
       "      <td>1091480557</td>\n",
       "      <td>C1ZJ20861</td>\n",
       "      <td>1</td>\n",
       "      <td>0</td>\n",
       "      <td>NaN</td>\n",
       "      <td>CLOSED_FULLY_PROCESSED</td>\n",
       "      <td>26</td>\n",
       "    </tr>\n",
       "    <tr>\n",
       "      <th>37116</th>\n",
       "      <td>1266182032</td>\n",
       "      <td>C1SS06287</td>\n",
       "      <td>0</td>\n",
       "      <td>1</td>\n",
       "      <td>2804.535297</td>\n",
       "      <td>CLOSED_FULLY_PROCESSED</td>\n",
       "      <td>26</td>\n",
       "    </tr>\n",
       "    <tr>\n",
       "      <th>6935</th>\n",
       "      <td>1266182032</td>\n",
       "      <td>C1SS06287</td>\n",
       "      <td>0</td>\n",
       "      <td>1</td>\n",
       "      <td>2149.457901</td>\n",
       "      <td>CLOSED_FULLY_PROCESSED</td>\n",
       "      <td>26</td>\n",
       "    </tr>\n",
       "    <tr>\n",
       "      <th>29497</th>\n",
       "      <td>1329241519</td>\n",
       "      <td>C2GR87979</td>\n",
       "      <td>0</td>\n",
       "      <td>1</td>\n",
       "      <td>705.036285</td>\n",
       "      <td>CLOSED_FULLY_PROCESSED</td>\n",
       "      <td>26</td>\n",
       "    </tr>\n",
       "    <tr>\n",
       "      <th>44485</th>\n",
       "      <td>1329241519</td>\n",
       "      <td>C2GR87979</td>\n",
       "      <td>0</td>\n",
       "      <td>1</td>\n",
       "      <td>482.114221</td>\n",
       "      <td>CLOSED_FULLY_PROCESSED</td>\n",
       "      <td>26</td>\n",
       "    </tr>\n",
       "    <tr>\n",
       "      <th>42278</th>\n",
       "      <td>1356214392</td>\n",
       "      <td>C1KB80609</td>\n",
       "      <td>0</td>\n",
       "      <td>1</td>\n",
       "      <td>2797.550353</td>\n",
       "      <td>REJECTED</td>\n",
       "      <td>12</td>\n",
       "    </tr>\n",
       "    <tr>\n",
       "      <th>25037</th>\n",
       "      <td>1356214392</td>\n",
       "      <td>C1KB80609</td>\n",
       "      <td>0</td>\n",
       "      <td>1</td>\n",
       "      <td>2337.572390</td>\n",
       "      <td>REJECTED</td>\n",
       "      <td>12</td>\n",
       "    </tr>\n",
       "    <tr>\n",
       "      <th>68046</th>\n",
       "      <td>1370035853</td>\n",
       "      <td>C2KX69437</td>\n",
       "      <td>0</td>\n",
       "      <td>1</td>\n",
       "      <td>1074.665772</td>\n",
       "      <td>CLOSED_FULLY_PROCESSED</td>\n",
       "      <td>26</td>\n",
       "    </tr>\n",
       "    <tr>\n",
       "      <th>31235</th>\n",
       "      <td>1370035853</td>\n",
       "      <td>C2KX69437</td>\n",
       "      <td>0</td>\n",
       "      <td>1</td>\n",
       "      <td>1394.864155</td>\n",
       "      <td>CLOSED_FULLY_PROCESSED</td>\n",
       "      <td>26</td>\n",
       "    </tr>\n",
       "  </tbody>\n",
       "</table>\n",
       "</div>"
      ],
      "text/plain": [
       "           car_id claim_number  full_refunds  partial_refunds  voucher_amount  \\\n",
       "65138  1091480557    C1ZJ20861             0                1     3826.101648   \n",
       "4190   1091480557    C1ZJ20861             1                0             NaN   \n",
       "37116  1266182032    C1SS06287             0                1     2804.535297   \n",
       "6935   1266182032    C1SS06287             0                1     2149.457901   \n",
       "29497  1329241519    C2GR87979             0                1      705.036285   \n",
       "44485  1329241519    C2GR87979             0                1      482.114221   \n",
       "42278  1356214392    C1KB80609             0                1     2797.550353   \n",
       "25037  1356214392    C1KB80609             0                1     2337.572390   \n",
       "68046  1370035853    C2KX69437             0                1     1074.665772   \n",
       "31235  1370035853    C2KX69437             0                1     1394.864155   \n",
       "\n",
       "                 claim_status  status_code  \n",
       "65138  CLOSED_FULLY_PROCESSED           26  \n",
       "4190   CLOSED_FULLY_PROCESSED           26  \n",
       "37116  CLOSED_FULLY_PROCESSED           26  \n",
       "6935   CLOSED_FULLY_PROCESSED           26  \n",
       "29497  CLOSED_FULLY_PROCESSED           26  \n",
       "44485  CLOSED_FULLY_PROCESSED           26  \n",
       "42278                REJECTED           12  \n",
       "25037                REJECTED           12  \n",
       "68046  CLOSED_FULLY_PROCESSED           26  \n",
       "31235  CLOSED_FULLY_PROCESSED           26  "
      ]
     },
     "execution_count": 429,
     "metadata": {},
     "output_type": "execute_result"
    }
   ],
   "source": [
    "# Subset the records with duplicate car_ids\n",
    "\n",
    "df_cc_dup = df_cc[df_cc.groupby('car_id')['car_id'].transform('size') > 1].sort_values(by='car_id')\n",
    "df_cc_dup.head(10)"
   ]
  },
  {
   "cell_type": "code",
   "execution_count": 430,
   "metadata": {},
   "outputs": [
    {
     "data": {
      "text/plain": [
       "(177, 7)"
      ]
     },
     "execution_count": 430,
     "metadata": {},
     "output_type": "execute_result"
    }
   ],
   "source": [
    "df_cc_dup.shape"
   ]
  },
  {
   "cell_type": "code",
   "execution_count": 449,
   "metadata": {},
   "outputs": [
    {
     "data": {
      "text/plain": [
       "(69463, 7)"
      ]
     },
     "execution_count": 449,
     "metadata": {},
     "output_type": "execute_result"
    }
   ],
   "source": [
    "# Remove the duplicated car_ids from original dataframe to make it a deduplicated df.\n",
    "\n",
    "df_cc_deduped = df_cc.drop(df_cc_dup.index)\n",
    "df_cc_deduped.shape"
   ]
  },
  {
   "cell_type": "code",
   "execution_count": 432,
   "metadata": {},
   "outputs": [
    {
     "data": {
      "text/plain": [
       "88"
      ]
     },
     "execution_count": 432,
     "metadata": {},
     "output_type": "execute_result"
    }
   ],
   "source": [
    "df_cc_dup['car_id'].nunique()"
   ]
  },
  {
   "cell_type": "code",
   "execution_count": 450,
   "metadata": {},
   "outputs": [
    {
     "data": {
      "text/plain": [
       "69463"
      ]
     },
     "execution_count": 450,
     "metadata": {},
     "output_type": "execute_result"
    }
   ],
   "source": [
    "df_cc_deduped['car_id'].nunique()"
   ]
  },
  {
   "cell_type": "markdown",
   "metadata": {},
   "source": [
    "##### Noticed that there are duplicate records with same claim_status\n",
    "##### 1. Lets keep the record with voucher_amount for the duplicated records."
   ]
  },
  {
   "cell_type": "code",
   "execution_count": 434,
   "metadata": {},
   "outputs": [
    {
     "data": {
      "text/plain": [
       "(67, 10)"
      ]
     },
     "execution_count": 434,
     "metadata": {},
     "output_type": "execute_result"
    }
   ],
   "source": [
    "df_cd_dup.shape"
   ]
  },
  {
   "cell_type": "code",
   "execution_count": 435,
   "metadata": {
    "scrolled": true
   },
   "outputs": [
    {
     "data": {
      "text/plain": [
       "2802433468    2\n",
       "9320910782    1\n",
       "2818110547    1\n",
       "2612408606    1\n",
       "3855907037    1\n",
       "7363990747    1\n",
       "5036405350    1\n",
       "4191587287    1\n",
       "7151950304    1\n",
       "8813163856    1\n",
       "4427773773    1\n",
       "3539094478    1\n",
       "3842127670    1\n",
       "4922195103    1\n",
       "5149303881    1\n",
       "7348849733    1\n",
       "4065361055    1\n",
       "4309735904    1\n",
       "6974366625    1\n",
       "4566417827    1\n",
       "7613645214    1\n",
       "5570835365    1\n",
       "3096043603    1\n",
       "5239366824    1\n",
       "5755284393    1\n",
       "4197008170    1\n",
       "7096519625    1\n",
       "1951678892    1\n",
       "1091480557    1\n",
       "9565824175    1\n",
       "3157164086    1\n",
       "1993742522    1\n",
       "4998841339    1\n",
       "9336612599    1\n",
       "Name: car_id, dtype: int64"
      ]
     },
     "execution_count": 435,
     "metadata": {},
     "output_type": "execute_result"
    }
   ],
   "source": [
    "# 1a. Before deleting the rows with NULL voucher_amount, \n",
    "#     make sure that no duplicated car_ids have NULL values in both of the rows\n",
    "\n",
    "df_cc_dup[df_cc_dup['voucher_amount'].isnull()]['car_id'].value_counts()"
   ]
  },
  {
   "cell_type": "code",
   "execution_count": 436,
   "metadata": {},
   "outputs": [
    {
     "data": {
      "text/html": [
       "<div>\n",
       "<style scoped>\n",
       "    .dataframe tbody tr th:only-of-type {\n",
       "        vertical-align: middle;\n",
       "    }\n",
       "\n",
       "    .dataframe tbody tr th {\n",
       "        vertical-align: top;\n",
       "    }\n",
       "\n",
       "    .dataframe thead th {\n",
       "        text-align: right;\n",
       "    }\n",
       "</style>\n",
       "<table border=\"1\" class=\"dataframe\">\n",
       "  <thead>\n",
       "    <tr style=\"text-align: right;\">\n",
       "      <th></th>\n",
       "      <th>car_id</th>\n",
       "      <th>claim_number</th>\n",
       "      <th>full_refunds</th>\n",
       "      <th>partial_refunds</th>\n",
       "      <th>voucher_amount</th>\n",
       "      <th>claim_status</th>\n",
       "      <th>status_code</th>\n",
       "    </tr>\n",
       "  </thead>\n",
       "  <tbody>\n",
       "    <tr>\n",
       "      <th>60052</th>\n",
       "      <td>2802433468</td>\n",
       "      <td>C1CJ23334</td>\n",
       "      <td>0</td>\n",
       "      <td>0</td>\n",
       "      <td>NaN</td>\n",
       "      <td>CREATED</td>\n",
       "      <td>1</td>\n",
       "    </tr>\n",
       "    <tr>\n",
       "      <th>10175</th>\n",
       "      <td>2802433468</td>\n",
       "      <td>C1CJ23334</td>\n",
       "      <td>0</td>\n",
       "      <td>0</td>\n",
       "      <td>NaN</td>\n",
       "      <td>NEW</td>\n",
       "      <td>1</td>\n",
       "    </tr>\n",
       "  </tbody>\n",
       "</table>\n",
       "</div>"
      ],
      "text/plain": [
       "           car_id claim_number  full_refunds  partial_refunds  voucher_amount  \\\n",
       "60052  2802433468    C1CJ23334             0                0             NaN   \n",
       "10175  2802433468    C1CJ23334             0                0             NaN   \n",
       "\n",
       "      claim_status  status_code  \n",
       "60052      CREATED            1  \n",
       "10175          NEW            1  "
      ]
     },
     "execution_count": 436,
     "metadata": {},
     "output_type": "execute_result"
    }
   ],
   "source": [
    "df_cc_dup[df_cc_dup['car_id']== 2802433468]"
   ]
  },
  {
   "cell_type": "code",
   "execution_count": 452,
   "metadata": {
    "scrolled": true
   },
   "outputs": [
    {
     "data": {
      "text/plain": [
       "(69464, 7)"
      ]
     },
     "execution_count": 452,
     "metadata": {},
     "output_type": "execute_result"
    }
   ],
   "source": [
    "# Since there exists 1 record which has NULL values in both of its rows, \n",
    "# lets first clean it to take 1 row and append to the deduped dataframe.\n",
    "\n",
    "df_cc_deduped = df_cc_deduped.append(df_cc_dup.loc[[60052]])\n",
    "df_cc_deduped.shape"
   ]
  },
  {
   "cell_type": "code",
   "execution_count": 455,
   "metadata": {},
   "outputs": [
    {
     "data": {
      "text/plain": [
       "(175, 7)"
      ]
     },
     "execution_count": 455,
     "metadata": {},
     "output_type": "execute_result"
    }
   ],
   "source": [
    "# Now drop the both rows of the car_id from dup dataframe.\n",
    "\n",
    "df_cc_dup = df_cc_dup.drop([60052, 10175])\n",
    "df_cc_dup.shape"
   ]
  },
  {
   "cell_type": "code",
   "execution_count": 458,
   "metadata": {},
   "outputs": [
    {
     "data": {
      "text/html": [
       "<div>\n",
       "<style scoped>\n",
       "    .dataframe tbody tr th:only-of-type {\n",
       "        vertical-align: middle;\n",
       "    }\n",
       "\n",
       "    .dataframe tbody tr th {\n",
       "        vertical-align: top;\n",
       "    }\n",
       "\n",
       "    .dataframe thead th {\n",
       "        text-align: right;\n",
       "    }\n",
       "</style>\n",
       "<table border=\"1\" class=\"dataframe\">\n",
       "  <thead>\n",
       "    <tr style=\"text-align: right;\">\n",
       "      <th></th>\n",
       "      <th>car_id</th>\n",
       "      <th>claim_number</th>\n",
       "      <th>full_refunds</th>\n",
       "      <th>partial_refunds</th>\n",
       "      <th>voucher_amount</th>\n",
       "      <th>claim_status</th>\n",
       "      <th>status_code</th>\n",
       "    </tr>\n",
       "  </thead>\n",
       "  <tbody>\n",
       "    <tr>\n",
       "      <th>65138</th>\n",
       "      <td>1091480557</td>\n",
       "      <td>C1ZJ20861</td>\n",
       "      <td>0</td>\n",
       "      <td>1</td>\n",
       "      <td>3826.101648</td>\n",
       "      <td>CLOSED_FULLY_PROCESSED</td>\n",
       "      <td>26</td>\n",
       "    </tr>\n",
       "    <tr>\n",
       "      <th>4190</th>\n",
       "      <td>1091480557</td>\n",
       "      <td>C1ZJ20861</td>\n",
       "      <td>1</td>\n",
       "      <td>0</td>\n",
       "      <td>NaN</td>\n",
       "      <td>CLOSED_FULLY_PROCESSED</td>\n",
       "      <td>26</td>\n",
       "    </tr>\n",
       "    <tr>\n",
       "      <th>37116</th>\n",
       "      <td>1266182032</td>\n",
       "      <td>C1SS06287</td>\n",
       "      <td>0</td>\n",
       "      <td>1</td>\n",
       "      <td>2804.535297</td>\n",
       "      <td>CLOSED_FULLY_PROCESSED</td>\n",
       "      <td>26</td>\n",
       "    </tr>\n",
       "    <tr>\n",
       "      <th>6935</th>\n",
       "      <td>1266182032</td>\n",
       "      <td>C1SS06287</td>\n",
       "      <td>0</td>\n",
       "      <td>1</td>\n",
       "      <td>2149.457901</td>\n",
       "      <td>CLOSED_FULLY_PROCESSED</td>\n",
       "      <td>26</td>\n",
       "    </tr>\n",
       "    <tr>\n",
       "      <th>29497</th>\n",
       "      <td>1329241519</td>\n",
       "      <td>C2GR87979</td>\n",
       "      <td>0</td>\n",
       "      <td>1</td>\n",
       "      <td>705.036285</td>\n",
       "      <td>CLOSED_FULLY_PROCESSED</td>\n",
       "      <td>26</td>\n",
       "    </tr>\n",
       "  </tbody>\n",
       "</table>\n",
       "</div>"
      ],
      "text/plain": [
       "           car_id claim_number  full_refunds  partial_refunds  voucher_amount  \\\n",
       "65138  1091480557    C1ZJ20861             0                1     3826.101648   \n",
       "4190   1091480557    C1ZJ20861             1                0             NaN   \n",
       "37116  1266182032    C1SS06287             0                1     2804.535297   \n",
       "6935   1266182032    C1SS06287             0                1     2149.457901   \n",
       "29497  1329241519    C2GR87979             0                1      705.036285   \n",
       "\n",
       "                 claim_status  status_code  \n",
       "65138  CLOSED_FULLY_PROCESSED           26  \n",
       "4190   CLOSED_FULLY_PROCESSED           26  \n",
       "37116  CLOSED_FULLY_PROCESSED           26  \n",
       "6935   CLOSED_FULLY_PROCESSED           26  \n",
       "29497  CLOSED_FULLY_PROCESSED           26  "
      ]
     },
     "execution_count": 458,
     "metadata": {},
     "output_type": "execute_result"
    }
   ],
   "source": [
    "df_cc_dup.head()"
   ]
  },
  {
   "cell_type": "code",
   "execution_count": 464,
   "metadata": {},
   "outputs": [
    {
     "data": {
      "text/plain": [
       "(142, 7)"
      ]
     },
     "execution_count": 464,
     "metadata": {},
     "output_type": "execute_result"
    }
   ],
   "source": [
    "# 1b. Now go on and delete the rows with NULL values in voucher_amount in the duplicated dataframe.\n",
    "\n",
    "idx = df_cc_dup[df_cc_dup['voucher_amount'].isnull()].index\n",
    "\n",
    "df_cc_dup = df_cc_dup.drop(idx)\n",
    "df_cc_dup.shape"
   ]
  },
  {
   "cell_type": "code",
   "execution_count": 469,
   "metadata": {},
   "outputs": [
    {
     "data": {
      "text/plain": [
       "(69497, 7)"
      ]
     },
     "execution_count": 469,
     "metadata": {},
     "output_type": "execute_result"
    }
   ],
   "source": [
    "# Append the unique rows to dedupted dataframe\n",
    "\n",
    "df_temp = df_cc_dup[df_cc_dup.groupby('car_id')['car_id'].transform('size') == 1]\n",
    "df_cc_deduped = df_cc_deduped.append(df_temp)\n",
    "\n",
    "# Drop the deduped df from the duplicate dataframe\n",
    "df_cc_dup = df_cc_dup.drop(df_temp.index)\n",
    "df_cc_dup.shape"
   ]
  },
  {
   "cell_type": "code",
   "execution_count": 473,
   "metadata": {},
   "outputs": [
    {
     "data": {
      "text/html": [
       "<div>\n",
       "<style scoped>\n",
       "    .dataframe tbody tr th:only-of-type {\n",
       "        vertical-align: middle;\n",
       "    }\n",
       "\n",
       "    .dataframe tbody tr th {\n",
       "        vertical-align: top;\n",
       "    }\n",
       "\n",
       "    .dataframe thead th {\n",
       "        text-align: right;\n",
       "    }\n",
       "</style>\n",
       "<table border=\"1\" class=\"dataframe\">\n",
       "  <thead>\n",
       "    <tr style=\"text-align: right;\">\n",
       "      <th></th>\n",
       "      <th>car_id</th>\n",
       "      <th>claim_number</th>\n",
       "      <th>full_refunds</th>\n",
       "      <th>partial_refunds</th>\n",
       "      <th>voucher_amount</th>\n",
       "      <th>claim_status</th>\n",
       "      <th>status_code</th>\n",
       "    </tr>\n",
       "  </thead>\n",
       "  <tbody>\n",
       "    <tr>\n",
       "      <th>37116</th>\n",
       "      <td>1266182032</td>\n",
       "      <td>C1SS06287</td>\n",
       "      <td>0</td>\n",
       "      <td>1</td>\n",
       "      <td>2804.535297</td>\n",
       "      <td>CLOSED_FULLY_PROCESSED</td>\n",
       "      <td>26</td>\n",
       "    </tr>\n",
       "    <tr>\n",
       "      <th>6935</th>\n",
       "      <td>1266182032</td>\n",
       "      <td>C1SS06287</td>\n",
       "      <td>0</td>\n",
       "      <td>1</td>\n",
       "      <td>2149.457901</td>\n",
       "      <td>CLOSED_FULLY_PROCESSED</td>\n",
       "      <td>26</td>\n",
       "    </tr>\n",
       "    <tr>\n",
       "      <th>29497</th>\n",
       "      <td>1329241519</td>\n",
       "      <td>C2GR87979</td>\n",
       "      <td>0</td>\n",
       "      <td>1</td>\n",
       "      <td>705.036285</td>\n",
       "      <td>CLOSED_FULLY_PROCESSED</td>\n",
       "      <td>26</td>\n",
       "    </tr>\n",
       "    <tr>\n",
       "      <th>44485</th>\n",
       "      <td>1329241519</td>\n",
       "      <td>C2GR87979</td>\n",
       "      <td>0</td>\n",
       "      <td>1</td>\n",
       "      <td>482.114221</td>\n",
       "      <td>CLOSED_FULLY_PROCESSED</td>\n",
       "      <td>26</td>\n",
       "    </tr>\n",
       "    <tr>\n",
       "      <th>42278</th>\n",
       "      <td>1356214392</td>\n",
       "      <td>C1KB80609</td>\n",
       "      <td>0</td>\n",
       "      <td>1</td>\n",
       "      <td>2797.550353</td>\n",
       "      <td>REJECTED</td>\n",
       "      <td>12</td>\n",
       "    </tr>\n",
       "  </tbody>\n",
       "</table>\n",
       "</div>"
      ],
      "text/plain": [
       "           car_id claim_number  full_refunds  partial_refunds  voucher_amount  \\\n",
       "37116  1266182032    C1SS06287             0                1     2804.535297   \n",
       "6935   1266182032    C1SS06287             0                1     2149.457901   \n",
       "29497  1329241519    C2GR87979             0                1      705.036285   \n",
       "44485  1329241519    C2GR87979             0                1      482.114221   \n",
       "42278  1356214392    C1KB80609             0                1     2797.550353   \n",
       "\n",
       "                 claim_status  status_code  \n",
       "37116  CLOSED_FULLY_PROCESSED           26  \n",
       "6935   CLOSED_FULLY_PROCESSED           26  \n",
       "29497  CLOSED_FULLY_PROCESSED           26  \n",
       "44485  CLOSED_FULLY_PROCESSED           26  \n",
       "42278                REJECTED           12  "
      ]
     },
     "execution_count": 473,
     "metadata": {},
     "output_type": "execute_result"
    }
   ],
   "source": [
    "df_cc_dup.head()"
   ]
  },
  {
   "cell_type": "code",
   "execution_count": 474,
   "metadata": {},
   "outputs": [
    {
     "data": {
      "text/plain": [
       "(54, 7)"
      ]
     },
     "execution_count": 474,
     "metadata": {},
     "output_type": "execute_result"
    }
   ],
   "source": [
    "# 2. Now voucher_amount field contains only valid amounts. Lets keep the rows with max amounts and drop the rest.\n",
    "\n",
    "idx = df_cc_dup.groupby(['car_id'])['voucher_amount'].transform(max) == df_cc_dup['voucher_amount']\n",
    "df_cc_dup = df_cc_dup[idx]\n",
    "df_cc_dup.shape"
   ]
  },
  {
   "cell_type": "code",
   "execution_count": 477,
   "metadata": {},
   "outputs": [
    {
     "data": {
      "text/plain": [
       "(69551, 7)"
      ]
     },
     "execution_count": 477,
     "metadata": {},
     "output_type": "execute_result"
    }
   ],
   "source": [
    "# Append all the deduped rows to the \n",
    "\n",
    "df_cc_deduped = df_cc_deduped.append(df_cc_dup)\n",
    "df_car_claims = df_cc_deduped\n",
    "\n",
    "# Reset index\n",
    "df_car_claims.reset_index(drop=True, inplace=True)\n",
    "\n",
    "df_car_claims.shape"
   ]
  },
  {
   "cell_type": "markdown",
   "metadata": {},
   "source": [
    "# Combine the dataframes to 1"
   ]
  },
  {
   "cell_type": "code",
   "execution_count": 505,
   "metadata": {},
   "outputs": [
    {
     "data": {
      "text/plain": [
       "(69551, 9)"
      ]
     },
     "execution_count": 505,
     "metadata": {},
     "output_type": "execute_result"
    }
   ],
   "source": [
    "df_car_sales.shape"
   ]
  },
  {
   "cell_type": "code",
   "execution_count": 506,
   "metadata": {},
   "outputs": [
    {
     "data": {
      "text/plain": [
       "(69551, 10)"
      ]
     },
     "execution_count": 506,
     "metadata": {},
     "output_type": "execute_result"
    }
   ],
   "source": [
    "df_car_details.shape"
   ]
  },
  {
   "cell_type": "code",
   "execution_count": 507,
   "metadata": {},
   "outputs": [
    {
     "data": {
      "text/plain": [
       "(69551, 7)"
      ]
     },
     "execution_count": 507,
     "metadata": {},
     "output_type": "execute_result"
    }
   ],
   "source": [
    "df_car_claims.shape"
   ]
  },
  {
   "cell_type": "code",
   "execution_count": 508,
   "metadata": {},
   "outputs": [
    {
     "data": {
      "text/plain": [
       "(69551, 16)"
      ]
     },
     "execution_count": 508,
     "metadata": {},
     "output_type": "execute_result"
    }
   ],
   "source": [
    "df_merged = pd.merge(df_car_claims, df_car_details, how='left', on='car_id')\n",
    "# df_merged = pd.merge(df_merged, df_car_sales, how='inner', on='car_id')\n",
    "df_merged.shape"
   ]
  },
  {
   "cell_type": "code",
   "execution_count": 509,
   "metadata": {},
   "outputs": [
    {
     "data": {
      "text/plain": [
       "(69551, 24)"
      ]
     },
     "execution_count": 509,
     "metadata": {},
     "output_type": "execute_result"
    }
   ],
   "source": [
    "df_merged = pd.merge(df_merged, df_car_sales, how='inner', on='car_id')\n",
    "df_merged.shape"
   ]
  },
  {
   "cell_type": "code",
   "execution_count": 511,
   "metadata": {
    "scrolled": true
   },
   "outputs": [
    {
     "data": {
      "text/plain": [
       "69551"
      ]
     },
     "execution_count": 511,
     "metadata": {},
     "output_type": "execute_result"
    }
   ],
   "source": [
    "df_merged.car_id.nunique()\n",
    "\n",
    "# merchant_id is different which causes duplicate entries"
   ]
  },
  {
   "cell_type": "code",
   "execution_count": null,
   "metadata": {},
   "outputs": [],
   "source": []
  }
 ],
 "metadata": {
  "kernelspec": {
   "display_name": "Python 3",
   "language": "python",
   "name": "python3"
  },
  "language_info": {
   "codemirror_mode": {
    "name": "ipython",
    "version": 3
   },
   "file_extension": ".py",
   "mimetype": "text/x-python",
   "name": "python",
   "nbconvert_exporter": "python",
   "pygments_lexer": "ipython3",
   "version": "3.8.3"
  }
 },
 "nbformat": 4,
 "nbformat_minor": 4
}
