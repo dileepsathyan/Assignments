{
 "cells": [
  {
   "cell_type": "code",
   "execution_count": null,
   "metadata": {},
   "outputs": [],
   "source": [
    "import numpy as np\n",
    "import pandas as pd\n",
    "\n",
    "import seaborn as sns\n",
    "import matplotlib.pyplot as plt\n",
    "%matplotlib inline\n",
    "\n",
    "import datetime as dt"
   ]
  },
  {
   "cell_type": "markdown",
   "metadata": {},
   "source": [
    "# Import Dataset"
   ]
  },
  {
   "cell_type": "code",
   "execution_count": null,
   "metadata": {},
   "outputs": [],
   "source": [
    "xls_path = pd.ExcelFile('/Users/dileepsathyan/Documents/GitHub/Assignments/Vroom Virtusa/Analytics_Dataset.xlsx')\n",
    "df_car_sales   = pd.read_excel(xls_path, 'car_sales')\n",
    "df_car_details = pd.read_excel(xls_path, 'car_details')\n",
    "df_car_claims  = pd.read_excel(xls_path, 'car_claims')"
   ]
  },
  {
   "cell_type": "code",
   "execution_count": null,
   "metadata": {},
   "outputs": [],
   "source": [
    "df_car_sales.head()"
   ]
  },
  {
   "cell_type": "code",
   "execution_count": null,
   "metadata": {},
   "outputs": [],
   "source": [
    "df_car_details.head()"
   ]
  },
  {
   "cell_type": "code",
   "execution_count": null,
   "metadata": {},
   "outputs": [],
   "source": [
    "df_car_claims.head()"
   ]
  },
  {
   "cell_type": "markdown",
   "metadata": {},
   "source": [
    "# Data Cleaning"
   ]
  },
  {
   "cell_type": "markdown",
   "metadata": {},
   "source": [
    "## 1. Car_Sales Dataframe Cleaning"
   ]
  },
  {
   "cell_type": "code",
   "execution_count": null,
   "metadata": {},
   "outputs": [],
   "source": [
    "df_car_sales.shape"
   ]
  },
  {
   "cell_type": "code",
   "execution_count": null,
   "metadata": {},
   "outputs": [],
   "source": [
    "df_car_sales.drop_duplicates(inplace=True)\n",
    "df_car_sales.shape"
   ]
  },
  {
   "cell_type": "code",
   "execution_count": null,
   "metadata": {},
   "outputs": [],
   "source": [
    "# Delete the transport dates for the rows with transport_to_merchant == 0\n",
    "\n",
    "df_car_sales['transport_date'].loc[(df_car_sales['transport_to_merchant'])== 0] = np.NaN\n",
    "df_car_sales"
   ]
  },
  {
   "cell_type": "markdown",
   "metadata": {},
   "source": [
    "#### Convert to right datatypes"
   ]
  },
  {
   "cell_type": "code",
   "execution_count": null,
   "metadata": {},
   "outputs": [],
   "source": [
    "# df_car_sales['car_id_sales'] = df_car_sales['car_id_sales'].astype('str')\n",
    "# df_car_sales['merchant_id'] = df_car_sales['merchant_id'].astype('str')\n",
    "\n",
    "df_car_sales['selling_date'] = pd.to_datetime(df_car_sales['selling_date'])\n",
    "df_car_sales['payment_date'] = pd.to_datetime(df_car_sales['payment_date'])\n",
    "df_car_sales['transport_date'] = pd.to_datetime(df_car_sales['transport_date'])\n",
    "\n",
    "# Rename primary column\n",
    "df_car_sales.rename(columns={'car_id_sales': 'car_id'}, inplace=True)\n",
    "\n",
    "df_car_sales.info()"
   ]
  },
  {
   "cell_type": "code",
   "execution_count": null,
   "metadata": {},
   "outputs": [],
   "source": [
    "# Notice that the same car_ids are repeated for different merchant_ids\n",
    "\n",
    "df_car_sales[df_car_sales['car_id'] == 5805619905]"
   ]
  },
  {
   "cell_type": "code",
   "execution_count": null,
   "metadata": {},
   "outputs": [],
   "source": [
    "# There are merchant_ids who bought so many cars.\n",
    "\n",
    "df_car_sales.merchant_id.value_counts()"
   ]
  },
  {
   "cell_type": "code",
   "execution_count": null,
   "metadata": {},
   "outputs": [],
   "source": [
    "#### As long as we have no clarity on the correct Merchant who bought a car, it doesnt matter which record we delete.\n",
    "#### Lets keep car_id only once and delete all following records for the sale.\n",
    "\n",
    "df_car_sales = df_car_sales.drop_duplicates(subset='car_id', keep=\"first\")\n",
    "df_car_sales.info()"
   ]
  },
  {
   "cell_type": "markdown",
   "metadata": {},
   "source": [
    "### Handle missing datapoints in Car_Sales"
   ]
  },
  {
   "cell_type": "code",
   "execution_count": null,
   "metadata": {},
   "outputs": [],
   "source": [
    "# For each country, find the average days for transport from the payment_date\n",
    "\n",
    "df_cs_temp = df_car_sales[df_car_sales['transport_date'].notna()]\n",
    "df_cs_temp['days_payment_to_transp'] = (df_cs_temp['transport_date'] - df_cs_temp['payment_date']).dt.days\n",
    "df_cs_temp"
   ]
  },
  {
   "cell_type": "code",
   "execution_count": null,
   "metadata": {},
   "outputs": [],
   "source": [
    "avr_days_to_transp = df_cs_temp.groupby(['country'])['days_payment_to_transp'].mean().round()\n",
    "avr_days_to_transp= avr_days_to_transp.to_dict()\n",
    "avr_days_to_transp"
   ]
  },
  {
   "cell_type": "code",
   "execution_count": null,
   "metadata": {},
   "outputs": [],
   "source": [
    "# Subset the cars trasp_to_merchant to fill the missing transport_date for them.\n",
    "\n",
    "df_cs_transp = df_car_sales[df_car_sales['transport_to_merchant']==1]\n",
    "df_cs_transp['days_to_transp'] = pd.to_timedelta(df_cs_transp['country'].map(avr_days_to_transp), 'days')\n",
    "df_cs_transp['transport_date'] = df_cs_transp['transport_date'].fillna(df_cs_transp['payment_date'] + df_cs_transp['days_to_transp'])\n",
    "df_cs_transp.info()"
   ]
  },
  {
   "cell_type": "code",
   "execution_count": null,
   "metadata": {},
   "outputs": [],
   "source": [
    "df_cs_transp = df_cs_transp.drop(columns=['days_to_transp'])\n",
    "df_cs_transp.info()"
   ]
  },
  {
   "cell_type": "code",
   "execution_count": null,
   "metadata": {},
   "outputs": [],
   "source": [
    "# Replace the non-NULL transport_date to original dataframe\n",
    "\n",
    "idx = df_cs_transp.index\n",
    "df_car_sales = df_car_sales.drop(idx)\n",
    "df_car_sales.info()"
   ]
  },
  {
   "cell_type": "code",
   "execution_count": null,
   "metadata": {},
   "outputs": [],
   "source": [
    "# Append the cleaned dataframe to the the original\n",
    "\n",
    "df_car_sales = df_car_sales.append(df_cs_transp)\n",
    "\n",
    "# Reset index\n",
    "df_car_sales.reset_index(drop=True, inplace=True)\n",
    "df_car_sales.info()"
   ]
  },
  {
   "cell_type": "markdown",
   "metadata": {},
   "source": [
    "## Car_Details Dataframe Cleaning"
   ]
  },
  {
   "cell_type": "code",
   "execution_count": null,
   "metadata": {},
   "outputs": [],
   "source": [
    "df_car_details.shape"
   ]
  },
  {
   "cell_type": "code",
   "execution_count": null,
   "metadata": {},
   "outputs": [],
   "source": [
    "df_car_details.drop_duplicates(inplace=True)\n",
    "df_car_details.shape"
   ]
  },
  {
   "cell_type": "code",
   "execution_count": null,
   "metadata": {},
   "outputs": [],
   "source": [
    "df_car_details.info()"
   ]
  },
  {
   "cell_type": "markdown",
   "metadata": {},
   "source": [
    "#### Convert to right datatypes"
   ]
  },
  {
   "cell_type": "code",
   "execution_count": null,
   "metadata": {},
   "outputs": [],
   "source": [
    "# df_car_details['car_id_details'] = df_car_details['car_id_details'].astype('str')\n",
    "\n",
    "# Rename primary column\n",
    "df_car_details.rename(columns={'car_id_details': 'car_id'}, inplace=True)\n",
    "df_car_details.info()"
   ]
  },
  {
   "cell_type": "code",
   "execution_count": null,
   "metadata": {},
   "outputs": [],
   "source": [
    "## Check for duplicate records of same car_id\n",
    "\n",
    "df_car_details[df_car_details.groupby('car_id')['car_id'].transform('size') > 1].sort_values(by='car_id').head(20)"
   ]
  },
  {
   "cell_type": "code",
   "execution_count": null,
   "metadata": {},
   "outputs": [],
   "source": [
    "# Subset the records with duplicate car_ids\n",
    "\n",
    "df_cd_dup = df_car_details[df_car_details.groupby('car_id')['car_id'].transform('size') > 1].sort_values(by='car_id')\n",
    "df_cd_dup.sort_values(by='car_id').head(10)"
   ]
  },
  {
   "cell_type": "code",
   "execution_count": null,
   "metadata": {},
   "outputs": [],
   "source": [
    "df_cd_dup.shape"
   ]
  },
  {
   "cell_type": "code",
   "execution_count": null,
   "metadata": {},
   "outputs": [],
   "source": [
    "# Remove the duplicated car_ids from original dataframe to make it a deduplicated df.\n",
    "\n",
    "df_cd_deduped = df_car_details.drop(df_cd_dup.index)\n",
    "df_cd_deduped.shape"
   ]
  },
  {
   "cell_type": "markdown",
   "metadata": {},
   "source": [
    "##### Notice from the above subset that fule_type and navigation_system are the 2 fields which cause duplication.\n",
    "\n",
    "###### 1. Those who differ only by fuel_type, lets keep the first record of each car_id and delete the rest."
   ]
  },
  {
   "cell_type": "code",
   "execution_count": null,
   "metadata": {
    "scrolled": true
   },
   "outputs": [],
   "source": [
    "df_cd_dup = df_cd_dup.drop_duplicates(['car_id', 'navigation_system']).sort_values(by='car_id')\n",
    "\n",
    "df_cd_dup.head(10)"
   ]
  },
  {
   "cell_type": "code",
   "execution_count": null,
   "metadata": {},
   "outputs": [],
   "source": [
    "df_cd_dup.shape"
   ]
  },
  {
   "cell_type": "code",
   "execution_count": null,
   "metadata": {},
   "outputs": [],
   "source": [
    "# Filter the uniques and append to the deduped dataframe & drop the uniques from the df_cd_dup\n",
    "\n",
    "df_temp = df_cd_dup[df_cd_dup.groupby('car_id')['car_id'].transform('size') == 1]\n",
    "\n",
    "df_cd_deduped = df_cd_deduped.append(df_temp)\n",
    "df_cd_dup = df_cd_dup.drop(df_temp.index)\n",
    "df_cd_dup.head(10)"
   ]
  },
  {
   "cell_type": "code",
   "execution_count": null,
   "metadata": {},
   "outputs": [],
   "source": [
    "df_cd_dup.shape"
   ]
  },
  {
   "cell_type": "markdown",
   "metadata": {},
   "source": [
    "##### 2. Those who differ only by navigation_system, lets keep the first record of each car_id and delete the rest."
   ]
  },
  {
   "cell_type": "code",
   "execution_count": null,
   "metadata": {},
   "outputs": [],
   "source": [
    "df_cd_dup = df_cd_dup.drop_duplicates(['car_id', 'fuel_type']).sort_values(by='car_id')\n",
    "\n",
    "df_cd_dup.head(10)"
   ]
  },
  {
   "cell_type": "code",
   "execution_count": null,
   "metadata": {},
   "outputs": [],
   "source": [
    "# Filter the uniques and append to the deduped dataframe & drop the uniques from the df_cd_dup\n",
    "\n",
    "df_temp = df_cd_dup[df_cd_dup.groupby('car_id')['car_id'].transform('size') == 1]\n",
    "\n",
    "df_cd_deduped = df_cd_deduped.append(df_temp)\n",
    "df_cd_dup = df_cd_dup.drop(df_temp.index)\n",
    "df_cd_dup.head(10)"
   ]
  },
  {
   "cell_type": "code",
   "execution_count": null,
   "metadata": {},
   "outputs": [],
   "source": [
    "df_cd_dup.shape"
   ]
  },
  {
   "cell_type": "markdown",
   "metadata": {},
   "source": [
    "###### 3. Those who differ in both navigation_system & fuel_type, lets keep the record with 1100 as nav_system and delete the 0 values."
   ]
  },
  {
   "cell_type": "code",
   "execution_count": null,
   "metadata": {},
   "outputs": [],
   "source": [
    "df_cd_dup = df_cd_dup[df_cd_dup['navigation_system'] != 0]\n",
    "df_cd_deduped = df_cd_deduped.append(df_cd_dup)\n",
    "df_cd_deduped.shape"
   ]
  },
  {
   "cell_type": "code",
   "execution_count": null,
   "metadata": {},
   "outputs": [],
   "source": [
    "df_car_details = df_cd_deduped\n",
    "\n",
    "# Reset index\n",
    "df_car_details.reset_index(drop=True, inplace=True)\n",
    "\n",
    "df_car_details.shape"
   ]
  },
  {
   "cell_type": "markdown",
   "metadata": {},
   "source": [
    "### Handle Missing datapoints in Car_Details"
   ]
  },
  {
   "cell_type": "code",
   "execution_count": null,
   "metadata": {},
   "outputs": [],
   "source": [
    "df_car_details.info()"
   ]
  },
  {
   "cell_type": "code",
   "execution_count": null,
   "metadata": {
    "scrolled": true
   },
   "outputs": [],
   "source": [
    "# Notice that radio_system doesnt have any major correlation with the other fields in the dataframe\n",
    "df_car_details.corr()"
   ]
  },
  {
   "cell_type": "code",
   "execution_count": null,
   "metadata": {},
   "outputs": [],
   "source": [
    "# Hence, fill the missing datapoints in the radio_system with 0 values.\n",
    "\n",
    "df_car_details['radio_system'].fillna(0, inplace=True)\n",
    "df_car_details.info()"
   ]
  },
  {
   "cell_type": "markdown",
   "metadata": {},
   "source": [
    "## Car_Claims Dataframe Cleaning"
   ]
  },
  {
   "cell_type": "code",
   "execution_count": null,
   "metadata": {},
   "outputs": [],
   "source": [
    "df_car_claims.shape"
   ]
  },
  {
   "cell_type": "code",
   "execution_count": null,
   "metadata": {},
   "outputs": [],
   "source": [
    "df_car_claims.drop_duplicates(inplace=True)\n",
    "df_car_claims.shape"
   ]
  },
  {
   "cell_type": "code",
   "execution_count": null,
   "metadata": {},
   "outputs": [],
   "source": [
    "df_car_claims.info()"
   ]
  },
  {
   "cell_type": "markdown",
   "metadata": {},
   "source": [
    "#### Convert to right datatypes"
   ]
  },
  {
   "cell_type": "code",
   "execution_count": null,
   "metadata": {},
   "outputs": [],
   "source": [
    "# df_car_claims['car_id_claims'] = df_car_claims['car_id_claims'].astype('str')\n",
    "# df_car_claims['claim_number'] = df_car_claims['claim_number'].astype('str')\n",
    "\n",
    "# Rename primary column\n",
    "df_car_claims.rename(columns={'car_id_claims': 'car_id'}, inplace=True)\n",
    "\n",
    "df_car_claims.info()"
   ]
  },
  {
   "cell_type": "code",
   "execution_count": null,
   "metadata": {},
   "outputs": [],
   "source": [
    "df_car_claims.head()"
   ]
  },
  {
   "cell_type": "code",
   "execution_count": null,
   "metadata": {},
   "outputs": [],
   "source": [
    "# In case of full_refunds, there cannot be a voucher_amount.\n",
    "# In other words, if the voucher_amount exists, fix the full_refunds fields values to 0.\n",
    "\n",
    "idx = df_car_claims[df_car_claims['voucher_amount'].notnull() &\n",
    "                   (df_car_claims['full_refunds'] == 1) & \n",
    "                   (df_car_claims['partial_refunds']== 1)].index\n",
    "\n",
    "idx"
   ]
  },
  {
   "cell_type": "code",
   "execution_count": null,
   "metadata": {},
   "outputs": [],
   "source": [
    "# Adjusting the full_refunds values to 0 to perfect the dataframe\n",
    "\n",
    "df_car_claims['full_refunds'][idx] = 0\n",
    "df_car_claims.loc[idx].head()"
   ]
  },
  {
   "cell_type": "code",
   "execution_count": null,
   "metadata": {},
   "outputs": [],
   "source": [
    "# For the REJECTED & CLOSED_NO_COMPENSATION statuses, set the full_refunds & partial refunds values to 0\n",
    "\n",
    "idx = df_car_claims[df_car_claims['claim_status'].isin(['REJECTED', 'CLOSED_NO_COMPENSATION'])].index\n",
    "idx"
   ]
  },
  {
   "cell_type": "code",
   "execution_count": null,
   "metadata": {},
   "outputs": [],
   "source": [
    "# Adjusting the full_refunds values to 0 to perfect the dataframe\n",
    "\n",
    "df_car_claims['full_refunds'][idx] = 0\n",
    "df_car_claims['partial_refunds'][idx] = 0\n",
    "df_car_claims.loc[idx].head()"
   ]
  },
  {
   "cell_type": "code",
   "execution_count": null,
   "metadata": {},
   "outputs": [],
   "source": [
    "df_car_claims['claim_status'].value_counts()"
   ]
  },
  {
   "cell_type": "code",
   "execution_count": null,
   "metadata": {},
   "outputs": [],
   "source": [
    "status_codes = { np.NaN: 0,\n",
    "                'CREATED': 1,\n",
    "                'NEW_MISSING_ITEM_CLAIM': 1,\n",
    "                'NEW': 1,\n",
    "\n",
    "                'PROOF_NOT_RECEIVED': 2,\n",
    "                'CLOSED_WAITING_FOR_MORE_PROOF': 3,\n",
    "                'CLOSED_OVER_TIME_LIMIT': 4,\n",
    "                'MORE_PROOF_RECEIVED': 5,\n",
    "                'WAITING_FOR_CLAIMS_TEAM_1_EVALUATION': 6,\n",
    "                '2ND_EVALUATION_CLAIMS_TEAM_2': 7,\n",
    "                'WAITING_FOR_CLAIMS_TEAM_2_EVALUATION': 8,\n",
    "                'WAITING_FOR_CARRIER_FEEDBACK': 9,\n",
    "                'WAITING_FOR_LEGAL_TEAM': 10,\n",
    "\n",
    "                'CLOSED_NO_COMPENSATION': 11,\n",
    "                'REJECTED': 12,\n",
    "\n",
    "                'MISSING_ITEMS_IN_PROGRESS': 13,\n",
    "                'CLOSED_ITEMS_FOUND_AND_SENT': 14,\n",
    "\n",
    "                'WAITING_FOR_SALES_TO_NEGOTIATE_WITH_THE_MERCHANT': 15,\n",
    "                '2ND_DECISION_WAITING_FOR_SALES_TO_NEGOTIATE_WITH_MERCHANT': 16,\n",
    "                'WAITING_FOR_LOCAL_OPS_MD_DECISION': 17,\n",
    "                '2ND_DECISION_WAITING_FOR_LOCAL_OPS_MD_DECISION': 18,\n",
    "\n",
    "                'CLOSED_CARRIER_WILL_COMPENSATE': 19,\n",
    "\n",
    "                'CLOSED_WAITING_FOR_MERCHANT_BANK_DETAILS': 20, \n",
    "                'CLOSED_WAITING_FOR_CAR_DOCUMENTS_AND_BANK_DETAILS': 21,\n",
    "                'WAITING_FOR_BANK_DETAILS_VALIDATION': 22,\n",
    "\n",
    "                'CLOSED_WAITING_FOR_MONEY_TO_BE_SHIPPED_AND_COMPENSATION_TO_BE_RECORDED': 23,\n",
    "                'CLOSED_WAITING_FOR_COMPENSATION_TO_BE_RECORDED': 24,\n",
    "                'CLOSED_WAITING_FOR_DOCUMENTS': 25,\n",
    "                'CLOSED_FULLY_PROCESSED': 26 }"
   ]
  },
  {
   "cell_type": "code",
   "execution_count": null,
   "metadata": {},
   "outputs": [],
   "source": [
    "df_cc = df_car_claims.copy()\n",
    "df_cc['status_code'] = df_cc['claim_status'].map(status_codes)\n",
    "# df_cc = df_cc.sort_values(by=['car_id', 'status_code'])\n",
    "df_cc.head()"
   ]
  },
  {
   "cell_type": "code",
   "execution_count": null,
   "metadata": {},
   "outputs": [],
   "source": [
    "# df_cc.groupby(['car_id'])['status_code'].max()\n",
    "\n",
    "idx = df_cc.groupby(['car_id'])['status_code'].transform(max) == df_cc['status_code']\n",
    "df_cc = df_cc[idx]\n",
    "df_cc.shape"
   ]
  },
  {
   "cell_type": "code",
   "execution_count": null,
   "metadata": {},
   "outputs": [],
   "source": [
    "# Identifying Pending Duplicates in the df\n",
    "\n",
    "df_cc[df_cc['car_id']== 5149303881]"
   ]
  },
  {
   "cell_type": "code",
   "execution_count": null,
   "metadata": {},
   "outputs": [],
   "source": [
    "df_cc['car_id'].nunique()"
   ]
  },
  {
   "cell_type": "code",
   "execution_count": null,
   "metadata": {
    "scrolled": true
   },
   "outputs": [],
   "source": [
    "# Subset the records with duplicate car_ids\n",
    "\n",
    "df_cc_dup = df_cc[df_cc.groupby('car_id')['car_id'].transform('size') > 1].sort_values(by='car_id')\n",
    "df_cc_dup.head(10)"
   ]
  },
  {
   "cell_type": "code",
   "execution_count": null,
   "metadata": {},
   "outputs": [],
   "source": [
    "df_cc_dup.shape"
   ]
  },
  {
   "cell_type": "code",
   "execution_count": null,
   "metadata": {},
   "outputs": [],
   "source": [
    "# Remove the duplicated car_ids from original dataframe to make it a deduplicated df.\n",
    "\n",
    "df_cc_deduped = df_cc.drop(df_cc_dup.index)\n",
    "df_cc_deduped.shape"
   ]
  },
  {
   "cell_type": "code",
   "execution_count": null,
   "metadata": {},
   "outputs": [],
   "source": [
    "df_cc_dup['car_id'].nunique()"
   ]
  },
  {
   "cell_type": "code",
   "execution_count": null,
   "metadata": {},
   "outputs": [],
   "source": [
    "df_cc_deduped['car_id'].nunique()"
   ]
  },
  {
   "cell_type": "markdown",
   "metadata": {},
   "source": [
    "##### Noticed that there are duplicate records with same claim_status\n",
    "##### 1. Lets keep the record with voucher_amount for the duplicated records."
   ]
  },
  {
   "cell_type": "code",
   "execution_count": null,
   "metadata": {},
   "outputs": [],
   "source": [
    "df_cd_dup.shape"
   ]
  },
  {
   "cell_type": "code",
   "execution_count": null,
   "metadata": {
    "scrolled": true
   },
   "outputs": [],
   "source": [
    "# 1a. Before deleting the rows with NULL voucher_amount, \n",
    "#     make sure that no duplicated car_ids have NULL values in both of the rows\n",
    "\n",
    "df_cc_dup[df_cc_dup['voucher_amount'].isnull()]['car_id'].value_counts()"
   ]
  },
  {
   "cell_type": "code",
   "execution_count": null,
   "metadata": {},
   "outputs": [],
   "source": [
    "df_cc_dup[df_cc_dup['car_id']== 2802433468]"
   ]
  },
  {
   "cell_type": "code",
   "execution_count": null,
   "metadata": {
    "scrolled": true
   },
   "outputs": [],
   "source": [
    "# Since there exists 1 record which has NULL values in both of its rows, \n",
    "# lets first clean it to take 1 row and append to the deduped dataframe.\n",
    "\n",
    "df_cc_deduped = df_cc_deduped.append(df_cc_dup.loc[[60052]])\n",
    "df_cc_deduped.shape"
   ]
  },
  {
   "cell_type": "code",
   "execution_count": null,
   "metadata": {},
   "outputs": [],
   "source": [
    "# Now drop the both rows of the car_id from dup dataframe.\n",
    "\n",
    "df_cc_dup = df_cc_dup.drop([60052, 10175])\n",
    "df_cc_dup.shape"
   ]
  },
  {
   "cell_type": "code",
   "execution_count": null,
   "metadata": {},
   "outputs": [],
   "source": [
    "df_cc_dup.head()"
   ]
  },
  {
   "cell_type": "code",
   "execution_count": null,
   "metadata": {},
   "outputs": [],
   "source": [
    "df_cc_dup.to_excel('df_cc_dup.xlsx')"
   ]
  },
  {
   "cell_type": "code",
   "execution_count": null,
   "metadata": {},
   "outputs": [],
   "source": [
    "# 1b. Now go on and delete the rows with NULL values in voucher_amount in the duplicated dataframe.\n",
    "\n",
    "idx = df_cc_dup[df_cc_dup['voucher_amount'].isnull()].index\n",
    "\n",
    "df_cc_dup = df_cc_dup.drop(idx)\n",
    "df_cc_dup.shape"
   ]
  },
  {
   "cell_type": "code",
   "execution_count": null,
   "metadata": {},
   "outputs": [],
   "source": [
    "# Append the unique rows to dedupted dataframe\n",
    "\n",
    "df_temp = df_cc_dup[df_cc_dup.groupby('car_id')['car_id'].transform('size') == 1]\n",
    "df_cc_deduped = df_cc_deduped.append(df_temp)\n",
    "\n",
    "# Drop the deduped df from the duplicate dataframe\n",
    "df_cc_dup = df_cc_dup.drop(df_temp.index)\n",
    "df_cc_dup.shape"
   ]
  },
  {
   "cell_type": "code",
   "execution_count": null,
   "metadata": {},
   "outputs": [],
   "source": [
    "df_cc_dup.head()"
   ]
  },
  {
   "cell_type": "code",
   "execution_count": null,
   "metadata": {},
   "outputs": [],
   "source": [
    "# 2. Now voucher_amount field contains only valid amounts. Lets keep the rows with max amounts and drop the rest.\n",
    "\n",
    "idx = df_cc_dup.groupby(['car_id'])['voucher_amount'].transform(max) == df_cc_dup['voucher_amount']\n",
    "df_cc_dup = df_cc_dup[idx]\n",
    "df_cc_dup.shape"
   ]
  },
  {
   "cell_type": "code",
   "execution_count": null,
   "metadata": {},
   "outputs": [],
   "source": [
    "# Append all the deduped rows to the \n",
    "\n",
    "df_cc_deduped = df_cc_deduped.append(df_cc_dup)\n",
    "df_car_claims = df_cc_deduped\n",
    "\n",
    "# Reset index\n",
    "df_car_claims.reset_index(drop=True, inplace=True)\n",
    "\n",
    "df_car_claims.shape"
   ]
  },
  {
   "cell_type": "code",
   "execution_count": null,
   "metadata": {},
   "outputs": [],
   "source": [
    "df_car_claims.info()"
   ]
  },
  {
   "cell_type": "markdown",
   "metadata": {},
   "source": [
    "### Handle missing datapoints in Car_Claims"
   ]
  },
  {
   "cell_type": "code",
   "execution_count": null,
   "metadata": {},
   "outputs": [],
   "source": [
    "# Missing Voucher_Amounts to be filled by 0 values\n",
    "df_car_claims['voucher_amount'].fillna(0, inplace=True)\n",
    "\n",
    "# Missing claim_status means there is no claim for the sale. Hence fill in with 'NO_CLAIM_RAISED'\n",
    "df_car_claims['claim_status'].fillna('NO_CLAIM_RAISED', inplace=True)\n",
    "\n",
    "# Status_code field is not necessary at this stage. Hence drop the field for now.\n",
    "df_car_claims.drop('status_code', axis=1, inplace=True)\n",
    "df_car_claims.info()"
   ]
  },
  {
   "cell_type": "markdown",
   "metadata": {},
   "source": [
    "# Combine the dataframes to 1"
   ]
  },
  {
   "cell_type": "code",
   "execution_count": null,
   "metadata": {},
   "outputs": [],
   "source": [
    "df_car_sales.shape"
   ]
  },
  {
   "cell_type": "code",
   "execution_count": null,
   "metadata": {},
   "outputs": [],
   "source": [
    "df_car_details.shape"
   ]
  },
  {
   "cell_type": "code",
   "execution_count": null,
   "metadata": {
    "scrolled": true
   },
   "outputs": [],
   "source": [
    "df_car_claims.shape"
   ]
  },
  {
   "cell_type": "code",
   "execution_count": 1213,
   "metadata": {},
   "outputs": [
    {
     "data": {
      "text/plain": [
       "(69551, 23)"
      ]
     },
     "execution_count": 1213,
     "metadata": {},
     "output_type": "execute_result"
    }
   ],
   "source": [
    "# Merging all the 3 dataframes into 1 master\n",
    "\n",
    "df_master = df_car_sales.merge(df_car_details, on='car_id').merge(df_car_claims, on='car_id')\n",
    "df_master.shape"
   ]
  },
  {
   "cell_type": "code",
   "execution_count": 1214,
   "metadata": {},
   "outputs": [
    {
     "data": {
      "text/html": [
       "<div>\n",
       "<style scoped>\n",
       "    .dataframe tbody tr th:only-of-type {\n",
       "        vertical-align: middle;\n",
       "    }\n",
       "\n",
       "    .dataframe tbody tr th {\n",
       "        vertical-align: top;\n",
       "    }\n",
       "\n",
       "    .dataframe thead th {\n",
       "        text-align: right;\n",
       "    }\n",
       "</style>\n",
       "<table border=\"1\" class=\"dataframe\">\n",
       "  <thead>\n",
       "    <tr style=\"text-align: right;\">\n",
       "      <th></th>\n",
       "      <th>car_id</th>\n",
       "      <th>country</th>\n",
       "      <th>merchant_id</th>\n",
       "      <th>selling_date</th>\n",
       "      <th>selling_week</th>\n",
       "      <th>payment_date</th>\n",
       "      <th>sell_price</th>\n",
       "      <th>transport_to_merchant</th>\n",
       "      <th>transport_date</th>\n",
       "      <th>has_tuning</th>\n",
       "      <th>...</th>\n",
       "      <th>gear_type</th>\n",
       "      <th>ac_type</th>\n",
       "      <th>xenon_light</th>\n",
       "      <th>navigation_system</th>\n",
       "      <th>radio_system</th>\n",
       "      <th>claim_number</th>\n",
       "      <th>full_refunds</th>\n",
       "      <th>partial_refunds</th>\n",
       "      <th>voucher_amount</th>\n",
       "      <th>claim_status</th>\n",
       "    </tr>\n",
       "  </thead>\n",
       "  <tbody>\n",
       "    <tr>\n",
       "      <th>0</th>\n",
       "      <td>5785159431</td>\n",
       "      <td>FR</td>\n",
       "      <td>NaN</td>\n",
       "      <td>2021-06-03</td>\n",
       "      <td>2021-22</td>\n",
       "      <td>2021-06-08</td>\n",
       "      <td>11028</td>\n",
       "      <td>0</td>\n",
       "      <td>NaT</td>\n",
       "      <td>0</td>\n",
       "      <td>...</td>\n",
       "      <td>1138</td>\n",
       "      <td>1050</td>\n",
       "      <td>0</td>\n",
       "      <td>1100</td>\n",
       "      <td>3534.0</td>\n",
       "      <td>NaN</td>\n",
       "      <td>0</td>\n",
       "      <td>0</td>\n",
       "      <td>0.000000</td>\n",
       "      <td>NO_CLAIM_RAISED</td>\n",
       "    </tr>\n",
       "    <tr>\n",
       "      <th>1</th>\n",
       "      <td>9820548955</td>\n",
       "      <td>FR</td>\n",
       "      <td>NaN</td>\n",
       "      <td>2021-08-31</td>\n",
       "      <td>2021-35</td>\n",
       "      <td>2021-09-02</td>\n",
       "      <td>8423</td>\n",
       "      <td>0</td>\n",
       "      <td>NaT</td>\n",
       "      <td>0</td>\n",
       "      <td>...</td>\n",
       "      <td>1138</td>\n",
       "      <td>1050</td>\n",
       "      <td>0</td>\n",
       "      <td>1100</td>\n",
       "      <td>1100.0</td>\n",
       "      <td>NaN</td>\n",
       "      <td>0</td>\n",
       "      <td>0</td>\n",
       "      <td>0.000000</td>\n",
       "      <td>NO_CLAIM_RAISED</td>\n",
       "    </tr>\n",
       "    <tr>\n",
       "      <th>2</th>\n",
       "      <td>7062041313</td>\n",
       "      <td>DE</td>\n",
       "      <td>10443420.0</td>\n",
       "      <td>2021-05-14</td>\n",
       "      <td>2021-19</td>\n",
       "      <td>2021-05-17</td>\n",
       "      <td>5800</td>\n",
       "      <td>0</td>\n",
       "      <td>NaT</td>\n",
       "      <td>0</td>\n",
       "      <td>...</td>\n",
       "      <td>1141</td>\n",
       "      <td>0</td>\n",
       "      <td>0</td>\n",
       "      <td>1100</td>\n",
       "      <td>3534.0</td>\n",
       "      <td>C1GW00315</td>\n",
       "      <td>0</td>\n",
       "      <td>0</td>\n",
       "      <td>911.334251</td>\n",
       "      <td>REJECTED</td>\n",
       "    </tr>\n",
       "    <tr>\n",
       "      <th>3</th>\n",
       "      <td>2944034946</td>\n",
       "      <td>ES</td>\n",
       "      <td>NaN</td>\n",
       "      <td>2021-07-21</td>\n",
       "      <td>2021-29</td>\n",
       "      <td>2021-07-29</td>\n",
       "      <td>4000</td>\n",
       "      <td>0</td>\n",
       "      <td>NaT</td>\n",
       "      <td>1</td>\n",
       "      <td>...</td>\n",
       "      <td>1138</td>\n",
       "      <td>0</td>\n",
       "      <td>0</td>\n",
       "      <td>0</td>\n",
       "      <td>3534.0</td>\n",
       "      <td>NaN</td>\n",
       "      <td>0</td>\n",
       "      <td>0</td>\n",
       "      <td>0.000000</td>\n",
       "      <td>NO_CLAIM_RAISED</td>\n",
       "    </tr>\n",
       "    <tr>\n",
       "      <th>4</th>\n",
       "      <td>9307814133</td>\n",
       "      <td>DE</td>\n",
       "      <td>NaN</td>\n",
       "      <td>2021-02-17</td>\n",
       "      <td>2021-07</td>\n",
       "      <td>2021-02-23</td>\n",
       "      <td>4950</td>\n",
       "      <td>0</td>\n",
       "      <td>NaT</td>\n",
       "      <td>0</td>\n",
       "      <td>...</td>\n",
       "      <td>1141</td>\n",
       "      <td>0</td>\n",
       "      <td>0</td>\n",
       "      <td>0</td>\n",
       "      <td>3534.0</td>\n",
       "      <td>NaN</td>\n",
       "      <td>0</td>\n",
       "      <td>0</td>\n",
       "      <td>0.000000</td>\n",
       "      <td>NO_CLAIM_RAISED</td>\n",
       "    </tr>\n",
       "  </tbody>\n",
       "</table>\n",
       "<p>5 rows × 23 columns</p>\n",
       "</div>"
      ],
      "text/plain": [
       "       car_id country  merchant_id selling_date selling_week payment_date  \\\n",
       "0  5785159431      FR          NaN   2021-06-03      2021-22   2021-06-08   \n",
       "1  9820548955      FR          NaN   2021-08-31      2021-35   2021-09-02   \n",
       "2  7062041313      DE   10443420.0   2021-05-14      2021-19   2021-05-17   \n",
       "3  2944034946      ES          NaN   2021-07-21      2021-29   2021-07-29   \n",
       "4  9307814133      DE          NaN   2021-02-17      2021-07   2021-02-23   \n",
       "\n",
       "   sell_price  transport_to_merchant transport_date  has_tuning  ...  \\\n",
       "0       11028                      0            NaT           0  ...   \n",
       "1        8423                      0            NaT           0  ...   \n",
       "2        5800                      0            NaT           0  ...   \n",
       "3        4000                      0            NaT           1  ...   \n",
       "4        4950                      0            NaT           0  ...   \n",
       "\n",
       "   gear_type  ac_type  xenon_light  navigation_system  radio_system  \\\n",
       "0       1138     1050            0               1100        3534.0   \n",
       "1       1138     1050            0               1100        1100.0   \n",
       "2       1141        0            0               1100        3534.0   \n",
       "3       1138        0            0                  0        3534.0   \n",
       "4       1141        0            0                  0        3534.0   \n",
       "\n",
       "   claim_number  full_refunds  partial_refunds voucher_amount     claim_status  \n",
       "0           NaN             0                0       0.000000  NO_CLAIM_RAISED  \n",
       "1           NaN             0                0       0.000000  NO_CLAIM_RAISED  \n",
       "2     C1GW00315             0                0     911.334251         REJECTED  \n",
       "3           NaN             0                0       0.000000  NO_CLAIM_RAISED  \n",
       "4           NaN             0                0       0.000000  NO_CLAIM_RAISED  \n",
       "\n",
       "[5 rows x 23 columns]"
      ]
     },
     "execution_count": 1214,
     "metadata": {},
     "output_type": "execute_result"
    }
   ],
   "source": [
    "df_master.head()"
   ]
  },
  {
   "cell_type": "markdown",
   "metadata": {},
   "source": [
    "# Data Exploration"
   ]
  },
  {
   "cell_type": "code",
   "execution_count": 1215,
   "metadata": {},
   "outputs": [
    {
     "name": "stdout",
     "output_type": "stream",
     "text": [
      "<class 'pandas.core.frame.DataFrame'>\n",
      "Int64Index: 69551 entries, 0 to 69550\n",
      "Data columns (total 23 columns):\n",
      " #   Column                 Non-Null Count  Dtype         \n",
      "---  ------                 --------------  -----         \n",
      " 0   car_id                 69551 non-null  int64         \n",
      " 1   country                69551 non-null  object        \n",
      " 2   merchant_id            19021 non-null  float64       \n",
      " 3   selling_date           69551 non-null  datetime64[ns]\n",
      " 4   selling_week           69551 non-null  object        \n",
      " 5   payment_date           69551 non-null  datetime64[ns]\n",
      " 6   sell_price             69551 non-null  int64         \n",
      " 7   transport_to_merchant  69551 non-null  int64         \n",
      " 8   transport_date         35172 non-null  datetime64[ns]\n",
      " 9   has_tuning             69551 non-null  int64         \n",
      " 10  has_airbags            69551 non-null  int64         \n",
      " 11  has_alarm_system       69551 non-null  int64         \n",
      " 12  fuel_type              69551 non-null  int64         \n",
      " 13  gear_type              69551 non-null  int64         \n",
      " 14  ac_type                69551 non-null  int64         \n",
      " 15  xenon_light            69551 non-null  int64         \n",
      " 16  navigation_system      69551 non-null  int64         \n",
      " 17  radio_system           69551 non-null  float64       \n",
      " 18  claim_number           19021 non-null  object        \n",
      " 19  full_refunds           69551 non-null  int64         \n",
      " 20  partial_refunds        69551 non-null  int64         \n",
      " 21  voucher_amount         69551 non-null  float64       \n",
      " 22  claim_status           69551 non-null  object        \n",
      "dtypes: datetime64[ns](3), float64(3), int64(13), object(4)\n",
      "memory usage: 12.7+ MB\n"
     ]
    }
   ],
   "source": [
    "df_master.info()"
   ]
  },
  {
   "cell_type": "code",
   "execution_count": 1216,
   "metadata": {},
   "outputs": [
    {
     "data": {
      "text/html": [
       "<div>\n",
       "<style scoped>\n",
       "    .dataframe tbody tr th:only-of-type {\n",
       "        vertical-align: middle;\n",
       "    }\n",
       "\n",
       "    .dataframe tbody tr th {\n",
       "        vertical-align: top;\n",
       "    }\n",
       "\n",
       "    .dataframe thead th {\n",
       "        text-align: right;\n",
       "    }\n",
       "</style>\n",
       "<table border=\"1\" class=\"dataframe\">\n",
       "  <thead>\n",
       "    <tr style=\"text-align: right;\">\n",
       "      <th></th>\n",
       "      <th>car_id</th>\n",
       "      <th>merchant_id</th>\n",
       "      <th>sell_price</th>\n",
       "      <th>transport_to_merchant</th>\n",
       "      <th>has_tuning</th>\n",
       "      <th>has_airbags</th>\n",
       "      <th>has_alarm_system</th>\n",
       "      <th>fuel_type</th>\n",
       "      <th>gear_type</th>\n",
       "      <th>ac_type</th>\n",
       "      <th>xenon_light</th>\n",
       "      <th>navigation_system</th>\n",
       "      <th>radio_system</th>\n",
       "      <th>full_refunds</th>\n",
       "      <th>partial_refunds</th>\n",
       "      <th>voucher_amount</th>\n",
       "    </tr>\n",
       "  </thead>\n",
       "  <tbody>\n",
       "    <tr>\n",
       "      <th>count</th>\n",
       "      <td>6.955100e+04</td>\n",
       "      <td>1.902100e+04</td>\n",
       "      <td>69551.000000</td>\n",
       "      <td>69551.000000</td>\n",
       "      <td>69551.000000</td>\n",
       "      <td>69551.000000</td>\n",
       "      <td>69551.000000</td>\n",
       "      <td>69551.000000</td>\n",
       "      <td>69551.000000</td>\n",
       "      <td>69551.00000</td>\n",
       "      <td>69551.000000</td>\n",
       "      <td>69551.000000</td>\n",
       "      <td>69551.000000</td>\n",
       "      <td>69551.000000</td>\n",
       "      <td>69551.000000</td>\n",
       "      <td>69551.000000</td>\n",
       "    </tr>\n",
       "    <tr>\n",
       "      <th>mean</th>\n",
       "      <td>5.482666e+09</td>\n",
       "      <td>8.386137e+06</td>\n",
       "      <td>7456.351828</td>\n",
       "      <td>0.505701</td>\n",
       "      <td>0.386882</td>\n",
       "      <td>0.842748</td>\n",
       "      <td>0.159149</td>\n",
       "      <td>1010.396759</td>\n",
       "      <td>1138.892971</td>\n",
       "      <td>845.42540</td>\n",
       "      <td>173.110149</td>\n",
       "      <td>402.383862</td>\n",
       "      <td>1814.948786</td>\n",
       "      <td>0.008440</td>\n",
       "      <td>0.116548</td>\n",
       "      <td>409.185390</td>\n",
       "    </tr>\n",
       "    <tr>\n",
       "      <th>std</th>\n",
       "      <td>2.598456e+09</td>\n",
       "      <td>4.728563e+06</td>\n",
       "      <td>8542.072637</td>\n",
       "      <td>0.499971</td>\n",
       "      <td>0.487040</td>\n",
       "      <td>0.364040</td>\n",
       "      <td>0.365818</td>\n",
       "      <td>171.698535</td>\n",
       "      <td>1.251686</td>\n",
       "      <td>415.52003</td>\n",
       "      <td>398.186022</td>\n",
       "      <td>529.824039</td>\n",
       "      <td>1640.071469</td>\n",
       "      <td>0.091481</td>\n",
       "      <td>0.320883</td>\n",
       "      <td>1278.060098</td>\n",
       "    </tr>\n",
       "    <tr>\n",
       "      <th>min</th>\n",
       "      <td>1.000145e+09</td>\n",
       "      <td>1.211960e+05</td>\n",
       "      <td>5.000000</td>\n",
       "      <td>0.000000</td>\n",
       "      <td>0.000000</td>\n",
       "      <td>0.000000</td>\n",
       "      <td>0.000000</td>\n",
       "      <td>0.000000</td>\n",
       "      <td>1138.000000</td>\n",
       "      <td>0.00000</td>\n",
       "      <td>0.000000</td>\n",
       "      <td>0.000000</td>\n",
       "      <td>0.000000</td>\n",
       "      <td>0.000000</td>\n",
       "      <td>0.000000</td>\n",
       "      <td>0.000000</td>\n",
       "    </tr>\n",
       "    <tr>\n",
       "      <th>25%</th>\n",
       "      <td>3.238701e+09</td>\n",
       "      <td>4.294300e+06</td>\n",
       "      <td>2251.500000</td>\n",
       "      <td>0.000000</td>\n",
       "      <td>0.000000</td>\n",
       "      <td>1.000000</td>\n",
       "      <td>0.000000</td>\n",
       "      <td>1039.000000</td>\n",
       "      <td>1138.000000</td>\n",
       "      <td>1049.00000</td>\n",
       "      <td>0.000000</td>\n",
       "      <td>0.000000</td>\n",
       "      <td>0.000000</td>\n",
       "      <td>0.000000</td>\n",
       "      <td>0.000000</td>\n",
       "      <td>0.000000</td>\n",
       "    </tr>\n",
       "    <tr>\n",
       "      <th>50%</th>\n",
       "      <td>5.464531e+09</td>\n",
       "      <td>8.674186e+06</td>\n",
       "      <td>4824.000000</td>\n",
       "      <td>1.000000</td>\n",
       "      <td>0.000000</td>\n",
       "      <td>1.000000</td>\n",
       "      <td>0.000000</td>\n",
       "      <td>1040.000000</td>\n",
       "      <td>1138.000000</td>\n",
       "      <td>1050.00000</td>\n",
       "      <td>0.000000</td>\n",
       "      <td>0.000000</td>\n",
       "      <td>1100.000000</td>\n",
       "      <td>0.000000</td>\n",
       "      <td>0.000000</td>\n",
       "      <td>0.000000</td>\n",
       "    </tr>\n",
       "    <tr>\n",
       "      <th>75%</th>\n",
       "      <td>7.729173e+09</td>\n",
       "      <td>1.236666e+07</td>\n",
       "      <td>9482.500000</td>\n",
       "      <td>1.000000</td>\n",
       "      <td>1.000000</td>\n",
       "      <td>1.000000</td>\n",
       "      <td>0.000000</td>\n",
       "      <td>1040.000000</td>\n",
       "      <td>1139.000000</td>\n",
       "      <td>1050.00000</td>\n",
       "      <td>0.000000</td>\n",
       "      <td>1100.000000</td>\n",
       "      <td>3534.000000</td>\n",
       "      <td>0.000000</td>\n",
       "      <td>0.000000</td>\n",
       "      <td>0.000000</td>\n",
       "    </tr>\n",
       "    <tr>\n",
       "      <th>max</th>\n",
       "      <td>9.999930e+09</td>\n",
       "      <td>1.676935e+07</td>\n",
       "      <td>173000.000000</td>\n",
       "      <td>1.000000</td>\n",
       "      <td>1.000000</td>\n",
       "      <td>1.000000</td>\n",
       "      <td>1.000000</td>\n",
       "      <td>1040.000000</td>\n",
       "      <td>1141.000000</td>\n",
       "      <td>1050.00000</td>\n",
       "      <td>1089.000000</td>\n",
       "      <td>1100.000000</td>\n",
       "      <td>3534.000000</td>\n",
       "      <td>1.000000</td>\n",
       "      <td>1.000000</td>\n",
       "      <td>50331.039294</td>\n",
       "    </tr>\n",
       "  </tbody>\n",
       "</table>\n",
       "</div>"
      ],
      "text/plain": [
       "             car_id   merchant_id     sell_price  transport_to_merchant  \\\n",
       "count  6.955100e+04  1.902100e+04   69551.000000           69551.000000   \n",
       "mean   5.482666e+09  8.386137e+06    7456.351828               0.505701   \n",
       "std    2.598456e+09  4.728563e+06    8542.072637               0.499971   \n",
       "min    1.000145e+09  1.211960e+05       5.000000               0.000000   \n",
       "25%    3.238701e+09  4.294300e+06    2251.500000               0.000000   \n",
       "50%    5.464531e+09  8.674186e+06    4824.000000               1.000000   \n",
       "75%    7.729173e+09  1.236666e+07    9482.500000               1.000000   \n",
       "max    9.999930e+09  1.676935e+07  173000.000000               1.000000   \n",
       "\n",
       "         has_tuning   has_airbags  has_alarm_system     fuel_type  \\\n",
       "count  69551.000000  69551.000000      69551.000000  69551.000000   \n",
       "mean       0.386882      0.842748          0.159149   1010.396759   \n",
       "std        0.487040      0.364040          0.365818    171.698535   \n",
       "min        0.000000      0.000000          0.000000      0.000000   \n",
       "25%        0.000000      1.000000          0.000000   1039.000000   \n",
       "50%        0.000000      1.000000          0.000000   1040.000000   \n",
       "75%        1.000000      1.000000          0.000000   1040.000000   \n",
       "max        1.000000      1.000000          1.000000   1040.000000   \n",
       "\n",
       "          gear_type      ac_type   xenon_light  navigation_system  \\\n",
       "count  69551.000000  69551.00000  69551.000000       69551.000000   \n",
       "mean    1138.892971    845.42540    173.110149         402.383862   \n",
       "std        1.251686    415.52003    398.186022         529.824039   \n",
       "min     1138.000000      0.00000      0.000000           0.000000   \n",
       "25%     1138.000000   1049.00000      0.000000           0.000000   \n",
       "50%     1138.000000   1050.00000      0.000000           0.000000   \n",
       "75%     1139.000000   1050.00000      0.000000        1100.000000   \n",
       "max     1141.000000   1050.00000   1089.000000        1100.000000   \n",
       "\n",
       "       radio_system  full_refunds  partial_refunds  voucher_amount  \n",
       "count  69551.000000  69551.000000     69551.000000    69551.000000  \n",
       "mean    1814.948786      0.008440         0.116548      409.185390  \n",
       "std     1640.071469      0.091481         0.320883     1278.060098  \n",
       "min        0.000000      0.000000         0.000000        0.000000  \n",
       "25%        0.000000      0.000000         0.000000        0.000000  \n",
       "50%     1100.000000      0.000000         0.000000        0.000000  \n",
       "75%     3534.000000      0.000000         0.000000        0.000000  \n",
       "max     3534.000000      1.000000         1.000000    50331.039294  "
      ]
     },
     "execution_count": 1216,
     "metadata": {},
     "output_type": "execute_result"
    }
   ],
   "source": [
    "df_master.describe()"
   ]
  },
  {
   "cell_type": "code",
   "execution_count": 1217,
   "metadata": {},
   "outputs": [
    {
     "data": {
      "text/plain": [
       "CLOSED_FULLY_PROCESSED                                                    7824\n",
       "REJECTED                                                                  4755\n",
       "CLOSED_NO_COMPENSATION                                                    3258\n",
       "CREATED                                                                    895\n",
       "CLOSED_ITEMS_FOUND_AND_SENT                                                758\n",
       "CLOSED_WAITING_FOR_MORE_PROOF                                              335\n",
       "PROOF_NOT_RECEIVED                                                         301\n",
       "WAITING_FOR_SALES_TO_NEGOTIATE_WITH_THE_MERCHANT                           226\n",
       "WAITING_FOR_LOCAL_OPS_MD_DECISION                                          158\n",
       "MISSING_ITEMS_IN_PROGRESS                                                  131\n",
       "2ND_DECISION_WAITING_FOR_SALES_TO_NEGOTIATE_WITH_MERCHANT                   76\n",
       "NEW                                                                         65\n",
       "WAITING_FOR_CLAIMS_TEAM_2_EVALUATION                                        44\n",
       "2ND_DECISION_WAITING_FOR_LOCAL_OPS_MD_DECISION                              33\n",
       "CLOSED_WAITING_FOR_MONEY_TO_BE_SHIPPED_AND_COMPENSATION_TO_BE_RECORDED      32\n",
       "CLOSED_WAITING_FOR_MERCHANT_BANK_DETAILS                                    31\n",
       "CLOSED_CARRIER_WILL_COMPENSATE                                              18\n",
       "CLOSED_WAITING_FOR_DOCUMENTS                                                16\n",
       "NEW_MISSING_ITEM_CLAIM                                                      15\n",
       "CLOSED_WAITING_FOR_CAR_DOCUMENTS_AND_BANK_DETAILS                           10\n",
       "CLOSED_OVER_TIME_LIMIT                                                      10\n",
       "WAITING_FOR_CARRIER_FEEDBACK                                                10\n",
       "WAITING_FOR_CLAIMS_TEAM_1_EVALUATION                                         9\n",
       "MORE_PROOF_RECEIVED                                                          4\n",
       "2ND_EVALUATION_CLAIMS_TEAM_2                                                 3\n",
       "WAITING_FOR_BANK_DETAILS_VALIDATION                                          2\n",
       "CLOSED_WAITING_FOR_COMPENSATION_TO_BE_RECORDED                               1\n",
       "WAITING_FOR_LEGAL_TEAM                                                       1\n",
       "Name: claim_status, dtype: int64"
      ]
     },
     "execution_count": 1217,
     "metadata": {},
     "output_type": "execute_result"
    }
   ],
   "source": [
    "df_master['claim_status'].value_counts()[1:]\n",
    "\n",
    "# F: Most of the cases (8013) are either REJECTED or CLOSED_NO_COMP at the end."
   ]
  },
  {
   "cell_type": "code",
   "execution_count": 1218,
   "metadata": {},
   "outputs": [
    {
     "data": {
      "text/plain": [
       "<matplotlib.axes._subplots.AxesSubplot at 0x7fe6b0375970>"
      ]
     },
     "execution_count": 1218,
     "metadata": {},
     "output_type": "execute_result"
    },
    {
     "data": {
      "image/png": "[encoded data removed]",
      "text/plain": [
       "<Figure size 576x720 with 1 Axes>"
      ]
     },
     "metadata": {
      "needs_background": "light"
     },
     "output_type": "display_data"
    }
   ],
   "source": [
    "df_master['claim_status'].value_counts()[1:].plot(kind='barh', figsize=(8, 10))"
   ]
  },
  {
   "cell_type": "code",
   "execution_count": 1219,
   "metadata": {},
   "outputs": [
    {
     "data": {
      "text/plain": [
       "0.0"
      ]
     },
     "execution_count": 1219,
     "metadata": {},
     "output_type": "execute_result"
    }
   ],
   "source": [
    "# We need to group the statuses into 4 categories\n",
    "\n",
    "# 1. NOT_CLAIMED\n",
    "# 2. REJECTED ( REJECTED / CLOSED_NO_COMP)\n",
    "# 3. CLAIM_PAID\n",
    "# 4. IN_PROGRESS\n",
    "\n",
    "# So there is 1 category where the missing items are sent to customers. \n",
    "# Need to understand if it costs anything to Vroom..\n",
    "\n",
    "df_master[df_master['claim_status']== 'CLOSED_ITEMS_FOUND_AND_SENT']['voucher_amount'].sum()"
   ]
  },
  {
   "cell_type": "code",
   "execution_count": 1220,
   "metadata": {},
   "outputs": [
    {
     "data": {
      "text/plain": [
       "4961354.536353906"
      ]
     },
     "execution_count": 1220,
     "metadata": {},
     "output_type": "execute_result"
    }
   ],
   "source": [
    "df_master[df_master['claim_status']== 'CLOSED_NO_COMPENSATION']['voucher_amount'].sum()"
   ]
  },
  {
   "cell_type": "code",
   "execution_count": 1221,
   "metadata": {},
   "outputs": [],
   "source": [
    "# F: When the missing items are found and sent to customer there are no vouchers issues., hence no cost involved."
   ]
  },
  {
   "cell_type": "markdown",
   "metadata": {},
   "source": [
    "### Feature Engineering"
   ]
  },
  {
   "cell_type": "code",
   "execution_count": 1222,
   "metadata": {},
   "outputs": [
    {
     "data": {
      "text/html": [
       "<div>\n",
       "<style scoped>\n",
       "    .dataframe tbody tr th:only-of-type {\n",
       "        vertical-align: middle;\n",
       "    }\n",
       "\n",
       "    .dataframe tbody tr th {\n",
       "        vertical-align: top;\n",
       "    }\n",
       "\n",
       "    .dataframe thead th {\n",
       "        text-align: right;\n",
       "    }\n",
       "</style>\n",
       "<table border=\"1\" class=\"dataframe\">\n",
       "  <thead>\n",
       "    <tr style=\"text-align: right;\">\n",
       "      <th></th>\n",
       "      <th>car_id</th>\n",
       "      <th>claim_number</th>\n",
       "      <th>has_claim_raised</th>\n",
       "    </tr>\n",
       "  </thead>\n",
       "  <tbody>\n",
       "    <tr>\n",
       "      <th>0</th>\n",
       "      <td>5785159431</td>\n",
       "      <td>NaN</td>\n",
       "      <td>0</td>\n",
       "    </tr>\n",
       "    <tr>\n",
       "      <th>1</th>\n",
       "      <td>9820548955</td>\n",
       "      <td>NaN</td>\n",
       "      <td>0</td>\n",
       "    </tr>\n",
       "    <tr>\n",
       "      <th>2</th>\n",
       "      <td>7062041313</td>\n",
       "      <td>C1GW00315</td>\n",
       "      <td>1</td>\n",
       "    </tr>\n",
       "    <tr>\n",
       "      <th>3</th>\n",
       "      <td>2944034946</td>\n",
       "      <td>NaN</td>\n",
       "      <td>0</td>\n",
       "    </tr>\n",
       "    <tr>\n",
       "      <th>4</th>\n",
       "      <td>9307814133</td>\n",
       "      <td>NaN</td>\n",
       "      <td>0</td>\n",
       "    </tr>\n",
       "    <tr>\n",
       "      <th>...</th>\n",
       "      <td>...</td>\n",
       "      <td>...</td>\n",
       "      <td>...</td>\n",
       "    </tr>\n",
       "    <tr>\n",
       "      <th>69546</th>\n",
       "      <td>5405810520</td>\n",
       "      <td>NaN</td>\n",
       "      <td>0</td>\n",
       "    </tr>\n",
       "    <tr>\n",
       "      <th>69547</th>\n",
       "      <td>2271497015</td>\n",
       "      <td>NaN</td>\n",
       "      <td>0</td>\n",
       "    </tr>\n",
       "    <tr>\n",
       "      <th>69548</th>\n",
       "      <td>7493564941</td>\n",
       "      <td>C1KC93377</td>\n",
       "      <td>1</td>\n",
       "    </tr>\n",
       "    <tr>\n",
       "      <th>69549</th>\n",
       "      <td>1788160938</td>\n",
       "      <td>NaN</td>\n",
       "      <td>0</td>\n",
       "    </tr>\n",
       "    <tr>\n",
       "      <th>69550</th>\n",
       "      <td>2990209110</td>\n",
       "      <td>C1XY29277</td>\n",
       "      <td>1</td>\n",
       "    </tr>\n",
       "  </tbody>\n",
       "</table>\n",
       "<p>69551 rows × 3 columns</p>\n",
       "</div>"
      ],
      "text/plain": [
       "           car_id claim_number  has_claim_raised\n",
       "0      5785159431          NaN                 0\n",
       "1      9820548955          NaN                 0\n",
       "2      7062041313    C1GW00315                 1\n",
       "3      2944034946          NaN                 0\n",
       "4      9307814133          NaN                 0\n",
       "...           ...          ...               ...\n",
       "69546  5405810520          NaN                 0\n",
       "69547  2271497015          NaN                 0\n",
       "69548  7493564941    C1KC93377                 1\n",
       "69549  1788160938          NaN                 0\n",
       "69550  2990209110    C1XY29277                 1\n",
       "\n",
       "[69551 rows x 3 columns]"
      ]
     },
     "execution_count": 1222,
     "metadata": {},
     "output_type": "execute_result"
    }
   ],
   "source": [
    "# Create a new feature: has_claim_raised\n",
    "# No matter what the result is, if the claim was raised for a sale, flag it 1 else 0.\n",
    "\n",
    "df_master['has_claim_raised'] = np.where(df_master['claim_number'].isnull(), 0, 1)\n",
    "df_master[['car_id', 'claim_number', 'has_claim_raised']]"
   ]
  },
  {
   "cell_type": "code",
   "execution_count": 1223,
   "metadata": {},
   "outputs": [],
   "source": [
    "# Create a new feature: refund_amount\n",
    "\n",
    "# A. In case of full refunds: refund_amount = selling_price of the car\n",
    "# B. In case of partial_refunds: refund_amount = voucher_amount (condition:REJECTED cases wont get voucher_amount)\n",
    "\n",
    "def refund_amount(row):\n",
    "    if row['has_claim_raised'] == 0:\n",
    "        return 0\n",
    "    else:\n",
    "        if row['full_refunds'] == 1:\n",
    "            return row['sell_price']\n",
    "        else:\n",
    "            if (row['claim_status'] == 'REJECTED') or (row['claim_status'] == 'CLOSED_NO_COMPENSATION'):\n",
    "                return 0\n",
    "            else:\n",
    "                return row['voucher_amount']\n",
    "\n",
    "            \n",
    "df_master['refund_amount'] = df_master.apply(lambda row: refund_amount(row), axis=1)"
   ]
  },
  {
   "cell_type": "code",
   "execution_count": 1224,
   "metadata": {},
   "outputs": [
    {
     "data": {
      "text/html": [
       "<div>\n",
       "<style scoped>\n",
       "    .dataframe tbody tr th:only-of-type {\n",
       "        vertical-align: middle;\n",
       "    }\n",
       "\n",
       "    .dataframe tbody tr th {\n",
       "        vertical-align: top;\n",
       "    }\n",
       "\n",
       "    .dataframe thead th {\n",
       "        text-align: right;\n",
       "    }\n",
       "</style>\n",
       "<table border=\"1\" class=\"dataframe\">\n",
       "  <thead>\n",
       "    <tr style=\"text-align: right;\">\n",
       "      <th></th>\n",
       "      <th>car_id</th>\n",
       "      <th>has_claim_raised</th>\n",
       "      <th>full_refunds</th>\n",
       "      <th>partial_refunds</th>\n",
       "      <th>sell_price</th>\n",
       "      <th>voucher_amount</th>\n",
       "      <th>claim_status</th>\n",
       "      <th>refund_amount</th>\n",
       "    </tr>\n",
       "  </thead>\n",
       "  <tbody>\n",
       "    <tr>\n",
       "      <th>69541</th>\n",
       "      <td>2925088676</td>\n",
       "      <td>0</td>\n",
       "      <td>0</td>\n",
       "      <td>0</td>\n",
       "      <td>7694</td>\n",
       "      <td>0.000000</td>\n",
       "      <td>NO_CLAIM_RAISED</td>\n",
       "      <td>0.0</td>\n",
       "    </tr>\n",
       "    <tr>\n",
       "      <th>69542</th>\n",
       "      <td>1659206731</td>\n",
       "      <td>0</td>\n",
       "      <td>0</td>\n",
       "      <td>0</td>\n",
       "      <td>1550</td>\n",
       "      <td>0.000000</td>\n",
       "      <td>NO_CLAIM_RAISED</td>\n",
       "      <td>0.0</td>\n",
       "    </tr>\n",
       "    <tr>\n",
       "      <th>69543</th>\n",
       "      <td>5416683907</td>\n",
       "      <td>0</td>\n",
       "      <td>0</td>\n",
       "      <td>0</td>\n",
       "      <td>9136</td>\n",
       "      <td>0.000000</td>\n",
       "      <td>NO_CLAIM_RAISED</td>\n",
       "      <td>0.0</td>\n",
       "    </tr>\n",
       "    <tr>\n",
       "      <th>69544</th>\n",
       "      <td>5421932733</td>\n",
       "      <td>0</td>\n",
       "      <td>0</td>\n",
       "      <td>0</td>\n",
       "      <td>1400</td>\n",
       "      <td>0.000000</td>\n",
       "      <td>NO_CLAIM_RAISED</td>\n",
       "      <td>0.0</td>\n",
       "    </tr>\n",
       "    <tr>\n",
       "      <th>69545</th>\n",
       "      <td>9919439196</td>\n",
       "      <td>0</td>\n",
       "      <td>0</td>\n",
       "      <td>0</td>\n",
       "      <td>9487</td>\n",
       "      <td>0.000000</td>\n",
       "      <td>NO_CLAIM_RAISED</td>\n",
       "      <td>0.0</td>\n",
       "    </tr>\n",
       "    <tr>\n",
       "      <th>69546</th>\n",
       "      <td>5405810520</td>\n",
       "      <td>0</td>\n",
       "      <td>0</td>\n",
       "      <td>0</td>\n",
       "      <td>9000</td>\n",
       "      <td>0.000000</td>\n",
       "      <td>NO_CLAIM_RAISED</td>\n",
       "      <td>0.0</td>\n",
       "    </tr>\n",
       "    <tr>\n",
       "      <th>69547</th>\n",
       "      <td>2271497015</td>\n",
       "      <td>0</td>\n",
       "      <td>0</td>\n",
       "      <td>0</td>\n",
       "      <td>11889</td>\n",
       "      <td>0.000000</td>\n",
       "      <td>NO_CLAIM_RAISED</td>\n",
       "      <td>0.0</td>\n",
       "    </tr>\n",
       "    <tr>\n",
       "      <th>69548</th>\n",
       "      <td>7493564941</td>\n",
       "      <td>1</td>\n",
       "      <td>0</td>\n",
       "      <td>0</td>\n",
       "      <td>5266</td>\n",
       "      <td>1381.951724</td>\n",
       "      <td>CLOSED_NO_COMPENSATION</td>\n",
       "      <td>0.0</td>\n",
       "    </tr>\n",
       "    <tr>\n",
       "      <th>69549</th>\n",
       "      <td>1788160938</td>\n",
       "      <td>0</td>\n",
       "      <td>0</td>\n",
       "      <td>0</td>\n",
       "      <td>3470</td>\n",
       "      <td>0.000000</td>\n",
       "      <td>NO_CLAIM_RAISED</td>\n",
       "      <td>0.0</td>\n",
       "    </tr>\n",
       "    <tr>\n",
       "      <th>69550</th>\n",
       "      <td>2990209110</td>\n",
       "      <td>1</td>\n",
       "      <td>0</td>\n",
       "      <td>0</td>\n",
       "      <td>4503</td>\n",
       "      <td>0.000000</td>\n",
       "      <td>CLOSED_ITEMS_FOUND_AND_SENT</td>\n",
       "      <td>0.0</td>\n",
       "    </tr>\n",
       "  </tbody>\n",
       "</table>\n",
       "</div>"
      ],
      "text/plain": [
       "           car_id  has_claim_raised  full_refunds  partial_refunds  \\\n",
       "69541  2925088676                 0             0                0   \n",
       "69542  1659206731                 0             0                0   \n",
       "69543  5416683907                 0             0                0   \n",
       "69544  5421932733                 0             0                0   \n",
       "69545  9919439196                 0             0                0   \n",
       "69546  5405810520                 0             0                0   \n",
       "69547  2271497015                 0             0                0   \n",
       "69548  7493564941                 1             0                0   \n",
       "69549  1788160938                 0             0                0   \n",
       "69550  2990209110                 1             0                0   \n",
       "\n",
       "       sell_price  voucher_amount                 claim_status  refund_amount  \n",
       "69541        7694        0.000000              NO_CLAIM_RAISED            0.0  \n",
       "69542        1550        0.000000              NO_CLAIM_RAISED            0.0  \n",
       "69543        9136        0.000000              NO_CLAIM_RAISED            0.0  \n",
       "69544        1400        0.000000              NO_CLAIM_RAISED            0.0  \n",
       "69545        9487        0.000000              NO_CLAIM_RAISED            0.0  \n",
       "69546        9000        0.000000              NO_CLAIM_RAISED            0.0  \n",
       "69547       11889        0.000000              NO_CLAIM_RAISED            0.0  \n",
       "69548        5266     1381.951724       CLOSED_NO_COMPENSATION            0.0  \n",
       "69549        3470        0.000000              NO_CLAIM_RAISED            0.0  \n",
       "69550        4503        0.000000  CLOSED_ITEMS_FOUND_AND_SENT            0.0  "
      ]
     },
     "execution_count": 1224,
     "metadata": {},
     "output_type": "execute_result"
    }
   ],
   "source": [
    "df_master[['car_id', 'has_claim_raised', 'full_refunds', 'partial_refunds', \n",
    "           'sell_price', 'voucher_amount', 'claim_status', 'refund_amount']].tail(10)"
   ]
  },
  {
   "cell_type": "code",
   "execution_count": 1225,
   "metadata": {},
   "outputs": [
    {
     "data": {
      "text/html": [
       "<div>\n",
       "<style scoped>\n",
       "    .dataframe tbody tr th:only-of-type {\n",
       "        vertical-align: middle;\n",
       "    }\n",
       "\n",
       "    .dataframe tbody tr th {\n",
       "        vertical-align: top;\n",
       "    }\n",
       "\n",
       "    .dataframe thead th {\n",
       "        text-align: right;\n",
       "    }\n",
       "</style>\n",
       "<table border=\"1\" class=\"dataframe\">\n",
       "  <thead>\n",
       "    <tr style=\"text-align: right;\">\n",
       "      <th></th>\n",
       "      <th>car_id</th>\n",
       "      <th>transport_date</th>\n",
       "      <th>payment_date</th>\n",
       "      <th>days_to_ship</th>\n",
       "    </tr>\n",
       "  </thead>\n",
       "  <tbody>\n",
       "    <tr>\n",
       "      <th>34379</th>\n",
       "      <td>3421775349</td>\n",
       "      <td>2021-05-31</td>\n",
       "      <td>2021-05-14</td>\n",
       "      <td>17 days</td>\n",
       "    </tr>\n",
       "    <tr>\n",
       "      <th>34380</th>\n",
       "      <td>5316743932</td>\n",
       "      <td>2021-08-31</td>\n",
       "      <td>2021-08-17</td>\n",
       "      <td>14 days</td>\n",
       "    </tr>\n",
       "    <tr>\n",
       "      <th>34381</th>\n",
       "      <td>7008763171</td>\n",
       "      <td>2021-06-19</td>\n",
       "      <td>2021-06-08</td>\n",
       "      <td>11 days</td>\n",
       "    </tr>\n",
       "    <tr>\n",
       "      <th>34382</th>\n",
       "      <td>1417558732</td>\n",
       "      <td>2021-09-09</td>\n",
       "      <td>2021-09-02</td>\n",
       "      <td>7 days</td>\n",
       "    </tr>\n",
       "    <tr>\n",
       "      <th>34383</th>\n",
       "      <td>3033323046</td>\n",
       "      <td>2021-03-30</td>\n",
       "      <td>2021-03-19</td>\n",
       "      <td>11 days</td>\n",
       "    </tr>\n",
       "    <tr>\n",
       "      <th>...</th>\n",
       "      <td>...</td>\n",
       "      <td>...</td>\n",
       "      <td>...</td>\n",
       "      <td>...</td>\n",
       "    </tr>\n",
       "    <tr>\n",
       "      <th>69546</th>\n",
       "      <td>5405810520</td>\n",
       "      <td>2021-07-16</td>\n",
       "      <td>2021-06-23</td>\n",
       "      <td>23 days</td>\n",
       "    </tr>\n",
       "    <tr>\n",
       "      <th>69547</th>\n",
       "      <td>2271497015</td>\n",
       "      <td>2021-03-01</td>\n",
       "      <td>2021-02-17</td>\n",
       "      <td>12 days</td>\n",
       "    </tr>\n",
       "    <tr>\n",
       "      <th>69548</th>\n",
       "      <td>7493564941</td>\n",
       "      <td>2021-08-19</td>\n",
       "      <td>2021-08-18</td>\n",
       "      <td>1 days</td>\n",
       "    </tr>\n",
       "    <tr>\n",
       "      <th>69549</th>\n",
       "      <td>1788160938</td>\n",
       "      <td>2021-07-22</td>\n",
       "      <td>2021-07-19</td>\n",
       "      <td>3 days</td>\n",
       "    </tr>\n",
       "    <tr>\n",
       "      <th>69550</th>\n",
       "      <td>2990209110</td>\n",
       "      <td>2021-03-12</td>\n",
       "      <td>2021-03-03</td>\n",
       "      <td>9 days</td>\n",
       "    </tr>\n",
       "  </tbody>\n",
       "</table>\n",
       "<p>35172 rows × 4 columns</p>\n",
       "</div>"
      ],
      "text/plain": [
       "           car_id transport_date payment_date days_to_ship\n",
       "34379  3421775349     2021-05-31   2021-05-14      17 days\n",
       "34380  5316743932     2021-08-31   2021-08-17      14 days\n",
       "34381  7008763171     2021-06-19   2021-06-08      11 days\n",
       "34382  1417558732     2021-09-09   2021-09-02       7 days\n",
       "34383  3033323046     2021-03-30   2021-03-19      11 days\n",
       "...           ...            ...          ...          ...\n",
       "69546  5405810520     2021-07-16   2021-06-23      23 days\n",
       "69547  2271497015     2021-03-01   2021-02-17      12 days\n",
       "69548  7493564941     2021-08-19   2021-08-18       1 days\n",
       "69549  1788160938     2021-07-22   2021-07-19       3 days\n",
       "69550  2990209110     2021-03-12   2021-03-03       9 days\n",
       "\n",
       "[35172 rows x 4 columns]"
      ]
     },
     "execution_count": 1225,
     "metadata": {},
     "output_type": "execute_result"
    }
   ],
   "source": [
    "# Create a new feature: days_to_ship by calculating the datediff between payment_date and transport_date\n",
    "\n",
    "df_master.insert(9, 'days_to_ship', ((df_master['transport_date'] - df_master['payment_date']).dt.days))\n",
    "df_master['days_to_ship'] = pd.to_timedelta(df_master['days_to_ship'], 'days')\n",
    "\n",
    "df_master[df_master['transport_to_merchant']==1][['car_id', 'transport_date', 'payment_date', 'days_to_ship']]"
   ]
  },
  {
   "cell_type": "code",
   "execution_count": 1226,
   "metadata": {},
   "outputs": [
    {
     "data": {
      "text/plain": [
       "Index(['car_id', 'country', 'merchant_id', 'selling_date', 'selling_week',\n",
       "       'payment_date', 'sell_price', 'transport_to_merchant', 'transport_date',\n",
       "       'days_to_ship', 'has_tuning', 'has_airbags', 'has_alarm_system',\n",
       "       'fuel_type', 'gear_type', 'ac_type', 'xenon_light', 'navigation_system',\n",
       "       'radio_system', 'claim_number', 'full_refunds', 'partial_refunds',\n",
       "       'voucher_amount', 'claim_status', 'has_claim_raised', 'refund_amount'],\n",
       "      dtype='object')"
      ]
     },
     "execution_count": 1226,
     "metadata": {},
     "output_type": "execute_result"
    }
   ],
   "source": [
    "df_master.columns"
   ]
  },
  {
   "cell_type": "code",
   "execution_count": 1227,
   "metadata": {},
   "outputs": [
    {
     "data": {
      "text/html": [
       "<div>\n",
       "<style scoped>\n",
       "    .dataframe tbody tr th:only-of-type {\n",
       "        vertical-align: middle;\n",
       "    }\n",
       "\n",
       "    .dataframe tbody tr th {\n",
       "        vertical-align: top;\n",
       "    }\n",
       "\n",
       "    .dataframe thead th {\n",
       "        text-align: right;\n",
       "    }\n",
       "</style>\n",
       "<table border=\"1\" class=\"dataframe\">\n",
       "  <thead>\n",
       "    <tr style=\"text-align: right;\">\n",
       "      <th></th>\n",
       "      <th>claim_status</th>\n",
       "      <th>short_status</th>\n",
       "    </tr>\n",
       "  </thead>\n",
       "  <tbody>\n",
       "    <tr>\n",
       "      <th>0</th>\n",
       "      <td>NO_CLAIM_RAISED</td>\n",
       "      <td>NOT_CLAIMED</td>\n",
       "    </tr>\n",
       "    <tr>\n",
       "      <th>1</th>\n",
       "      <td>NO_CLAIM_RAISED</td>\n",
       "      <td>NOT_CLAIMED</td>\n",
       "    </tr>\n",
       "    <tr>\n",
       "      <th>2</th>\n",
       "      <td>REJECTED</td>\n",
       "      <td>REJECTED</td>\n",
       "    </tr>\n",
       "    <tr>\n",
       "      <th>3</th>\n",
       "      <td>NO_CLAIM_RAISED</td>\n",
       "      <td>NOT_CLAIMED</td>\n",
       "    </tr>\n",
       "    <tr>\n",
       "      <th>4</th>\n",
       "      <td>NO_CLAIM_RAISED</td>\n",
       "      <td>NOT_CLAIMED</td>\n",
       "    </tr>\n",
       "    <tr>\n",
       "      <th>5</th>\n",
       "      <td>NO_CLAIM_RAISED</td>\n",
       "      <td>NOT_CLAIMED</td>\n",
       "    </tr>\n",
       "    <tr>\n",
       "      <th>6</th>\n",
       "      <td>MORE_PROOF_RECEIVED</td>\n",
       "      <td>UNDER_PROCESS</td>\n",
       "    </tr>\n",
       "    <tr>\n",
       "      <th>7</th>\n",
       "      <td>NO_CLAIM_RAISED</td>\n",
       "      <td>NOT_CLAIMED</td>\n",
       "    </tr>\n",
       "    <tr>\n",
       "      <th>8</th>\n",
       "      <td>NO_CLAIM_RAISED</td>\n",
       "      <td>NOT_CLAIMED</td>\n",
       "    </tr>\n",
       "    <tr>\n",
       "      <th>9</th>\n",
       "      <td>CLOSED_FULLY_PROCESSED</td>\n",
       "      <td>CLAIM_PAID</td>\n",
       "    </tr>\n",
       "  </tbody>\n",
       "</table>\n",
       "</div>"
      ],
      "text/plain": [
       "             claim_status   short_status\n",
       "0         NO_CLAIM_RAISED    NOT_CLAIMED\n",
       "1         NO_CLAIM_RAISED    NOT_CLAIMED\n",
       "2                REJECTED       REJECTED\n",
       "3         NO_CLAIM_RAISED    NOT_CLAIMED\n",
       "4         NO_CLAIM_RAISED    NOT_CLAIMED\n",
       "5         NO_CLAIM_RAISED    NOT_CLAIMED\n",
       "6     MORE_PROOF_RECEIVED  UNDER_PROCESS\n",
       "7         NO_CLAIM_RAISED    NOT_CLAIMED\n",
       "8         NO_CLAIM_RAISED    NOT_CLAIMED\n",
       "9  CLOSED_FULLY_PROCESSED     CLAIM_PAID"
      ]
     },
     "execution_count": 1227,
     "metadata": {},
     "output_type": "execute_result"
    }
   ],
   "source": [
    "# Create a new feature: short_status by bucketing all the claim_statuses into simple names\n",
    "\n",
    "no_comp_status = ['CLOSED_NO_COMPENSATION', \n",
    "                  'NEW_MISSING_ITEM_CLAIM',\n",
    "                  'MISSING_ITEMS_IN_PROGRESS',\n",
    "                  'CLOSED_ITEMS_FOUND_AND_SENT', \n",
    "                  'CLOSED_CARRIER_WILL_COMPENSATE'] \n",
    "\n",
    "\n",
    "def short_stat(row):\n",
    "    if row['claim_status'] == 'NO_CLAIM_RAISED':\n",
    "        return 'NOT_CLAIMED'\n",
    "    elif row['claim_status'] == 'REJECTED':\n",
    "        return 'REJECTED'\n",
    "    elif row['claim_status'] == 'CLOSED_FULLY_PROCESSED':\n",
    "        return 'CLAIM_PAID'\n",
    "    elif row['claim_status'] in (no_comp_status):\n",
    "        return 'NO_COMPENSATION'\n",
    "    else:\n",
    "        return 'UNDER_PROCESS'\n",
    "\n",
    "            \n",
    "df_master['short_status'] = df_master.apply(lambda row: short_stat(row), axis=1)\n",
    "df_master[['claim_status', 'short_status']].head(10)"
   ]
  },
  {
   "cell_type": "code",
   "execution_count": 1228,
   "metadata": {},
   "outputs": [
    {
     "data": {
      "text/html": [
       "<div>\n",
       "<style scoped>\n",
       "    .dataframe tbody tr th:only-of-type {\n",
       "        vertical-align: middle;\n",
       "    }\n",
       "\n",
       "    .dataframe tbody tr th {\n",
       "        vertical-align: top;\n",
       "    }\n",
       "\n",
       "    .dataframe thead th {\n",
       "        text-align: right;\n",
       "    }\n",
       "</style>\n",
       "<table border=\"1\" class=\"dataframe\">\n",
       "  <thead>\n",
       "    <tr style=\"text-align: right;\">\n",
       "      <th></th>\n",
       "      <th>claim_status</th>\n",
       "      <th>short_status</th>\n",
       "    </tr>\n",
       "  </thead>\n",
       "  <tbody>\n",
       "    <tr>\n",
       "      <th>0</th>\n",
       "      <td>NO_CLAIM_RAISED</td>\n",
       "      <td>NOT_CLAIMED</td>\n",
       "    </tr>\n",
       "    <tr>\n",
       "      <th>1</th>\n",
       "      <td>NO_CLAIM_RAISED</td>\n",
       "      <td>NOT_CLAIMED</td>\n",
       "    </tr>\n",
       "    <tr>\n",
       "      <th>2</th>\n",
       "      <td>REJECTED</td>\n",
       "      <td>REJECTED</td>\n",
       "    </tr>\n",
       "    <tr>\n",
       "      <th>3</th>\n",
       "      <td>NO_CLAIM_RAISED</td>\n",
       "      <td>NOT_CLAIMED</td>\n",
       "    </tr>\n",
       "    <tr>\n",
       "      <th>4</th>\n",
       "      <td>NO_CLAIM_RAISED</td>\n",
       "      <td>NOT_CLAIMED</td>\n",
       "    </tr>\n",
       "    <tr>\n",
       "      <th>5</th>\n",
       "      <td>NO_CLAIM_RAISED</td>\n",
       "      <td>NOT_CLAIMED</td>\n",
       "    </tr>\n",
       "    <tr>\n",
       "      <th>6</th>\n",
       "      <td>MORE_PROOF_RECEIVED</td>\n",
       "      <td>UNDER_PROCESS</td>\n",
       "    </tr>\n",
       "    <tr>\n",
       "      <th>7</th>\n",
       "      <td>NO_CLAIM_RAISED</td>\n",
       "      <td>NOT_CLAIMED</td>\n",
       "    </tr>\n",
       "    <tr>\n",
       "      <th>8</th>\n",
       "      <td>NO_CLAIM_RAISED</td>\n",
       "      <td>NOT_CLAIMED</td>\n",
       "    </tr>\n",
       "    <tr>\n",
       "      <th>9</th>\n",
       "      <td>CLOSED_FULLY_PROCESSED</td>\n",
       "      <td>CLAIM_PAID</td>\n",
       "    </tr>\n",
       "    <tr>\n",
       "      <th>10</th>\n",
       "      <td>NO_CLAIM_RAISED</td>\n",
       "      <td>NOT_CLAIMED</td>\n",
       "    </tr>\n",
       "    <tr>\n",
       "      <th>11</th>\n",
       "      <td>REJECTED</td>\n",
       "      <td>REJECTED</td>\n",
       "    </tr>\n",
       "    <tr>\n",
       "      <th>12</th>\n",
       "      <td>NO_CLAIM_RAISED</td>\n",
       "      <td>NOT_CLAIMED</td>\n",
       "    </tr>\n",
       "    <tr>\n",
       "      <th>13</th>\n",
       "      <td>REJECTED</td>\n",
       "      <td>REJECTED</td>\n",
       "    </tr>\n",
       "    <tr>\n",
       "      <th>14</th>\n",
       "      <td>WAITING_FOR_LOCAL_OPS_MD_DECISION</td>\n",
       "      <td>UNDER_PROCESS</td>\n",
       "    </tr>\n",
       "    <tr>\n",
       "      <th>15</th>\n",
       "      <td>NO_CLAIM_RAISED</td>\n",
       "      <td>NOT_CLAIMED</td>\n",
       "    </tr>\n",
       "    <tr>\n",
       "      <th>16</th>\n",
       "      <td>NO_CLAIM_RAISED</td>\n",
       "      <td>NOT_CLAIMED</td>\n",
       "    </tr>\n",
       "    <tr>\n",
       "      <th>17</th>\n",
       "      <td>NO_CLAIM_RAISED</td>\n",
       "      <td>NOT_CLAIMED</td>\n",
       "    </tr>\n",
       "    <tr>\n",
       "      <th>18</th>\n",
       "      <td>NO_CLAIM_RAISED</td>\n",
       "      <td>NOT_CLAIMED</td>\n",
       "    </tr>\n",
       "    <tr>\n",
       "      <th>19</th>\n",
       "      <td>NO_CLAIM_RAISED</td>\n",
       "      <td>NOT_CLAIMED</td>\n",
       "    </tr>\n",
       "  </tbody>\n",
       "</table>\n",
       "</div>"
      ],
      "text/plain": [
       "                         claim_status   short_status\n",
       "0                     NO_CLAIM_RAISED    NOT_CLAIMED\n",
       "1                     NO_CLAIM_RAISED    NOT_CLAIMED\n",
       "2                            REJECTED       REJECTED\n",
       "3                     NO_CLAIM_RAISED    NOT_CLAIMED\n",
       "4                     NO_CLAIM_RAISED    NOT_CLAIMED\n",
       "5                     NO_CLAIM_RAISED    NOT_CLAIMED\n",
       "6                 MORE_PROOF_RECEIVED  UNDER_PROCESS\n",
       "7                     NO_CLAIM_RAISED    NOT_CLAIMED\n",
       "8                     NO_CLAIM_RAISED    NOT_CLAIMED\n",
       "9              CLOSED_FULLY_PROCESSED     CLAIM_PAID\n",
       "10                    NO_CLAIM_RAISED    NOT_CLAIMED\n",
       "11                           REJECTED       REJECTED\n",
       "12                    NO_CLAIM_RAISED    NOT_CLAIMED\n",
       "13                           REJECTED       REJECTED\n",
       "14  WAITING_FOR_LOCAL_OPS_MD_DECISION  UNDER_PROCESS\n",
       "15                    NO_CLAIM_RAISED    NOT_CLAIMED\n",
       "16                    NO_CLAIM_RAISED    NOT_CLAIMED\n",
       "17                    NO_CLAIM_RAISED    NOT_CLAIMED\n",
       "18                    NO_CLAIM_RAISED    NOT_CLAIMED\n",
       "19                    NO_CLAIM_RAISED    NOT_CLAIMED"
      ]
     },
     "execution_count": 1228,
     "metadata": {},
     "output_type": "execute_result"
    }
   ],
   "source": [
    "df_master[['claim_status', 'short_status']].head(20)"
   ]
  },
  {
   "cell_type": "code",
   "execution_count": 1238,
   "metadata": {},
   "outputs": [
    {
     "data": {
      "text/plain": [
       "short_status\n",
       "CLAIM_PAID         21545408.39\n",
       "NOT_CLAIMED               0.00\n",
       "NO_COMPENSATION        2254.87\n",
       "REJECTED                  0.00\n",
       "UNDER_PROCESS       3576597.35\n",
       "Name: refund_amount, dtype: float64"
      ]
     },
     "execution_count": 1238,
     "metadata": {},
     "output_type": "execute_result"
    }
   ],
   "source": [
    "df_master.groupby(['short_status'])['refund_amount'].sum().round(2)"
   ]
  },
  {
   "cell_type": "code",
   "execution_count": 1239,
   "metadata": {},
   "outputs": [
    {
     "data": {
      "text/plain": [
       "short_status\n",
       "CLAIM_PAID         17376714.39\n",
       "NOT_CLAIMED               0.00\n",
       "NO_COMPENSATION     4963609.40\n",
       "REJECTED            4601123.91\n",
       "UNDER_PROCESS       1517805.35\n",
       "Name: voucher_amount, dtype: float64"
      ]
     },
     "execution_count": 1239,
     "metadata": {},
     "output_type": "execute_result"
    }
   ],
   "source": [
    "df_master.groupby(['short_status'])['voucher_amount'].sum().round(2)"
   ]
  },
  {
   "cell_type": "code",
   "execution_count": 1242,
   "metadata": {},
   "outputs": [
    {
     "data": {
      "text/plain": [
       "0.0"
      ]
     },
     "execution_count": 1242,
     "metadata": {},
     "output_type": "execute_result"
    }
   ],
   "source": [
    "df_master[df_master['full_refunds']==1]['voucher_amount'].sum()"
   ]
  },
  {
   "cell_type": "code",
   "execution_count": null,
   "metadata": {},
   "outputs": [],
   "source": []
  },
  {
   "cell_type": "code",
   "execution_count": null,
   "metadata": {},
   "outputs": [],
   "source": []
  },
  {
   "cell_type": "code",
   "execution_count": 1235,
   "metadata": {},
   "outputs": [
    {
     "data": {
      "text/plain": [
       "<matplotlib.axes._subplots.AxesSubplot at 0x7fe6bb4ebc40>"
      ]
     },
     "execution_count": 1235,
     "metadata": {},
     "output_type": "execute_result"
    },
    {
     "data": {
      "image/png": "[encoded data removed]",
      "text/plain": [
       "<Figure size 432x288 with 1 Axes>"
      ]
     },
     "metadata": {
      "needs_background": "light"
     },
     "output_type": "display_data"
    }
   ],
   "source": [
    "df_master.groupby(['short_status'])['refund_amount'].sum().round(2).plot(kind='barh')"
   ]
  },
  {
   "cell_type": "code",
   "execution_count": 1231,
   "metadata": {},
   "outputs": [
    {
     "data": {
      "text/plain": [
       "short_status\n",
       "CLAIM_PAID          7824\n",
       "NOT_CLAIMED        50530\n",
       "NO_COMPENSATION     4180\n",
       "REJECTED            4755\n",
       "UNDER_PROCESS       2262\n",
       "Name: car_id, dtype: int64"
      ]
     },
     "execution_count": 1231,
     "metadata": {},
     "output_type": "execute_result"
    }
   ],
   "source": [
    "df_master.groupby(['short_status'])['car_id'].count()"
   ]
  },
  {
   "cell_type": "code",
   "execution_count": 1236,
   "metadata": {},
   "outputs": [
    {
     "data": {
      "text/plain": [
       "<matplotlib.axes._subplots.AxesSubplot at 0x7fe6bb5049d0>"
      ]
     },
     "execution_count": 1236,
     "metadata": {},
     "output_type": "execute_result"
    },
    {
     "data": {
      "image/png": "[encoded data removed]",
      "text/plain": [
       "<Figure size 432x288 with 1 Axes>"
      ]
     },
     "metadata": {
      "needs_background": "light"
     },
     "output_type": "display_data"
    }
   ],
   "source": [
    "df_master.groupby(['short_status'])['car_id'].count().plot(kind='barh')"
   ]
  },
  {
   "cell_type": "code",
   "execution_count": null,
   "metadata": {},
   "outputs": [],
   "source": []
  }
 ],
 "metadata": {
  "kernelspec": {
   "display_name": "Python 3",
   "language": "python",
   "name": "python3"
  },
  "language_info": {
   "codemirror_mode": {
    "name": "ipython",
    "version": 3
   },
   "file_extension": ".py",
   "mimetype": "text/x-python",
   "name": "python",
   "nbconvert_exporter": "python",
   "pygments_lexer": "ipython3",
   "version": "3.8.3"
  }
 },
 "nbformat": 4,
 "nbformat_minor": 4
}
